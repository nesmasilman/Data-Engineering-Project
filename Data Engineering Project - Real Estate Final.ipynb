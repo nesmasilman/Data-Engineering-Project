{
 "cells": [
  {
   "cell_type": "markdown",
   "id": "bfb32634",
   "metadata": {},
   "source": [
    "# Real estate prices analysis and prediction\n",
    "#### Prepared by: \n",
    "- Ahmed\n",
    "- Hatem\n",
    "- Nesma"
   ]
  },
  {
   "cell_type": "markdown",
   "id": "af8ce494",
   "metadata": {},
   "source": [
    "#### Introduction\n",
    "(Nesma)"
   ]
  },
  {
   "cell_type": "markdown",
   "id": "96350e81",
   "metadata": {},
   "source": [
    "In Egypt, real-estate trade is one of the major investment methods that people usually choose to protect the value of their money savings. Egyptians consider it a robust way to protect their money value against currency inflation. In many cities, people even take pride in being owners of houses.\n",
    "\n",
    "\n",
    "In this project, we decided to dig deep in the real estate market to analyze the data available and answer some questions we had regarding the real-estate market in Egypt, below are our questions:\n",
    "\n",
    "\n",
    "\n",
    "1. What are the most important factors that affect the house price?\n",
    "\n",
    "2. Seasonality behavior. Is there certain months that have higher sales trend over the other months?\n",
    "\n",
    "3. Are there certain areas that people prefer to buy houses in?\n",
    "\n",
    "4. Do Egyptians prefer luxious houses or economic houses?"
   ]
  },
  {
   "cell_type": "markdown",
   "id": "fc88c72d",
   "metadata": {},
   "source": [
    "#### The Dataset\n",
    "(Nesma)"
   ]
  },
  {
   "cell_type": "markdown",
   "id": "a8c51437",
   "metadata": {},
   "source": [
    "We decided to retrieve the required data from the famous Egyptian real estate ads website \"aqarmap\" that people use to buy and sell real-estate. Because it is widely known among Egyptians and we thought that this means it will include enough data that can help us answer our questions (There are 2 Million consumers that use Aqarmap every month according to the linked source:\n",
    "https://i.aqarmap.com/trends/aqarmap-trends-2019-en.pdf).\n",
    "\n",
    "To retrieve the data, I used the readily available Web Scraping tool downloaded from \"https://www.parsehub.com/\".\n",
    "Our team (Ahmed, Hatem and me) agreed to limit our analysis to apartments in Greater Cairo only, because it has dense population as compared to other governorates. I sorted the data by \"Newest First\" to work on fresh recent records.\n",
    "\n",
    "After refining the search criteria in the website, it showed that there are 75,702 ads that meets this criteria.\n",
    "\n",
    "![\"Drawing\"](P4.png)"
   ]
  },
  {
   "cell_type": "markdown",
   "id": "aad23820",
   "metadata": {},
   "source": [
    "However, the scraping tool returned around 300 records only. By checking the results returned from the website and using the \"Next\" button, I found that the last page was #20. Knowing that each page contains 15 ad, then the data is around 300. which nearly matches the data retrieved from scraping.\n",
    "\n",
    "![\"Drawing\"](P3.png)\n",
    "\n",
    "I tried another search that included all governorates and it also returned 20 pages only, which means that this is the maximum number of pages the site displays for any search.\n",
    "\n",
    "I wanted to add more data, so I made another scraping after adding \"automatic sort\" to the search.\n",
    "\n",
    "let's now check the data!"
   ]
  },
  {
   "cell_type": "markdown",
   "id": "f3c90214",
   "metadata": {},
   "source": [
    "#### Checking the data\n",
    "(Nesma)"
   ]
  },
  {
   "cell_type": "markdown",
   "id": "6dcc8e0f",
   "metadata": {},
   "source": [
    "* Please note that the scrapped data was returned in 3 separate files.\n",
    "* While using the scraping tool, I selected the summary of each ad from the outer page, and then opended each ad to get its URL and details. In this analysis, We will focus on the details, while the summary won't be important.\n",
    "\n",
    "![\"Drawing\"](p5.png)"
   ]
  },
  {
   "cell_type": "code",
   "execution_count": 1,
   "id": "b3410055",
   "metadata": {},
   "outputs": [],
   "source": [
    "# Let's start by importing all libraries used in our analysis\n",
    "\n",
    "import pandas as pd\n",
    "import numpy as np\n",
    "import matplotlib.pyplot as plt"
   ]
  },
  {
   "cell_type": "code",
   "execution_count": 2,
   "id": "3c534e47",
   "metadata": {},
   "outputs": [
    {
     "data": {
      "text/html": [
       "<div>\n",
       "<style scoped>\n",
       "    .dataframe tbody tr th:only-of-type {\n",
       "        vertical-align: middle;\n",
       "    }\n",
       "\n",
       "    .dataframe tbody tr th {\n",
       "        vertical-align: top;\n",
       "    }\n",
       "\n",
       "    .dataframe thead th {\n",
       "        text-align: right;\n",
       "    }\n",
       "</style>\n",
       "<table border=\"1\" class=\"dataframe\">\n",
       "  <thead>\n",
       "    <tr style=\"text-align: right;\">\n",
       "      <th></th>\n",
       "      <th>Summary_name</th>\n",
       "      <th>Summary_url</th>\n",
       "      <th>Summary_Floor_No</th>\n",
       "      <th>Summary_No_Rooms</th>\n",
       "      <th>Summary_No_Bathrooms</th>\n",
       "      <th>Summary_Area_m2</th>\n",
       "      <th>Summary_Add_ID</th>\n",
       "      <th>Summary_Publishing_Date</th>\n",
       "      <th>Summary_Price_EGP</th>\n",
       "      <th>Summary_Seller_Type</th>\n",
       "      <th>Summary_Price_P_M</th>\n",
       "    </tr>\n",
       "  </thead>\n",
       "  <tbody>\n",
       "    <tr>\n",
       "      <th>0</th>\n",
       "      <td>شقة للبيع مكان مميز جدااا\\n6th of October, Gre...</td>\n",
       "      <td>https://aqarmap.com.eg/en/listing/3133778-for-...</td>\n",
       "      <td>4</td>\n",
       "      <td>4</td>\n",
       "      <td>2</td>\n",
       "      <td>245 M²</td>\n",
       "      <td>EG-3133778</td>\n",
       "      <td>06/01/2022</td>\n",
       "      <td>2,000,000 EGP</td>\n",
       "      <td>Property Owner</td>\n",
       "      <td>8,163 EGP/M²</td>\n",
       "    </tr>\n",
       "    <tr>\n",
       "      <th>1</th>\n",
       "      <td>شقه للبيع في حي 12مج4 أكتوبر\\n6th of October, ...</td>\n",
       "      <td>https://aqarmap.com.eg/en/listing/3133773-for-...</td>\n",
       "      <td>3</td>\n",
       "      <td>2</td>\n",
       "      <td>1</td>\n",
       "      <td>84 M²</td>\n",
       "      <td>EG-3133773</td>\n",
       "      <td>06/01/2022</td>\n",
       "      <td>400,000 EGP</td>\n",
       "      <td>Property Owner</td>\n",
       "      <td>4,762 EGP/M²</td>\n",
       "    </tr>\n",
       "  </tbody>\n",
       "</table>\n",
       "</div>"
      ],
      "text/plain": [
       "                                        Summary_name  \\\n",
       "0  شقة للبيع مكان مميز جدااا\\n6th of October, Gre...   \n",
       "1  شقه للبيع في حي 12مج4 أكتوبر\\n6th of October, ...   \n",
       "\n",
       "                                         Summary_url Summary_Floor_No  \\\n",
       "0  https://aqarmap.com.eg/en/listing/3133778-for-...                4   \n",
       "1  https://aqarmap.com.eg/en/listing/3133773-for-...                3   \n",
       "\n",
       "  Summary_No_Rooms Summary_No_Bathrooms Summary_Area_m2 Summary_Add_ID  \\\n",
       "0                4                    2          245 M²     EG-3133778   \n",
       "1                2                    1           84 M²     EG-3133773   \n",
       "\n",
       "  Summary_Publishing_Date Summary_Price_EGP Summary_Seller_Type  \\\n",
       "0              06/01/2022     2,000,000 EGP      Property Owner   \n",
       "1              06/01/2022       400,000 EGP      Property Owner   \n",
       "\n",
       "  Summary_Price_P_M  \n",
       "0      8,163 EGP/M²  \n",
       "1      4,762 EGP/M²  "
      ]
     },
     "execution_count": 2,
     "metadata": {},
     "output_type": "execute_result"
    }
   ],
   "source": [
    "# Now let's create a dataset from the first file and take a look at the first 2 rows\n",
    "\n",
    "df_a= pd.read_csv('1_run_results.csv')\n",
    "\n",
    "df_a.head(2)"
   ]
  },
  {
   "cell_type": "code",
   "execution_count": 3,
   "id": "eb219406",
   "metadata": {
    "scrolled": true
   },
   "outputs": [
    {
     "data": {
      "text/html": [
       "<div>\n",
       "<style scoped>\n",
       "    .dataframe tbody tr th:only-of-type {\n",
       "        vertical-align: middle;\n",
       "    }\n",
       "\n",
       "    .dataframe tbody tr th {\n",
       "        vertical-align: top;\n",
       "    }\n",
       "\n",
       "    .dataframe thead th {\n",
       "        text-align: right;\n",
       "    }\n",
       "</style>\n",
       "<table border=\"1\" class=\"dataframe\">\n",
       "  <thead>\n",
       "    <tr style=\"text-align: right;\">\n",
       "      <th></th>\n",
       "      <th>Summary_name</th>\n",
       "      <th>Summary_url</th>\n",
       "      <th>Summary_Floor_No</th>\n",
       "      <th>Summary_No_Rooms</th>\n",
       "      <th>Summary_No_Bathrooms</th>\n",
       "      <th>Summary_Area_m2</th>\n",
       "      <th>Summary_Add_ID</th>\n",
       "      <th>Summary_Publishing_Date</th>\n",
       "      <th>Summary_Price_EGP</th>\n",
       "      <th>Summary_Seller_Type</th>\n",
       "      <th>Summary_Price_P_M</th>\n",
       "    </tr>\n",
       "  </thead>\n",
       "  <tbody>\n",
       "    <tr>\n",
       "      <th>0</th>\n",
       "      <td>Corner Penthouse Apartment in Cairo University...</td>\n",
       "      <td>https://aqarmap.com.eg/en/listing/3133147-for-...</td>\n",
       "      <td>4</td>\n",
       "      <td>4.0</td>\n",
       "      <td>4</td>\n",
       "      <td>2022</td>\n",
       "      <td>SEMI_FINISHED</td>\n",
       "      <td>Corner</td>\n",
       "      <td>350 M²</td>\n",
       "      <td>EG-3133147</td>\n",
       "      <td>5/1/2022</td>\n",
       "    </tr>\n",
       "    <tr>\n",
       "      <th>1</th>\n",
       "      <td>Apartments For sale in Dar Misr El Koronfel\\nد...</td>\n",
       "      <td>https://aqarmap.com.eg/en/listing/3133145-for-...</td>\n",
       "      <td>4</td>\n",
       "      <td>2.0</td>\n",
       "      <td>2</td>\n",
       "      <td>2022</td>\n",
       "      <td>LUX</td>\n",
       "      <td>Other</td>\n",
       "      <td>130 M²</td>\n",
       "      <td>Apartments For sale in Dar Misr El Koronfel</td>\n",
       "      <td>5/1/2022</td>\n",
       "    </tr>\n",
       "  </tbody>\n",
       "</table>\n",
       "</div>"
      ],
      "text/plain": [
       "                                        Summary_name  \\\n",
       "0  Corner Penthouse Apartment in Cairo University...   \n",
       "1  Apartments For sale in Dar Misr El Koronfel\\nد...   \n",
       "\n",
       "                                         Summary_url Summary_Floor_No  \\\n",
       "0  https://aqarmap.com.eg/en/listing/3133147-for-...                4   \n",
       "1  https://aqarmap.com.eg/en/listing/3133145-for-...                4   \n",
       "\n",
       "   Summary_No_Rooms Summary_No_Bathrooms Summary_Area_m2 Summary_Add_ID  \\\n",
       "0               4.0                    4            2022  SEMI_FINISHED   \n",
       "1               2.0                    2            2022            LUX   \n",
       "\n",
       "  Summary_Publishing_Date Summary_Price_EGP  \\\n",
       "0                  Corner            350 M²   \n",
       "1                   Other            130 M²   \n",
       "\n",
       "                           Summary_Seller_Type Summary_Price_P_M  \n",
       "0                                   EG-3133147          5/1/2022  \n",
       "1  Apartments For sale in Dar Misr El Koronfel          5/1/2022  "
      ]
     },
     "execution_count": 3,
     "metadata": {},
     "output_type": "execute_result"
    }
   ],
   "source": [
    "# Next, we will create a dataset from the second file\n",
    "\n",
    "df_b= pd.read_csv('2_run_results.csv')\n",
    "\n",
    "df_b.head(2)"
   ]
  },
  {
   "cell_type": "code",
   "execution_count": 4,
   "id": "a8829afb",
   "metadata": {},
   "outputs": [
    {
     "data": {
      "text/html": [
       "<div>\n",
       "<style scoped>\n",
       "    .dataframe tbody tr th:only-of-type {\n",
       "        vertical-align: middle;\n",
       "    }\n",
       "\n",
       "    .dataframe tbody tr th {\n",
       "        vertical-align: top;\n",
       "    }\n",
       "\n",
       "    .dataframe thead th {\n",
       "        text-align: right;\n",
       "    }\n",
       "</style>\n",
       "<table border=\"1\" class=\"dataframe\">\n",
       "  <thead>\n",
       "    <tr style=\"text-align: right;\">\n",
       "      <th></th>\n",
       "      <th>Summary_name</th>\n",
       "      <th>Summary_url</th>\n",
       "      <th>Summary_Floor_No</th>\n",
       "      <th>Summary_No_Rooms</th>\n",
       "      <th>Summary_No_Bathrooms</th>\n",
       "      <th>Summary_Area_m2</th>\n",
       "      <th>Summary_Add_ID</th>\n",
       "      <th>Summary_Publishing_Date</th>\n",
       "      <th>Summary_Price_EGP</th>\n",
       "      <th>Summary_Seller_Type</th>\n",
       "      <th>Summary_Price_P_M</th>\n",
       "    </tr>\n",
       "  </thead>\n",
       "  <tbody>\n",
       "    <tr>\n",
       "      <th>0</th>\n",
       "      <td>Apartments For sale in Second Neighborhood\\nال...</td>\n",
       "      <td>https://aqarmap.com.eg/en/listing/3126749-for-...</td>\n",
       "      <td>8</td>\n",
       "      <td>2</td>\n",
       "      <td>1</td>\n",
       "      <td>2024</td>\n",
       "      <td>SEMI_FINISHED</td>\n",
       "      <td>Main Street</td>\n",
       "      <td>100 M²</td>\n",
       "      <td>Apartments For sale in Second Neighborhood</td>\n",
       "      <td>02/01/2022</td>\n",
       "    </tr>\n",
       "    <tr>\n",
       "      <th>1</th>\n",
       "      <td>Apartments For sale in Investors Area\\nمنطقة ا...</td>\n",
       "      <td>https://aqarmap.com.eg/en/listing/3102080-for-...</td>\n",
       "      <td>3</td>\n",
       "      <td>3</td>\n",
       "      <td>3</td>\n",
       "      <td>SEMI_FINISHED</td>\n",
       "      <td>Garden</td>\n",
       "      <td>173 M²</td>\n",
       "      <td>EG-3102080</td>\n",
       "      <td>16/12/2021</td>\n",
       "      <td>2,000,000 EGP</td>\n",
       "    </tr>\n",
       "  </tbody>\n",
       "</table>\n",
       "</div>"
      ],
      "text/plain": [
       "                                        Summary_name  \\\n",
       "0  Apartments For sale in Second Neighborhood\\nال...   \n",
       "1  Apartments For sale in Investors Area\\nمنطقة ا...   \n",
       "\n",
       "                                         Summary_url Summary_Floor_No  \\\n",
       "0  https://aqarmap.com.eg/en/listing/3126749-for-...                8   \n",
       "1  https://aqarmap.com.eg/en/listing/3102080-for-...                3   \n",
       "\n",
       "  Summary_No_Rooms Summary_No_Bathrooms Summary_Area_m2 Summary_Add_ID  \\\n",
       "0                2                    1            2024  SEMI_FINISHED   \n",
       "1                3                    3   SEMI_FINISHED         Garden   \n",
       "\n",
       "  Summary_Publishing_Date Summary_Price_EGP  \\\n",
       "0             Main Street            100 M²   \n",
       "1                  173 M²        EG-3102080   \n",
       "\n",
       "                          Summary_Seller_Type Summary_Price_P_M  \n",
       "0  Apartments For sale in Second Neighborhood        02/01/2022  \n",
       "1                                  16/12/2021     2,000,000 EGP  "
      ]
     },
     "execution_count": 4,
     "metadata": {},
     "output_type": "execute_result"
    }
   ],
   "source": [
    "# Finally, we will create a dataset from the third file\n",
    "\n",
    "df_c= pd.read_csv('3_run_results.csv')\n",
    "\n",
    "df_c.head(2)"
   ]
  },
  {
   "cell_type": "markdown",
   "id": "ed3b3ca4",
   "metadata": {},
   "source": [
    "Since the same tool was used to retrieve all files, then we are confident that the columns ordering is the same\n",
    "in all of them. Now let's merge all datasets."
   ]
  },
  {
   "cell_type": "code",
   "execution_count": 5,
   "id": "b5d1b7d2",
   "metadata": {},
   "outputs": [
    {
     "data": {
      "text/plain": [
       "436"
      ]
     },
     "execution_count": 5,
     "metadata": {},
     "output_type": "execute_result"
    }
   ],
   "source": [
    "df_new= pd.concat([df_a,df_b, df_c])\n",
    "len(df_new)"
   ]
  },
  {
   "cell_type": "code",
   "execution_count": 6,
   "id": "e0697d36",
   "metadata": {},
   "outputs": [
    {
     "data": {
      "text/plain": [
       "188"
      ]
     },
     "execution_count": 6,
     "metadata": {},
     "output_type": "execute_result"
    }
   ],
   "source": [
    "len(df_a)"
   ]
  },
  {
   "cell_type": "code",
   "execution_count": 7,
   "id": "5c0eac90",
   "metadata": {},
   "outputs": [
    {
     "data": {
      "text/plain": [
       "60"
      ]
     },
     "execution_count": 7,
     "metadata": {},
     "output_type": "execute_result"
    }
   ],
   "source": [
    "len(df_b)"
   ]
  },
  {
   "cell_type": "code",
   "execution_count": 8,
   "id": "359a07d6",
   "metadata": {},
   "outputs": [
    {
     "data": {
      "text/plain": [
       "188"
      ]
     },
     "execution_count": 8,
     "metadata": {},
     "output_type": "execute_result"
    }
   ],
   "source": [
    "len(df_c)"
   ]
  },
  {
   "cell_type": "markdown",
   "id": "d7367b40",
   "metadata": {},
   "source": [
    "Now that our dataset is available, let's start our cleaning!"
   ]
  },
  {
   "cell_type": "markdown",
   "id": "7b3bb19a",
   "metadata": {},
   "source": [
    "#### Preprocessing the data\n",
    "(Nesma)"
   ]
  },
  {
   "cell_type": "code",
   "execution_count": 9,
   "id": "c83fa575",
   "metadata": {},
   "outputs": [
    {
     "data": {
      "text/html": [
       "<div>\n",
       "<style scoped>\n",
       "    .dataframe tbody tr th:only-of-type {\n",
       "        vertical-align: middle;\n",
       "    }\n",
       "\n",
       "    .dataframe tbody tr th {\n",
       "        vertical-align: top;\n",
       "    }\n",
       "\n",
       "    .dataframe thead th {\n",
       "        text-align: right;\n",
       "    }\n",
       "</style>\n",
       "<table border=\"1\" class=\"dataframe\">\n",
       "  <thead>\n",
       "    <tr style=\"text-align: right;\">\n",
       "      <th></th>\n",
       "      <th>Summary_name</th>\n",
       "      <th>Summary_url</th>\n",
       "      <th>Summary_Floor_No</th>\n",
       "      <th>Summary_No_Rooms</th>\n",
       "      <th>Summary_No_Bathrooms</th>\n",
       "      <th>Summary_Area_m2</th>\n",
       "      <th>Summary_Add_ID</th>\n",
       "      <th>Summary_Publishing_Date</th>\n",
       "      <th>Summary_Price_EGP</th>\n",
       "      <th>Summary_Seller_Type</th>\n",
       "      <th>Summary_Price_P_M</th>\n",
       "    </tr>\n",
       "  </thead>\n",
       "  <tbody>\n",
       "    <tr>\n",
       "      <th>0</th>\n",
       "      <td>شقة للبيع مكان مميز جدااا\\n6th of October, Gre...</td>\n",
       "      <td>https://aqarmap.com.eg/en/listing/3133778-for-...</td>\n",
       "      <td>4</td>\n",
       "      <td>4</td>\n",
       "      <td>2</td>\n",
       "      <td>245 M²</td>\n",
       "      <td>EG-3133778</td>\n",
       "      <td>06/01/2022</td>\n",
       "      <td>2,000,000 EGP</td>\n",
       "      <td>Property Owner</td>\n",
       "      <td>8,163 EGP/M²</td>\n",
       "    </tr>\n",
       "    <tr>\n",
       "      <th>1</th>\n",
       "      <td>شقه للبيع في حي 12مج4 أكتوبر\\n6th of October, ...</td>\n",
       "      <td>https://aqarmap.com.eg/en/listing/3133773-for-...</td>\n",
       "      <td>3</td>\n",
       "      <td>2</td>\n",
       "      <td>1</td>\n",
       "      <td>84 M²</td>\n",
       "      <td>EG-3133773</td>\n",
       "      <td>06/01/2022</td>\n",
       "      <td>400,000 EGP</td>\n",
       "      <td>Property Owner</td>\n",
       "      <td>4,762 EGP/M²</td>\n",
       "    </tr>\n",
       "    <tr>\n",
       "      <th>2</th>\n",
       "      <td>شقه الترا لوكس\\nHamad Agami St., Kafr Tuhurmos...</td>\n",
       "      <td>https://aqarmap.com.eg/en/listing/3133772-for-...</td>\n",
       "      <td>5</td>\n",
       "      <td>3</td>\n",
       "      <td>1</td>\n",
       "      <td>110 M²</td>\n",
       "      <td>EG-3133772</td>\n",
       "      <td>06/01/2022</td>\n",
       "      <td>260,000 EGP</td>\n",
       "      <td>شقه الترا لوكس</td>\n",
       "      <td>2,364 EGP/M²</td>\n",
       "    </tr>\n",
       "    <tr>\n",
       "      <th>3</th>\n",
       "      <td>شقة للبيع\\nNasr City, Greater Cairo\\n101 M² 4 ...</td>\n",
       "      <td>https://aqarmap.com.eg/en/listing/3133770-for-...</td>\n",
       "      <td>3</td>\n",
       "      <td>4</td>\n",
       "      <td>1</td>\n",
       "      <td>101 M²</td>\n",
       "      <td>EG-3133770</td>\n",
       "      <td>06/01/2022</td>\n",
       "      <td>650,000 EGP</td>\n",
       "      <td>Property Owner</td>\n",
       "      <td>6,436 EGP/M²</td>\n",
       "    </tr>\n",
       "    <tr>\n",
       "      <th>4</th>\n",
       "      <td>شقة للبيع في مدينة العبور\\nCompounds in El Obo...</td>\n",
       "      <td>https://aqarmap.com.eg/en/listing/3133768-for-...</td>\n",
       "      <td>2</td>\n",
       "      <td>1</td>\n",
       "      <td>68 M²</td>\n",
       "      <td>EG-3133768</td>\n",
       "      <td>06/01/2022</td>\n",
       "      <td>315,000 EGP</td>\n",
       "      <td>Property Owner</td>\n",
       "      <td>4,632 EGP/M²</td>\n",
       "      <td>NaN</td>\n",
       "    </tr>\n",
       "  </tbody>\n",
       "</table>\n",
       "</div>"
      ],
      "text/plain": [
       "                                        Summary_name  \\\n",
       "0  شقة للبيع مكان مميز جدااا\\n6th of October, Gre...   \n",
       "1  شقه للبيع في حي 12مج4 أكتوبر\\n6th of October, ...   \n",
       "2  شقه الترا لوكس\\nHamad Agami St., Kafr Tuhurmos...   \n",
       "3  شقة للبيع\\nNasr City, Greater Cairo\\n101 M² 4 ...   \n",
       "4  شقة للبيع في مدينة العبور\\nCompounds in El Obo...   \n",
       "\n",
       "                                         Summary_url Summary_Floor_No  \\\n",
       "0  https://aqarmap.com.eg/en/listing/3133778-for-...                4   \n",
       "1  https://aqarmap.com.eg/en/listing/3133773-for-...                3   \n",
       "2  https://aqarmap.com.eg/en/listing/3133772-for-...                5   \n",
       "3  https://aqarmap.com.eg/en/listing/3133770-for-...                3   \n",
       "4  https://aqarmap.com.eg/en/listing/3133768-for-...                2   \n",
       "\n",
       "  Summary_No_Rooms Summary_No_Bathrooms Summary_Area_m2 Summary_Add_ID  \\\n",
       "0                4                    2          245 M²     EG-3133778   \n",
       "1                2                    1           84 M²     EG-3133773   \n",
       "2                3                    1          110 M²     EG-3133772   \n",
       "3                4                    1          101 M²     EG-3133770   \n",
       "4                1                68 M²      EG-3133768     06/01/2022   \n",
       "\n",
       "  Summary_Publishing_Date Summary_Price_EGP Summary_Seller_Type  \\\n",
       "0              06/01/2022     2,000,000 EGP      Property Owner   \n",
       "1              06/01/2022       400,000 EGP      Property Owner   \n",
       "2              06/01/2022       260,000 EGP      شقه الترا لوكس   \n",
       "3              06/01/2022       650,000 EGP      Property Owner   \n",
       "4             315,000 EGP    Property Owner        4,632 EGP/M²   \n",
       "\n",
       "  Summary_Price_P_M  \n",
       "0      8,163 EGP/M²  \n",
       "1      4,762 EGP/M²  \n",
       "2      2,364 EGP/M²  \n",
       "3      6,436 EGP/M²  \n",
       "4               NaN  "
      ]
     },
     "execution_count": 9,
     "metadata": {},
     "output_type": "execute_result"
    }
   ],
   "source": [
    "df_new.head()"
   ]
  },
  {
   "cell_type": "markdown",
   "id": "f190a12d",
   "metadata": {},
   "source": [
    "Let's start by removing the duplicate rows. We can use the \"Summary_url\" column to remove the duplication because there will never be two ads with the same exact URL"
   ]
  },
  {
   "cell_type": "code",
   "execution_count": 10,
   "id": "9f0839d4",
   "metadata": {},
   "outputs": [
    {
     "data": {
      "text/html": [
       "<div>\n",
       "<style scoped>\n",
       "    .dataframe tbody tr th:only-of-type {\n",
       "        vertical-align: middle;\n",
       "    }\n",
       "\n",
       "    .dataframe tbody tr th {\n",
       "        vertical-align: top;\n",
       "    }\n",
       "\n",
       "    .dataframe thead th {\n",
       "        text-align: right;\n",
       "    }\n",
       "</style>\n",
       "<table border=\"1\" class=\"dataframe\">\n",
       "  <thead>\n",
       "    <tr style=\"text-align: right;\">\n",
       "      <th></th>\n",
       "      <th>Summary_name</th>\n",
       "      <th>Summary_url</th>\n",
       "      <th>Summary_Floor_No</th>\n",
       "      <th>Summary_No_Rooms</th>\n",
       "      <th>Summary_No_Bathrooms</th>\n",
       "      <th>Summary_Area_m2</th>\n",
       "      <th>Summary_Add_ID</th>\n",
       "      <th>Summary_Publishing_Date</th>\n",
       "      <th>Summary_Price_EGP</th>\n",
       "      <th>Summary_Seller_Type</th>\n",
       "      <th>Summary_Price_P_M</th>\n",
       "    </tr>\n",
       "  </thead>\n",
       "  <tbody>\n",
       "    <tr>\n",
       "      <th>0</th>\n",
       "      <td>شقة للبيع مكان مميز جدااا\\n6th of October, Gre...</td>\n",
       "      <td>https://aqarmap.com.eg/en/listing/3133778-for-...</td>\n",
       "      <td>4</td>\n",
       "      <td>4</td>\n",
       "      <td>2</td>\n",
       "      <td>245 M²</td>\n",
       "      <td>EG-3133778</td>\n",
       "      <td>06/01/2022</td>\n",
       "      <td>2,000,000 EGP</td>\n",
       "      <td>Property Owner</td>\n",
       "      <td>8,163 EGP/M²</td>\n",
       "    </tr>\n",
       "    <tr>\n",
       "      <th>1</th>\n",
       "      <td>شقه للبيع في حي 12مج4 أكتوبر\\n6th of October, ...</td>\n",
       "      <td>https://aqarmap.com.eg/en/listing/3133773-for-...</td>\n",
       "      <td>3</td>\n",
       "      <td>2</td>\n",
       "      <td>1</td>\n",
       "      <td>84 M²</td>\n",
       "      <td>EG-3133773</td>\n",
       "      <td>06/01/2022</td>\n",
       "      <td>400,000 EGP</td>\n",
       "      <td>Property Owner</td>\n",
       "      <td>4,762 EGP/M²</td>\n",
       "    </tr>\n",
       "    <tr>\n",
       "      <th>2</th>\n",
       "      <td>شقه الترا لوكس\\nHamad Agami St., Kafr Tuhurmos...</td>\n",
       "      <td>https://aqarmap.com.eg/en/listing/3133772-for-...</td>\n",
       "      <td>5</td>\n",
       "      <td>3</td>\n",
       "      <td>1</td>\n",
       "      <td>110 M²</td>\n",
       "      <td>EG-3133772</td>\n",
       "      <td>06/01/2022</td>\n",
       "      <td>260,000 EGP</td>\n",
       "      <td>شقه الترا لوكس</td>\n",
       "      <td>2,364 EGP/M²</td>\n",
       "    </tr>\n",
       "    <tr>\n",
       "      <th>3</th>\n",
       "      <td>شقة للبيع\\nNasr City, Greater Cairo\\n101 M² 4 ...</td>\n",
       "      <td>https://aqarmap.com.eg/en/listing/3133770-for-...</td>\n",
       "      <td>3</td>\n",
       "      <td>4</td>\n",
       "      <td>1</td>\n",
       "      <td>101 M²</td>\n",
       "      <td>EG-3133770</td>\n",
       "      <td>06/01/2022</td>\n",
       "      <td>650,000 EGP</td>\n",
       "      <td>Property Owner</td>\n",
       "      <td>6,436 EGP/M²</td>\n",
       "    </tr>\n",
       "    <tr>\n",
       "      <th>4</th>\n",
       "      <td>شقة للبيع في مدينة العبور\\nCompounds in El Obo...</td>\n",
       "      <td>https://aqarmap.com.eg/en/listing/3133768-for-...</td>\n",
       "      <td>2</td>\n",
       "      <td>1</td>\n",
       "      <td>68 M²</td>\n",
       "      <td>EG-3133768</td>\n",
       "      <td>06/01/2022</td>\n",
       "      <td>315,000 EGP</td>\n",
       "      <td>Property Owner</td>\n",
       "      <td>4,632 EGP/M²</td>\n",
       "      <td>NaN</td>\n",
       "    </tr>\n",
       "  </tbody>\n",
       "</table>\n",
       "</div>"
      ],
      "text/plain": [
       "                                        Summary_name  \\\n",
       "0  شقة للبيع مكان مميز جدااا\\n6th of October, Gre...   \n",
       "1  شقه للبيع في حي 12مج4 أكتوبر\\n6th of October, ...   \n",
       "2  شقه الترا لوكس\\nHamad Agami St., Kafr Tuhurmos...   \n",
       "3  شقة للبيع\\nNasr City, Greater Cairo\\n101 M² 4 ...   \n",
       "4  شقة للبيع في مدينة العبور\\nCompounds in El Obo...   \n",
       "\n",
       "                                         Summary_url Summary_Floor_No  \\\n",
       "0  https://aqarmap.com.eg/en/listing/3133778-for-...                4   \n",
       "1  https://aqarmap.com.eg/en/listing/3133773-for-...                3   \n",
       "2  https://aqarmap.com.eg/en/listing/3133772-for-...                5   \n",
       "3  https://aqarmap.com.eg/en/listing/3133770-for-...                3   \n",
       "4  https://aqarmap.com.eg/en/listing/3133768-for-...                2   \n",
       "\n",
       "  Summary_No_Rooms Summary_No_Bathrooms Summary_Area_m2 Summary_Add_ID  \\\n",
       "0                4                    2          245 M²     EG-3133778   \n",
       "1                2                    1           84 M²     EG-3133773   \n",
       "2                3                    1          110 M²     EG-3133772   \n",
       "3                4                    1          101 M²     EG-3133770   \n",
       "4                1                68 M²      EG-3133768     06/01/2022   \n",
       "\n",
       "  Summary_Publishing_Date Summary_Price_EGP Summary_Seller_Type  \\\n",
       "0              06/01/2022     2,000,000 EGP      Property Owner   \n",
       "1              06/01/2022       400,000 EGP      Property Owner   \n",
       "2              06/01/2022       260,000 EGP      شقه الترا لوكس   \n",
       "3              06/01/2022       650,000 EGP      Property Owner   \n",
       "4             315,000 EGP    Property Owner        4,632 EGP/M²   \n",
       "\n",
       "  Summary_Price_P_M  \n",
       "0      8,163 EGP/M²  \n",
       "1      4,762 EGP/M²  \n",
       "2      2,364 EGP/M²  \n",
       "3      6,436 EGP/M²  \n",
       "4               NaN  "
      ]
     },
     "execution_count": 10,
     "metadata": {},
     "output_type": "execute_result"
    }
   ],
   "source": [
    "df=df_new.drop_duplicates(subset='Summary_url')\n",
    "df.head()"
   ]
  },
  {
   "cell_type": "code",
   "execution_count": 11,
   "id": "47a2c30f",
   "metadata": {},
   "outputs": [
    {
     "data": {
      "text/plain": [
       "428"
      ]
     },
     "execution_count": 11,
     "metadata": {},
     "output_type": "execute_result"
    }
   ],
   "source": [
    "len(df)"
   ]
  },
  {
   "cell_type": "markdown",
   "id": "f001420a",
   "metadata": {},
   "source": [
    "Now, let's check the data information to see if any column has a value that doesn't match the remaining values"
   ]
  },
  {
   "cell_type": "code",
   "execution_count": 12,
   "id": "eba29756",
   "metadata": {},
   "outputs": [
    {
     "name": "stdout",
     "output_type": "stream",
     "text": [
      "<class 'pandas.core.frame.DataFrame'>\n",
      "Int64Index: 428 entries, 0 to 187\n",
      "Data columns (total 11 columns):\n",
      " #   Column                   Non-Null Count  Dtype \n",
      "---  ------                   --------------  ----- \n",
      " 0   Summary_name             428 non-null    object\n",
      " 1   Summary_url              428 non-null    object\n",
      " 2   Summary_Floor_No         426 non-null    object\n",
      " 3   Summary_No_Rooms         426 non-null    object\n",
      " 4   Summary_No_Bathrooms     426 non-null    object\n",
      " 5   Summary_Area_m2          426 non-null    object\n",
      " 6   Summary_Add_ID           426 non-null    object\n",
      " 7   Summary_Publishing_Date  426 non-null    object\n",
      " 8   Summary_Price_EGP        426 non-null    object\n",
      " 9   Summary_Seller_Type      426 non-null    object\n",
      " 10  Summary_Price_P_M        412 non-null    object\n",
      "dtypes: object(11)\n",
      "memory usage: 40.1+ KB\n"
     ]
    }
   ],
   "source": [
    "df.info()"
   ]
  },
  {
   "cell_type": "markdown",
   "id": "e82a4d97",
   "metadata": {},
   "source": [
    "#### Two things to notice here:\n",
    "1. We need to get rid of any row that has missing or NA values across all the columns we are interested in.\n",
    "2. Although the majority of columns should include integers only, but it seems that they include string values which caused the data type to be  \"object\". So we need to check each column individually."
   ]
  },
  {
   "cell_type": "code",
   "execution_count": 13,
   "id": "6191bfb9",
   "metadata": {},
   "outputs": [
    {
     "data": {
      "text/html": [
       "<div>\n",
       "<style scoped>\n",
       "    .dataframe tbody tr th:only-of-type {\n",
       "        vertical-align: middle;\n",
       "    }\n",
       "\n",
       "    .dataframe tbody tr th {\n",
       "        vertical-align: top;\n",
       "    }\n",
       "\n",
       "    .dataframe thead th {\n",
       "        text-align: right;\n",
       "    }\n",
       "</style>\n",
       "<table border=\"1\" class=\"dataframe\">\n",
       "  <thead>\n",
       "    <tr style=\"text-align: right;\">\n",
       "      <th></th>\n",
       "      <th>Summary_name</th>\n",
       "      <th>Summary_url</th>\n",
       "      <th>Summary_Floor_No</th>\n",
       "      <th>Summary_No_Rooms</th>\n",
       "      <th>Summary_No_Bathrooms</th>\n",
       "      <th>Summary_Area_m2</th>\n",
       "      <th>Summary_Add_ID</th>\n",
       "      <th>Summary_Publishing_Date</th>\n",
       "      <th>Summary_Price_EGP</th>\n",
       "      <th>Summary_Seller_Type</th>\n",
       "      <th>Summary_Price_P_M</th>\n",
       "    </tr>\n",
       "  </thead>\n",
       "  <tbody>\n",
       "    <tr>\n",
       "      <th>0</th>\n",
       "      <td>شقة للبيع مكان مميز جدااا\\n6th of October, Gre...</td>\n",
       "      <td>https://aqarmap.com.eg/en/listing/3133778-for-...</td>\n",
       "      <td>4</td>\n",
       "      <td>4</td>\n",
       "      <td>2</td>\n",
       "      <td>245 M²</td>\n",
       "      <td>EG-3133778</td>\n",
       "      <td>06/01/2022</td>\n",
       "      <td>2,000,000 EGP</td>\n",
       "      <td>Property Owner</td>\n",
       "      <td>8,163 EGP/M²</td>\n",
       "    </tr>\n",
       "    <tr>\n",
       "      <th>1</th>\n",
       "      <td>شقه للبيع في حي 12مج4 أكتوبر\\n6th of October, ...</td>\n",
       "      <td>https://aqarmap.com.eg/en/listing/3133773-for-...</td>\n",
       "      <td>3</td>\n",
       "      <td>2</td>\n",
       "      <td>1</td>\n",
       "      <td>84 M²</td>\n",
       "      <td>EG-3133773</td>\n",
       "      <td>06/01/2022</td>\n",
       "      <td>400,000 EGP</td>\n",
       "      <td>Property Owner</td>\n",
       "      <td>4,762 EGP/M²</td>\n",
       "    </tr>\n",
       "  </tbody>\n",
       "</table>\n",
       "</div>"
      ],
      "text/plain": [
       "                                        Summary_name  \\\n",
       "0  شقة للبيع مكان مميز جدااا\\n6th of October, Gre...   \n",
       "1  شقه للبيع في حي 12مج4 أكتوبر\\n6th of October, ...   \n",
       "\n",
       "                                         Summary_url Summary_Floor_No  \\\n",
       "0  https://aqarmap.com.eg/en/listing/3133778-for-...                4   \n",
       "1  https://aqarmap.com.eg/en/listing/3133773-for-...                3   \n",
       "\n",
       "  Summary_No_Rooms Summary_No_Bathrooms Summary_Area_m2 Summary_Add_ID  \\\n",
       "0                4                    2          245 M²     EG-3133778   \n",
       "1                2                    1           84 M²     EG-3133773   \n",
       "\n",
       "  Summary_Publishing_Date Summary_Price_EGP Summary_Seller_Type  \\\n",
       "0              06/01/2022     2,000,000 EGP      Property Owner   \n",
       "1              06/01/2022       400,000 EGP      Property Owner   \n",
       "\n",
       "  Summary_Price_P_M  \n",
       "0      8,163 EGP/M²  \n",
       "1      4,762 EGP/M²  "
      ]
     },
     "execution_count": 13,
     "metadata": {},
     "output_type": "execute_result"
    }
   ],
   "source": [
    "# Let's drop the columns with NA values\n",
    "df1=df.dropna(axis=0, subset=df.columns[2:])\n",
    "df1.head(2)"
   ]
  },
  {
   "cell_type": "code",
   "execution_count": 14,
   "id": "6cdfff87",
   "metadata": {
    "scrolled": true
   },
   "outputs": [
    {
     "name": "stdout",
     "output_type": "stream",
     "text": [
      "<class 'pandas.core.frame.DataFrame'>\n",
      "Int64Index: 412 entries, 0 to 186\n",
      "Data columns (total 11 columns):\n",
      " #   Column                   Non-Null Count  Dtype \n",
      "---  ------                   --------------  ----- \n",
      " 0   Summary_name             412 non-null    object\n",
      " 1   Summary_url              412 non-null    object\n",
      " 2   Summary_Floor_No         412 non-null    object\n",
      " 3   Summary_No_Rooms         412 non-null    object\n",
      " 4   Summary_No_Bathrooms     412 non-null    object\n",
      " 5   Summary_Area_m2          412 non-null    object\n",
      " 6   Summary_Add_ID           412 non-null    object\n",
      " 7   Summary_Publishing_Date  412 non-null    object\n",
      " 8   Summary_Price_EGP        412 non-null    object\n",
      " 9   Summary_Seller_Type      412 non-null    object\n",
      " 10  Summary_Price_P_M        412 non-null    object\n",
      "dtypes: object(11)\n",
      "memory usage: 38.6+ KB\n"
     ]
    }
   ],
   "source": [
    "df1.info()"
   ]
  },
  {
   "cell_type": "markdown",
   "id": "6d813b43",
   "metadata": {},
   "source": [
    "Now we need to work on each column. Let's start by checking the \"Summary_Floor_No\" column"
   ]
  },
  {
   "cell_type": "code",
   "execution_count": 15,
   "id": "f0d68e66",
   "metadata": {
    "scrolled": false
   },
   "outputs": [
    {
     "data": {
      "text/plain": [
       "array(['4', '3', '5', '2', '8', '1', '9', '7', '6', 'SEMI_FINISHED',\n",
       "       'Ground', '10', '17', '11', '12', 'extra_super_lux',\n",
       "       'semi_finished'], dtype=object)"
      ]
     },
     "execution_count": 15,
     "metadata": {},
     "output_type": "execute_result"
    }
   ],
   "source": [
    "df1['Summary_Floor_No'].unique()"
   ]
  },
  {
   "cell_type": "markdown",
   "id": "95e8c0e1",
   "metadata": {},
   "source": [
    "We want to specify the rows with values of floor that are not-numeric. We can do this by sorting the values."
   ]
  },
  {
   "cell_type": "code",
   "execution_count": 16,
   "id": "b5f16a72",
   "metadata": {
    "scrolled": true
   },
   "outputs": [
    {
     "data": {
      "text/html": [
       "<div>\n",
       "<style scoped>\n",
       "    .dataframe tbody tr th:only-of-type {\n",
       "        vertical-align: middle;\n",
       "    }\n",
       "\n",
       "    .dataframe tbody tr th {\n",
       "        vertical-align: top;\n",
       "    }\n",
       "\n",
       "    .dataframe thead th {\n",
       "        text-align: right;\n",
       "    }\n",
       "</style>\n",
       "<table border=\"1\" class=\"dataframe\">\n",
       "  <thead>\n",
       "    <tr style=\"text-align: right;\">\n",
       "      <th></th>\n",
       "      <th>Summary_name</th>\n",
       "      <th>Summary_url</th>\n",
       "      <th>Summary_Floor_No</th>\n",
       "      <th>Summary_No_Rooms</th>\n",
       "      <th>Summary_No_Bathrooms</th>\n",
       "      <th>Summary_Area_m2</th>\n",
       "      <th>Summary_Add_ID</th>\n",
       "      <th>Summary_Publishing_Date</th>\n",
       "      <th>Summary_Price_EGP</th>\n",
       "      <th>Summary_Seller_Type</th>\n",
       "      <th>Summary_Price_P_M</th>\n",
       "    </tr>\n",
       "  </thead>\n",
       "  <tbody>\n",
       "    <tr>\n",
       "      <th>138</th>\n",
       "      <td>Duplex 161 M² Super lux in Monte Napoleone Com...</td>\n",
       "      <td>https://aqarmap.com.eg/en/listing/3096106-for-...</td>\n",
       "      <td>Ground</td>\n",
       "      <td>2</td>\n",
       "      <td>1</td>\n",
       "      <td>2025</td>\n",
       "      <td>SUPER_LUX</td>\n",
       "      <td>Garden</td>\n",
       "      <td>161 M²</td>\n",
       "      <td>Duplex 161 M² Super lux in Monte Napoleone Com...</td>\n",
       "      <td>12/12/2021</td>\n",
       "    </tr>\n",
       "    <tr>\n",
       "      <th>37</th>\n",
       "      <td>Own your apartment in New Capital -discount of...</td>\n",
       "      <td>https://aqarmap.com.eg/en/listing/3133072-for-...</td>\n",
       "      <td>Ground</td>\n",
       "      <td>2.0</td>\n",
       "      <td>2</td>\n",
       "      <td>2021</td>\n",
       "      <td>SEMI_FINISHED</td>\n",
       "      <td>Garden</td>\n",
       "      <td>127 M²</td>\n",
       "      <td>Own your apartment in New Capital -discount of...</td>\n",
       "      <td>5/1/2022</td>\n",
       "    </tr>\n",
       "    <tr>\n",
       "      <th>22</th>\n",
       "      <td>شقة 185 متر في كمبوند حياتي ريزيدنس نص تشطيب ب...</td>\n",
       "      <td>https://aqarmap.com.eg/en/listing/3133671-for-...</td>\n",
       "      <td>SEMI_FINISHED</td>\n",
       "      <td>Side Street</td>\n",
       "      <td>185 M²</td>\n",
       "      <td>EG-3133671</td>\n",
       "      <td>05/01/2022</td>\n",
       "      <td>2,000,000 EGP</td>\n",
       "      <td>Agent</td>\n",
       "      <td>شقة 185 متر في كمبوند حياتي ريزيدنس نص تشطيب ب...</td>\n",
       "      <td>10,811 EGP/M²</td>\n",
       "    </tr>\n",
       "    <tr>\n",
       "      <th>18</th>\n",
       "      <td>Direct from Owner\\nشقة تشطيب سوبر لوكس فى النر...</td>\n",
       "      <td>https://aqarmap.com.eg/en/listing/3128718-for-...</td>\n",
       "      <td>extra_super_lux</td>\n",
       "      <td>Side Street</td>\n",
       "      <td>200 M²</td>\n",
       "      <td>EG-3128718</td>\n",
       "      <td>03/01/2022</td>\n",
       "      <td>2,800,000 EGP</td>\n",
       "      <td>Property Owner</td>\n",
       "      <td>شقة تشطيب سوبر لوكس فى النرجس ١</td>\n",
       "      <td>Commercial Financing</td>\n",
       "    </tr>\n",
       "    <tr>\n",
       "      <th>165</th>\n",
       "      <td>شقة ٢٥٥م بالحي الثالث شرق ع الاوسط مباشرة\\nNei...</td>\n",
       "      <td>https://aqarmap.com.eg/en/listing/3090051-for-...</td>\n",
       "      <td>semi_finished</td>\n",
       "      <td>Main Street</td>\n",
       "      <td>255 M²</td>\n",
       "      <td>EG-3090051</td>\n",
       "      <td>08/12/2021</td>\n",
       "      <td>1,350,000 EGP</td>\n",
       "      <td>Agent</td>\n",
       "      <td>شقة ٢٥٥م بالحي الثالث شرق ع الاوسط مباشرة</td>\n",
       "      <td>5,294 EGP/M²</td>\n",
       "    </tr>\n",
       "  </tbody>\n",
       "</table>\n",
       "</div>"
      ],
      "text/plain": [
       "                                          Summary_name  \\\n",
       "138  Duplex 161 M² Super lux in Monte Napoleone Com...   \n",
       "37   Own your apartment in New Capital -discount of...   \n",
       "22   شقة 185 متر في كمبوند حياتي ريزيدنس نص تشطيب ب...   \n",
       "18   Direct from Owner\\nشقة تشطيب سوبر لوكس فى النر...   \n",
       "165  شقة ٢٥٥م بالحي الثالث شرق ع الاوسط مباشرة\\nNei...   \n",
       "\n",
       "                                           Summary_url Summary_Floor_No  \\\n",
       "138  https://aqarmap.com.eg/en/listing/3096106-for-...           Ground   \n",
       "37   https://aqarmap.com.eg/en/listing/3133072-for-...           Ground   \n",
       "22   https://aqarmap.com.eg/en/listing/3133671-for-...    SEMI_FINISHED   \n",
       "18   https://aqarmap.com.eg/en/listing/3128718-for-...  extra_super_lux   \n",
       "165  https://aqarmap.com.eg/en/listing/3090051-for-...    semi_finished   \n",
       "\n",
       "    Summary_No_Rooms Summary_No_Bathrooms Summary_Area_m2 Summary_Add_ID  \\\n",
       "138                2                    1            2025      SUPER_LUX   \n",
       "37               2.0                    2            2021  SEMI_FINISHED   \n",
       "22       Side Street               185 M²      EG-3133671     05/01/2022   \n",
       "18       Side Street               200 M²      EG-3128718     03/01/2022   \n",
       "165      Main Street               255 M²      EG-3090051     08/12/2021   \n",
       "\n",
       "    Summary_Publishing_Date Summary_Price_EGP  \\\n",
       "138                  Garden            161 M²   \n",
       "37                   Garden            127 M²   \n",
       "22            2,000,000 EGP             Agent   \n",
       "18            2,800,000 EGP    Property Owner   \n",
       "165           1,350,000 EGP             Agent   \n",
       "\n",
       "                                   Summary_Seller_Type     Summary_Price_P_M  \n",
       "138  Duplex 161 M² Super lux in Monte Napoleone Com...            12/12/2021  \n",
       "37   Own your apartment in New Capital -discount of...              5/1/2022  \n",
       "22   شقة 185 متر في كمبوند حياتي ريزيدنس نص تشطيب ب...         10,811 EGP/M²  \n",
       "18                     شقة تشطيب سوبر لوكس فى النرجس ١  Commercial Financing  \n",
       "165          شقة ٢٥٥م بالحي الثالث شرق ع الاوسط مباشرة          5,294 EGP/M²  "
      ]
     },
     "execution_count": 16,
     "metadata": {},
     "output_type": "execute_result"
    }
   ],
   "source": [
    "df2=df1.sort_values(by=\"Summary_Floor_No\")\n",
    "df2.tail(5)"
   ]
  },
  {
   "cell_type": "markdown",
   "id": "2abfdda0",
   "metadata": {},
   "source": [
    "For the last 3 rows, the data doesn't include information about the rooms or bathrooms, so we can drop them"
   ]
  },
  {
   "cell_type": "code",
   "execution_count": 17,
   "id": "a7d8ecee",
   "metadata": {},
   "outputs": [
    {
     "data": {
      "text/html": [
       "<div>\n",
       "<style scoped>\n",
       "    .dataframe tbody tr th:only-of-type {\n",
       "        vertical-align: middle;\n",
       "    }\n",
       "\n",
       "    .dataframe tbody tr th {\n",
       "        vertical-align: top;\n",
       "    }\n",
       "\n",
       "    .dataframe thead th {\n",
       "        text-align: right;\n",
       "    }\n",
       "</style>\n",
       "<table border=\"1\" class=\"dataframe\">\n",
       "  <thead>\n",
       "    <tr style=\"text-align: right;\">\n",
       "      <th></th>\n",
       "      <th>Summary_name</th>\n",
       "      <th>Summary_url</th>\n",
       "      <th>Summary_Floor_No</th>\n",
       "      <th>Summary_No_Rooms</th>\n",
       "      <th>Summary_No_Bathrooms</th>\n",
       "      <th>Summary_Area_m2</th>\n",
       "      <th>Summary_Add_ID</th>\n",
       "      <th>Summary_Publishing_Date</th>\n",
       "      <th>Summary_Price_EGP</th>\n",
       "      <th>Summary_Seller_Type</th>\n",
       "      <th>Summary_Price_P_M</th>\n",
       "    </tr>\n",
       "  </thead>\n",
       "  <tbody>\n",
       "    <tr>\n",
       "      <th>138</th>\n",
       "      <td>Duplex 161 M² Super lux in Monte Napoleone Com...</td>\n",
       "      <td>https://aqarmap.com.eg/en/listing/3096106-for-...</td>\n",
       "      <td>Ground</td>\n",
       "      <td>2</td>\n",
       "      <td>1</td>\n",
       "      <td>2025</td>\n",
       "      <td>SUPER_LUX</td>\n",
       "      <td>Garden</td>\n",
       "      <td>161 M²</td>\n",
       "      <td>Duplex 161 M² Super lux in Monte Napoleone Com...</td>\n",
       "      <td>12/12/2021</td>\n",
       "    </tr>\n",
       "    <tr>\n",
       "      <th>37</th>\n",
       "      <td>Own your apartment in New Capital -discount of...</td>\n",
       "      <td>https://aqarmap.com.eg/en/listing/3133072-for-...</td>\n",
       "      <td>Ground</td>\n",
       "      <td>2.0</td>\n",
       "      <td>2</td>\n",
       "      <td>2021</td>\n",
       "      <td>SEMI_FINISHED</td>\n",
       "      <td>Garden</td>\n",
       "      <td>127 M²</td>\n",
       "      <td>Own your apartment in New Capital -discount of...</td>\n",
       "      <td>5/1/2022</td>\n",
       "    </tr>\n",
       "  </tbody>\n",
       "</table>\n",
       "</div>"
      ],
      "text/plain": [
       "                                          Summary_name  \\\n",
       "138  Duplex 161 M² Super lux in Monte Napoleone Com...   \n",
       "37   Own your apartment in New Capital -discount of...   \n",
       "\n",
       "                                           Summary_url Summary_Floor_No  \\\n",
       "138  https://aqarmap.com.eg/en/listing/3096106-for-...           Ground   \n",
       "37   https://aqarmap.com.eg/en/listing/3133072-for-...           Ground   \n",
       "\n",
       "    Summary_No_Rooms Summary_No_Bathrooms Summary_Area_m2 Summary_Add_ID  \\\n",
       "138                2                    1            2025      SUPER_LUX   \n",
       "37               2.0                    2            2021  SEMI_FINISHED   \n",
       "\n",
       "    Summary_Publishing_Date Summary_Price_EGP  \\\n",
       "138                  Garden            161 M²   \n",
       "37                   Garden            127 M²   \n",
       "\n",
       "                                   Summary_Seller_Type Summary_Price_P_M  \n",
       "138  Duplex 161 M² Super lux in Monte Napoleone Com...        12/12/2021  \n",
       "37   Own your apartment in New Capital -discount of...          5/1/2022  "
      ]
     },
     "execution_count": 17,
     "metadata": {},
     "output_type": "execute_result"
    }
   ],
   "source": [
    "df3=df2[:-3]\n",
    "df3.tail(2)"
   ]
  },
  {
   "cell_type": "markdown",
   "id": "e4807f64",
   "metadata": {},
   "source": [
    "We notice that the ground floor is written as a text, We need to replace it with 0 to match the rest of column values"
   ]
  },
  {
   "cell_type": "code",
   "execution_count": 18,
   "id": "b7081a32",
   "metadata": {},
   "outputs": [
    {
     "name": "stderr",
     "output_type": "stream",
     "text": [
      "D:\\Anaconda\\lib\\site-packages\\pandas\\core\\series.py:4509: SettingWithCopyWarning: \n",
      "A value is trying to be set on a copy of a slice from a DataFrame\n",
      "\n",
      "See the caveats in the documentation: https://pandas.pydata.org/pandas-docs/stable/user_guide/indexing.html#returning-a-view-versus-a-copy\n",
      "  return super().replace(\n"
     ]
    },
    {
     "data": {
      "text/html": [
       "<div>\n",
       "<style scoped>\n",
       "    .dataframe tbody tr th:only-of-type {\n",
       "        vertical-align: middle;\n",
       "    }\n",
       "\n",
       "    .dataframe tbody tr th {\n",
       "        vertical-align: top;\n",
       "    }\n",
       "\n",
       "    .dataframe thead th {\n",
       "        text-align: right;\n",
       "    }\n",
       "</style>\n",
       "<table border=\"1\" class=\"dataframe\">\n",
       "  <thead>\n",
       "    <tr style=\"text-align: right;\">\n",
       "      <th></th>\n",
       "      <th>Summary_name</th>\n",
       "      <th>Summary_url</th>\n",
       "      <th>Summary_Floor_No</th>\n",
       "      <th>Summary_No_Rooms</th>\n",
       "      <th>Summary_No_Bathrooms</th>\n",
       "      <th>Summary_Area_m2</th>\n",
       "      <th>Summary_Add_ID</th>\n",
       "      <th>Summary_Publishing_Date</th>\n",
       "      <th>Summary_Price_EGP</th>\n",
       "      <th>Summary_Seller_Type</th>\n",
       "      <th>Summary_Price_P_M</th>\n",
       "    </tr>\n",
       "  </thead>\n",
       "  <tbody>\n",
       "    <tr>\n",
       "      <th>138</th>\n",
       "      <td>Duplex 161 M² Super lux in Monte Napoleone Com...</td>\n",
       "      <td>https://aqarmap.com.eg/en/listing/3096106-for-...</td>\n",
       "      <td>0</td>\n",
       "      <td>2</td>\n",
       "      <td>1</td>\n",
       "      <td>2025</td>\n",
       "      <td>SUPER_LUX</td>\n",
       "      <td>Garden</td>\n",
       "      <td>161 M²</td>\n",
       "      <td>Duplex 161 M² Super lux in Monte Napoleone Com...</td>\n",
       "      <td>12/12/2021</td>\n",
       "    </tr>\n",
       "    <tr>\n",
       "      <th>37</th>\n",
       "      <td>Own your apartment in New Capital -discount of...</td>\n",
       "      <td>https://aqarmap.com.eg/en/listing/3133072-for-...</td>\n",
       "      <td>0</td>\n",
       "      <td>2.0</td>\n",
       "      <td>2</td>\n",
       "      <td>2021</td>\n",
       "      <td>SEMI_FINISHED</td>\n",
       "      <td>Garden</td>\n",
       "      <td>127 M²</td>\n",
       "      <td>Own your apartment in New Capital -discount of...</td>\n",
       "      <td>5/1/2022</td>\n",
       "    </tr>\n",
       "  </tbody>\n",
       "</table>\n",
       "</div>"
      ],
      "text/plain": [
       "                                          Summary_name  \\\n",
       "138  Duplex 161 M² Super lux in Monte Napoleone Com...   \n",
       "37   Own your apartment in New Capital -discount of...   \n",
       "\n",
       "                                           Summary_url Summary_Floor_No  \\\n",
       "138  https://aqarmap.com.eg/en/listing/3096106-for-...                0   \n",
       "37   https://aqarmap.com.eg/en/listing/3133072-for-...                0   \n",
       "\n",
       "    Summary_No_Rooms Summary_No_Bathrooms Summary_Area_m2 Summary_Add_ID  \\\n",
       "138                2                    1            2025      SUPER_LUX   \n",
       "37               2.0                    2            2021  SEMI_FINISHED   \n",
       "\n",
       "    Summary_Publishing_Date Summary_Price_EGP  \\\n",
       "138                  Garden            161 M²   \n",
       "37                   Garden            127 M²   \n",
       "\n",
       "                                   Summary_Seller_Type Summary_Price_P_M  \n",
       "138  Duplex 161 M² Super lux in Monte Napoleone Com...        12/12/2021  \n",
       "37   Own your apartment in New Capital -discount of...          5/1/2022  "
      ]
     },
     "execution_count": 18,
     "metadata": {},
     "output_type": "execute_result"
    }
   ],
   "source": [
    "df3['Summary_Floor_No'].replace(to_replace= \"Ground\", value= 0, inplace=True)\n",
    "df3.tail(2)"
   ]
  },
  {
   "cell_type": "markdown",
   "id": "a450655f",
   "metadata": {},
   "source": [
    "We also need to change the format of floor numbers to be integer not string"
   ]
  },
  {
   "cell_type": "code",
   "execution_count": 19,
   "id": "88532cda",
   "metadata": {},
   "outputs": [
    {
     "name": "stderr",
     "output_type": "stream",
     "text": [
      "<ipython-input-19-5245d50ecaed>:1: SettingWithCopyWarning: \n",
      "A value is trying to be set on a copy of a slice from a DataFrame.\n",
      "Try using .loc[row_indexer,col_indexer] = value instead\n",
      "\n",
      "See the caveats in the documentation: https://pandas.pydata.org/pandas-docs/stable/user_guide/indexing.html#returning-a-view-versus-a-copy\n",
      "  df3['Summary_Floor_No']=df3['Summary_Floor_No'].astype('int')\n"
     ]
    },
    {
     "data": {
      "text/plain": [
       "array([ 1, 10, 11, 12, 17,  2,  3,  4,  5,  6,  7,  8,  9,  0])"
      ]
     },
     "execution_count": 19,
     "metadata": {},
     "output_type": "execute_result"
    }
   ],
   "source": [
    "df3['Summary_Floor_No']=df3['Summary_Floor_No'].astype('int')\n",
    "df3['Summary_Floor_No'].unique()"
   ]
  },
  {
   "cell_type": "markdown",
   "id": "09b4d534",
   "metadata": {},
   "source": [
    "Now, let's move to the \"Summary_No_Rooms\" column"
   ]
  },
  {
   "cell_type": "code",
   "execution_count": 20,
   "id": "002ad31f",
   "metadata": {},
   "outputs": [
    {
     "data": {
      "text/plain": [
       "array(['3', 4.0, '2', '4', 3.0, '5', 2.0, '6', '1', 5.0], dtype=object)"
      ]
     },
     "execution_count": 20,
     "metadata": {},
     "output_type": "execute_result"
    }
   ],
   "source": [
    "df3['Summary_No_Rooms'].unique()"
   ]
  },
  {
   "cell_type": "markdown",
   "id": "3386c007",
   "metadata": {},
   "source": [
    "The values make sense, but let's also cast the type to integer"
   ]
  },
  {
   "cell_type": "code",
   "execution_count": 21,
   "id": "4ddf6628",
   "metadata": {},
   "outputs": [
    {
     "name": "stderr",
     "output_type": "stream",
     "text": [
      "<ipython-input-21-aea05c527830>:1: SettingWithCopyWarning: \n",
      "A value is trying to be set on a copy of a slice from a DataFrame.\n",
      "Try using .loc[row_indexer,col_indexer] = value instead\n",
      "\n",
      "See the caveats in the documentation: https://pandas.pydata.org/pandas-docs/stable/user_guide/indexing.html#returning-a-view-versus-a-copy\n",
      "  df3['Summary_No_Rooms']=df3['Summary_No_Rooms'].astype('int')\n"
     ]
    },
    {
     "data": {
      "text/plain": [
       "array([3, 4, 2, 5, 6, 1])"
      ]
     },
     "execution_count": 21,
     "metadata": {},
     "output_type": "execute_result"
    }
   ],
   "source": [
    "df3['Summary_No_Rooms']=df3['Summary_No_Rooms'].astype('int')\n",
    "df3['Summary_No_Rooms'].unique()"
   ]
  },
  {
   "cell_type": "markdown",
   "id": "2301ad0f",
   "metadata": {},
   "source": [
    "Next, let's move on to the \"Summary_No_Bathrooms\" column"
   ]
  },
  {
   "cell_type": "code",
   "execution_count": 22,
   "id": "2b8e2794",
   "metadata": {},
   "outputs": [
    {
     "data": {
      "text/plain": [
       "array(['1', '4', '2', '3', '6', '5'], dtype=object)"
      ]
     },
     "execution_count": 22,
     "metadata": {},
     "output_type": "execute_result"
    }
   ],
   "source": [
    "df3['Summary_No_Bathrooms'].unique()"
   ]
  },
  {
   "cell_type": "markdown",
   "id": "96471518",
   "metadata": {},
   "source": [
    "let's cast it to integer"
   ]
  },
  {
   "cell_type": "code",
   "execution_count": 23,
   "id": "ce3a448a",
   "metadata": {},
   "outputs": [
    {
     "name": "stderr",
     "output_type": "stream",
     "text": [
      "<ipython-input-23-04656743e834>:1: SettingWithCopyWarning: \n",
      "A value is trying to be set on a copy of a slice from a DataFrame.\n",
      "Try using .loc[row_indexer,col_indexer] = value instead\n",
      "\n",
      "See the caveats in the documentation: https://pandas.pydata.org/pandas-docs/stable/user_guide/indexing.html#returning-a-view-versus-a-copy\n",
      "  df3['Summary_No_Bathrooms']=df3['Summary_No_Bathrooms'].astype('int')\n"
     ]
    },
    {
     "data": {
      "text/plain": [
       "array([1, 4, 2, 3, 6, 5])"
      ]
     },
     "execution_count": 23,
     "metadata": {},
     "output_type": "execute_result"
    }
   ],
   "source": [
    "df3['Summary_No_Bathrooms']=df3['Summary_No_Bathrooms'].astype('int')\n",
    "df3['Summary_No_Bathrooms'].unique()"
   ]
  },
  {
   "cell_type": "markdown",
   "id": "48910e20",
   "metadata": {},
   "source": [
    "Next, we have the \"Summary_Area_m2\" column. let's check the values"
   ]
  },
  {
   "cell_type": "code",
   "execution_count": 24,
   "id": "15ca59b8",
   "metadata": {
    "scrolled": true
   },
   "outputs": [
    {
     "data": {
      "text/plain": [
       "array(['2023', '2021', '2020', '2024', '2018', '2022', '2019', '500 M²',\n",
       "       '2014', 'SEMI_FINISHED', '145 M²', '120 M²', '150 M²', '170 M²',\n",
       "       '2015', '90 M²', '140 M²', '250 M²', '115 M²', '200 M²', '180 M²',\n",
       "       '2009', '2017', '2025', '330 M²', '1980', '2010', '195 M²', '1995',\n",
       "       '1990', '110 M²', '156 M²', '240 M²', '95 M²', 'EXTRA_SUPER_LUX',\n",
       "       '130 M²', '63 M²', 'SUPER_LUX', '530 M²', '175 M²', '2013',\n",
       "       '125 M²', '2008', '80 M²', '183 M²', '84 M²', '190 M²', '2016',\n",
       "       '56 M²', '2011', '101 M²', '1999', '1988', '2007', '245 M²',\n",
       "       '136 M²', '57 M²', '202 M²', '75 M²', '164 M²', '100 M²', '220 M²',\n",
       "       '96 M²', '70 M²', '139 M²', '1970', '2000', '265 M²', '65 M²',\n",
       "       '105 M²', '2006', '185 M²', '160 M²', '300 M²', '165 M²', '1985'],\n",
       "      dtype=object)"
      ]
     },
     "execution_count": 24,
     "metadata": {},
     "output_type": "execute_result"
    }
   ],
   "source": [
    "df3['Summary_Area_m2'].unique()"
   ]
  },
  {
   "cell_type": "code",
   "execution_count": 25,
   "id": "0bdec952",
   "metadata": {},
   "outputs": [
    {
     "data": {
      "text/plain": [
       "2022             67\n",
       "2021             58\n",
       "2023             34\n",
       "2020             30\n",
       "2024             28\n",
       "2019             16\n",
       "2018             15\n",
       "2015             13\n",
       "140 M²            7\n",
       "110 M²            6\n",
       "130 M²            6\n",
       "150 M²            6\n",
       "SUPER_LUX         6\n",
       "120 M²            6\n",
       "2025              5\n",
       "2017              5\n",
       "2014              4\n",
       "2000              4\n",
       "SEMI_FINISHED     4\n",
       "90 M²             4\n",
       "Name: Summary_Area_m2, dtype: int64"
      ]
     },
     "execution_count": 25,
     "metadata": {},
     "output_type": "execute_result"
    }
   ],
   "source": [
    "df3['Summary_Area_m2'].value_counts()[:20]"
   ]
  },
  {
   "cell_type": "markdown",
   "id": "b7f46b20",
   "metadata": {},
   "source": [
    "By checking the data, it seems that the records in which the finishing type is mentioned are a small number, so we can ignore these values. The majority of values here belong to a number that seems to be a year. However, it's not clear whether this is the construction year or the delivery year. So I will also ignore it, and will replace both values by the area, which already exists in these rows but shifted to the right."
   ]
  },
  {
   "cell_type": "code",
   "execution_count": 26,
   "id": "55cf39ab",
   "metadata": {},
   "outputs": [
    {
     "data": {
      "text/html": [
       "<div>\n",
       "<style scoped>\n",
       "    .dataframe tbody tr th:only-of-type {\n",
       "        vertical-align: middle;\n",
       "    }\n",
       "\n",
       "    .dataframe tbody tr th {\n",
       "        vertical-align: top;\n",
       "    }\n",
       "\n",
       "    .dataframe thead th {\n",
       "        text-align: right;\n",
       "    }\n",
       "</style>\n",
       "<table border=\"1\" class=\"dataframe\">\n",
       "  <thead>\n",
       "    <tr style=\"text-align: right;\">\n",
       "      <th></th>\n",
       "      <th>index</th>\n",
       "      <th>Summary_name</th>\n",
       "      <th>Summary_url</th>\n",
       "      <th>Summary_Floor_No</th>\n",
       "      <th>Summary_No_Rooms</th>\n",
       "      <th>Summary_No_Bathrooms</th>\n",
       "      <th>Summary_Area_m2</th>\n",
       "      <th>Summary_Add_ID</th>\n",
       "      <th>Summary_Publishing_Date</th>\n",
       "      <th>Summary_Price_EGP</th>\n",
       "      <th>Summary_Seller_Type</th>\n",
       "      <th>Summary_Price_P_M</th>\n",
       "    </tr>\n",
       "  </thead>\n",
       "  <tbody>\n",
       "    <tr>\n",
       "      <th>404</th>\n",
       "      <td>164</td>\n",
       "      <td>Apartment For sale,170M @90th Avenue -New Cair...</td>\n",
       "      <td>https://aqarmap.com.eg/en/listing/3086496-for-...</td>\n",
       "      <td>0</td>\n",
       "      <td>3</td>\n",
       "      <td>3</td>\n",
       "      <td>SUPER_LUX</td>\n",
       "      <td>Garden</td>\n",
       "      <td>170 M²</td>\n",
       "      <td>EG-3086496</td>\n",
       "      <td>Apartment For sale,170M @90th Avenue -New Cair...</td>\n",
       "      <td>2,040,000 EGP</td>\n",
       "    </tr>\n",
       "    <tr>\n",
       "      <th>405</th>\n",
       "      <td>2</td>\n",
       "      <td>Direct from Owner\\n3 bed room flat for sale in...</td>\n",
       "      <td>https://aqarmap.com.eg/en/listing/3132083-for-...</td>\n",
       "      <td>4</td>\n",
       "      <td>3</td>\n",
       "      <td>3</td>\n",
       "      <td>SUPER_LUX</td>\n",
       "      <td>230 M²</td>\n",
       "      <td>EG-3132083</td>\n",
       "      <td>05/01/2022</td>\n",
       "      <td>3 bed room flat for sale in Elmerag city in El...</td>\n",
       "      <td>Property Owner</td>\n",
       "    </tr>\n",
       "    <tr>\n",
       "      <th>406</th>\n",
       "      <td>135</td>\n",
       "      <td>fantastic price for an apartment for sale in Z...</td>\n",
       "      <td>https://aqarmap.com.eg/en/listing/3112927-for-...</td>\n",
       "      <td>8</td>\n",
       "      <td>2</td>\n",
       "      <td>2</td>\n",
       "      <td>SUPER_LUX</td>\n",
       "      <td>Main Street</td>\n",
       "      <td>97 M²</td>\n",
       "      <td>EG-3112927</td>\n",
       "      <td>fantastic price for an apartment for sale in Z...</td>\n",
       "      <td>3,644,000 EGP</td>\n",
       "    </tr>\n",
       "    <tr>\n",
       "      <th>407</th>\n",
       "      <td>173</td>\n",
       "      <td>3 Rooms + Nanny room with a perfect Price- O-w...</td>\n",
       "      <td>https://aqarmap.com.eg/en/listing/3090510-for-...</td>\n",
       "      <td>2</td>\n",
       "      <td>4</td>\n",
       "      <td>4</td>\n",
       "      <td>SUPER_LUX</td>\n",
       "      <td>Garden</td>\n",
       "      <td>158 M²</td>\n",
       "      <td>EG-3090510</td>\n",
       "      <td>3 Rooms + Nanny room with a perfect Price- O-west</td>\n",
       "      <td>4,000,000 EGP</td>\n",
       "    </tr>\n",
       "    <tr>\n",
       "      <th>408</th>\n",
       "      <td>30</td>\n",
       "      <td>Direct from Owner\\nسوبر لوكس 170 م بكمباوند ال...</td>\n",
       "      <td>https://aqarmap.com.eg/en/listing/2948011-for-...</td>\n",
       "      <td>5</td>\n",
       "      <td>3</td>\n",
       "      <td>2</td>\n",
       "      <td>SUPER_LUX</td>\n",
       "      <td>Main Street</td>\n",
       "      <td>170 M²</td>\n",
       "      <td>EG-2948011</td>\n",
       "      <td>سوبر لوكس 170 م بكمباوند البارون سيتى المعادى</td>\n",
       "      <td>1,675,000 EGP</td>\n",
       "    </tr>\n",
       "  </tbody>\n",
       "</table>\n",
       "</div>"
      ],
      "text/plain": [
       "     index                                       Summary_name  \\\n",
       "404    164  Apartment For sale,170M @90th Avenue -New Cair...   \n",
       "405      2  Direct from Owner\\n3 bed room flat for sale in...   \n",
       "406    135  fantastic price for an apartment for sale in Z...   \n",
       "407    173  3 Rooms + Nanny room with a perfect Price- O-w...   \n",
       "408     30  Direct from Owner\\nسوبر لوكس 170 م بكمباوند ال...   \n",
       "\n",
       "                                           Summary_url  Summary_Floor_No  \\\n",
       "404  https://aqarmap.com.eg/en/listing/3086496-for-...                 0   \n",
       "405  https://aqarmap.com.eg/en/listing/3132083-for-...                 4   \n",
       "406  https://aqarmap.com.eg/en/listing/3112927-for-...                 8   \n",
       "407  https://aqarmap.com.eg/en/listing/3090510-for-...                 2   \n",
       "408  https://aqarmap.com.eg/en/listing/2948011-for-...                 5   \n",
       "\n",
       "     Summary_No_Rooms  Summary_No_Bathrooms Summary_Area_m2 Summary_Add_ID  \\\n",
       "404                 3                     3       SUPER_LUX         Garden   \n",
       "405                 3                     3       SUPER_LUX         230 M²   \n",
       "406                 2                     2       SUPER_LUX    Main Street   \n",
       "407                 4                     4       SUPER_LUX         Garden   \n",
       "408                 3                     2       SUPER_LUX    Main Street   \n",
       "\n",
       "    Summary_Publishing_Date Summary_Price_EGP  \\\n",
       "404                  170 M²        EG-3086496   \n",
       "405              EG-3132083        05/01/2022   \n",
       "406                   97 M²        EG-3112927   \n",
       "407                  158 M²        EG-3090510   \n",
       "408                  170 M²        EG-2948011   \n",
       "\n",
       "                                   Summary_Seller_Type Summary_Price_P_M  \n",
       "404  Apartment For sale,170M @90th Avenue -New Cair...     2,040,000 EGP  \n",
       "405  3 bed room flat for sale in Elmerag city in El...    Property Owner  \n",
       "406  fantastic price for an apartment for sale in Z...     3,644,000 EGP  \n",
       "407  3 Rooms + Nanny room with a perfect Price- O-west     4,000,000 EGP  \n",
       "408      سوبر لوكس 170 م بكمباوند البارون سيتى المعادى     1,675,000 EGP  "
      ]
     },
     "execution_count": 26,
     "metadata": {},
     "output_type": "execute_result"
    }
   ],
   "source": [
    "# Let's first sort the data by this column\n",
    "df4= df3.sort_values(by=\"Summary_Area_m2\").reset_index()\n",
    "df4.tail(5)"
   ]
  },
  {
   "cell_type": "code",
   "execution_count": 27,
   "id": "7055e3dc",
   "metadata": {},
   "outputs": [
    {
     "data": {
      "text/plain": [
       "409"
      ]
     },
     "execution_count": 27,
     "metadata": {},
     "output_type": "execute_result"
    }
   ],
   "source": [
    "len(df4)"
   ]
  },
  {
   "cell_type": "code",
   "execution_count": 28,
   "id": "7b4783f9",
   "metadata": {},
   "outputs": [
    {
     "data": {
      "text/html": [
       "<div>\n",
       "<style scoped>\n",
       "    .dataframe tbody tr th:only-of-type {\n",
       "        vertical-align: middle;\n",
       "    }\n",
       "\n",
       "    .dataframe tbody tr th {\n",
       "        vertical-align: top;\n",
       "    }\n",
       "\n",
       "    .dataframe thead th {\n",
       "        text-align: right;\n",
       "    }\n",
       "</style>\n",
       "<table border=\"1\" class=\"dataframe\">\n",
       "  <thead>\n",
       "    <tr style=\"text-align: right;\">\n",
       "      <th></th>\n",
       "      <th>index</th>\n",
       "      <th>Summary_name</th>\n",
       "      <th>Summary_url</th>\n",
       "      <th>Summary_Floor_No</th>\n",
       "      <th>Summary_No_Rooms</th>\n",
       "      <th>Summary_No_Bathrooms</th>\n",
       "      <th>Summary_Area_m2</th>\n",
       "      <th>Summary_Add_ID</th>\n",
       "      <th>Summary_Publishing_Date</th>\n",
       "      <th>Summary_Price_EGP</th>\n",
       "      <th>Summary_Seller_Type</th>\n",
       "      <th>Summary_Price_P_M</th>\n",
       "    </tr>\n",
       "  </thead>\n",
       "  <tbody>\n",
       "    <tr>\n",
       "      <th>398</th>\n",
       "      <td>122</td>\n",
       "      <td>Apartment with Garden 180 M² Extra super lux i...</td>\n",
       "      <td>https://aqarmap.com.eg/en/listing/3115277-for-...</td>\n",
       "      <td>2</td>\n",
       "      <td>3</td>\n",
       "      <td>3</td>\n",
       "      <td>EXTRA_SUPER_LUX</td>\n",
       "      <td>Garden</td>\n",
       "      <td>180 M²</td>\n",
       "      <td>EG-3115277</td>\n",
       "      <td>Apartment with Garden 180 M² Extra super lux i...</td>\n",
       "      <td>4,365,000 EGP</td>\n",
       "    </tr>\n",
       "    <tr>\n",
       "      <th>399</th>\n",
       "      <td>86</td>\n",
       "      <td>أمتداد النرجس, القاهرة الجديدة - التجمع الخامس...</td>\n",
       "      <td>https://aqarmap.com.eg/en/listing/3024135-for-...</td>\n",
       "      <td>2</td>\n",
       "      <td>3</td>\n",
       "      <td>3</td>\n",
       "      <td>SEMI_FINISHED</td>\n",
       "      <td>Main Street</td>\n",
       "      <td>168 M²</td>\n",
       "      <td>EG-3024135</td>\n",
       "      <td>27/10/2021</td>\n",
       "      <td>1,529,000 EGP</td>\n",
       "    </tr>\n",
       "    <tr>\n",
       "      <th>400</th>\n",
       "      <td>72</td>\n",
       "      <td>Duplex Semi Finished For sale in Bait El Watan...</td>\n",
       "      <td>https://aqarmap.com.eg/en/listing/3080415-for-...</td>\n",
       "      <td>1</td>\n",
       "      <td>4</td>\n",
       "      <td>3</td>\n",
       "      <td>SEMI_FINISHED</td>\n",
       "      <td>Garden</td>\n",
       "      <td>280 M²</td>\n",
       "      <td>EG-3080415</td>\n",
       "      <td>02/12/2021</td>\n",
       "      <td>1,450,000 EGP</td>\n",
       "    </tr>\n",
       "    <tr>\n",
       "      <th>401</th>\n",
       "      <td>121</td>\n",
       "      <td>Duplex For Sale in Noor Oasis\\nواحة النور, كمب...</td>\n",
       "      <td>https://aqarmap.com.eg/en/listing/3057674-for-...</td>\n",
       "      <td>1</td>\n",
       "      <td>5</td>\n",
       "      <td>4</td>\n",
       "      <td>SEMI_FINISHED</td>\n",
       "      <td>Corner</td>\n",
       "      <td>340 M²</td>\n",
       "      <td>EG-3057674</td>\n",
       "      <td>Duplex For Sale in Noor Oasis</td>\n",
       "      <td>1,650,000 EGP</td>\n",
       "    </tr>\n",
       "    <tr>\n",
       "      <th>402</th>\n",
       "      <td>1</td>\n",
       "      <td>Apartments For sale in Investors Area\\nمنطقة ا...</td>\n",
       "      <td>https://aqarmap.com.eg/en/listing/3102080-for-...</td>\n",
       "      <td>3</td>\n",
       "      <td>3</td>\n",
       "      <td>3</td>\n",
       "      <td>SEMI_FINISHED</td>\n",
       "      <td>Garden</td>\n",
       "      <td>173 M²</td>\n",
       "      <td>EG-3102080</td>\n",
       "      <td>16/12/2021</td>\n",
       "      <td>2,000,000 EGP</td>\n",
       "    </tr>\n",
       "  </tbody>\n",
       "</table>\n",
       "</div>"
      ],
      "text/plain": [
       "     index                                       Summary_name  \\\n",
       "398    122  Apartment with Garden 180 M² Extra super lux i...   \n",
       "399     86  أمتداد النرجس, القاهرة الجديدة - التجمع الخامس...   \n",
       "400     72  Duplex Semi Finished For sale in Bait El Watan...   \n",
       "401    121  Duplex For Sale in Noor Oasis\\nواحة النور, كمب...   \n",
       "402      1  Apartments For sale in Investors Area\\nمنطقة ا...   \n",
       "\n",
       "                                           Summary_url  Summary_Floor_No  \\\n",
       "398  https://aqarmap.com.eg/en/listing/3115277-for-...                 2   \n",
       "399  https://aqarmap.com.eg/en/listing/3024135-for-...                 2   \n",
       "400  https://aqarmap.com.eg/en/listing/3080415-for-...                 1   \n",
       "401  https://aqarmap.com.eg/en/listing/3057674-for-...                 1   \n",
       "402  https://aqarmap.com.eg/en/listing/3102080-for-...                 3   \n",
       "\n",
       "     Summary_No_Rooms  Summary_No_Bathrooms  Summary_Area_m2 Summary_Add_ID  \\\n",
       "398                 3                     3  EXTRA_SUPER_LUX         Garden   \n",
       "399                 3                     3    SEMI_FINISHED    Main Street   \n",
       "400                 4                     3    SEMI_FINISHED         Garden   \n",
       "401                 5                     4    SEMI_FINISHED         Corner   \n",
       "402                 3                     3    SEMI_FINISHED         Garden   \n",
       "\n",
       "    Summary_Publishing_Date Summary_Price_EGP  \\\n",
       "398                  180 M²        EG-3115277   \n",
       "399                  168 M²        EG-3024135   \n",
       "400                  280 M²        EG-3080415   \n",
       "401                  340 M²        EG-3057674   \n",
       "402                  173 M²        EG-3102080   \n",
       "\n",
       "                                   Summary_Seller_Type Summary_Price_P_M  \n",
       "398  Apartment with Garden 180 M² Extra super lux i...     4,365,000 EGP  \n",
       "399                                         27/10/2021     1,529,000 EGP  \n",
       "400                                         02/12/2021     1,450,000 EGP  \n",
       "401                      Duplex For Sale in Noor Oasis     1,650,000 EGP  \n",
       "402                                         16/12/2021     2,000,000 EGP  "
      ]
     },
     "execution_count": 28,
     "metadata": {},
     "output_type": "execute_result"
    }
   ],
   "source": [
    "fnsh=df4.loc[df4['Summary_Area_m2'].isin(['SEMI_FINISHED', 'EXTRA_SUPER_LUX','SUPER_LUX' ])]\n",
    "len(fnsh)\n",
    "\n",
    "fnsh.head()"
   ]
  },
  {
   "cell_type": "markdown",
   "id": "d308be7d",
   "metadata": {},
   "source": [
    "For the rows that include finishing type values, we can drop them for simplicity since they are 11 only"
   ]
  },
  {
   "cell_type": "code",
   "execution_count": 29,
   "id": "243d7e7e",
   "metadata": {},
   "outputs": [
    {
     "data": {
      "text/html": [
       "<div>\n",
       "<style scoped>\n",
       "    .dataframe tbody tr th:only-of-type {\n",
       "        vertical-align: middle;\n",
       "    }\n",
       "\n",
       "    .dataframe tbody tr th {\n",
       "        vertical-align: top;\n",
       "    }\n",
       "\n",
       "    .dataframe thead th {\n",
       "        text-align: right;\n",
       "    }\n",
       "</style>\n",
       "<table border=\"1\" class=\"dataframe\">\n",
       "  <thead>\n",
       "    <tr style=\"text-align: right;\">\n",
       "      <th></th>\n",
       "      <th>index</th>\n",
       "      <th>Summary_name</th>\n",
       "      <th>Summary_url</th>\n",
       "      <th>Summary_Floor_No</th>\n",
       "      <th>Summary_No_Rooms</th>\n",
       "      <th>Summary_No_Bathrooms</th>\n",
       "      <th>Summary_Area_m2</th>\n",
       "      <th>Summary_Add_ID</th>\n",
       "      <th>Summary_Publishing_Date</th>\n",
       "      <th>Summary_Price_EGP</th>\n",
       "      <th>Summary_Seller_Type</th>\n",
       "      <th>Summary_Price_P_M</th>\n",
       "    </tr>\n",
       "  </thead>\n",
       "  <tbody>\n",
       "    <tr>\n",
       "      <th>393</th>\n",
       "      <td>18</td>\n",
       "      <td>شقة للبيع في العاشر من رمضان الحي ال16\\n10th o...</td>\n",
       "      <td>https://aqarmap.com.eg/en/listing/3133711-for-...</td>\n",
       "      <td>1</td>\n",
       "      <td>3</td>\n",
       "      <td>1</td>\n",
       "      <td>90 M²</td>\n",
       "      <td>EG-3133711</td>\n",
       "      <td>06/01/2022</td>\n",
       "      <td>235,000 EGP</td>\n",
       "      <td>Property Owner</td>\n",
       "      <td>2,611 EGP/M²</td>\n",
       "    </tr>\n",
       "    <tr>\n",
       "      <th>394</th>\n",
       "      <td>16</td>\n",
       "      <td>شقه للبيع\\nAin Shams, Greater Cairo\\n90 M² 3 1...</td>\n",
       "      <td>https://aqarmap.com.eg/en/listing/3133714-for-...</td>\n",
       "      <td>1</td>\n",
       "      <td>3</td>\n",
       "      <td>1</td>\n",
       "      <td>90 M²</td>\n",
       "      <td>EG-3133714</td>\n",
       "      <td>06/01/2022</td>\n",
       "      <td>300,000 EGP</td>\n",
       "      <td>Property Owner</td>\n",
       "      <td>3,333 EGP/M²</td>\n",
       "    </tr>\n",
       "    <tr>\n",
       "      <th>395</th>\n",
       "      <td>123</td>\n",
       "      <td>شقة للبيع بالحي الخامس عشر دور تالت قسط 430 مت...</td>\n",
       "      <td>https://aqarmap.com.eg/en/listing/3133362-for-...</td>\n",
       "      <td>3</td>\n",
       "      <td>3</td>\n",
       "      <td>1</td>\n",
       "      <td>90 M²</td>\n",
       "      <td>EG-3133362</td>\n",
       "      <td>05/01/2022</td>\n",
       "      <td>220,000 EGP</td>\n",
       "      <td>Property Owner</td>\n",
       "      <td>2,444 EGP/M²</td>\n",
       "    </tr>\n",
       "    <tr>\n",
       "      <th>396</th>\n",
       "      <td>107</td>\n",
       "      <td>شقة بالعجمى خطوات من شارع العجمى الرئيسى بالقر...</td>\n",
       "      <td>https://aqarmap.com.eg/en/listing/3133404-for-...</td>\n",
       "      <td>2</td>\n",
       "      <td>2</td>\n",
       "      <td>1</td>\n",
       "      <td>95 M²</td>\n",
       "      <td>EG-3133404</td>\n",
       "      <td>05/01/2022</td>\n",
       "      <td>240,000 EGP</td>\n",
       "      <td>شقة بالعجمى خطوات من شارع العجمى الرئيسى بالقر...</td>\n",
       "      <td>2,526 EGP/M²</td>\n",
       "    </tr>\n",
       "    <tr>\n",
       "      <th>397</th>\n",
       "      <td>8</td>\n",
       "      <td>شقه تصلح للتمويل العقاري بقلب حلوان\\nGreater C...</td>\n",
       "      <td>https://aqarmap.com.eg/en/listing/3133739-for-...</td>\n",
       "      <td>5</td>\n",
       "      <td>2</td>\n",
       "      <td>1</td>\n",
       "      <td>96 M²</td>\n",
       "      <td>EG-3133739</td>\n",
       "      <td>06/01/2022</td>\n",
       "      <td>390,000 EGP</td>\n",
       "      <td>Property Owner</td>\n",
       "      <td>4,063 EGP/M²</td>\n",
       "    </tr>\n",
       "  </tbody>\n",
       "</table>\n",
       "</div>"
      ],
      "text/plain": [
       "     index                                       Summary_name  \\\n",
       "393     18  شقة للبيع في العاشر من رمضان الحي ال16\\n10th o...   \n",
       "394     16  شقه للبيع\\nAin Shams, Greater Cairo\\n90 M² 3 1...   \n",
       "395    123  شقة للبيع بالحي الخامس عشر دور تالت قسط 430 مت...   \n",
       "396    107  شقة بالعجمى خطوات من شارع العجمى الرئيسى بالقر...   \n",
       "397      8  شقه تصلح للتمويل العقاري بقلب حلوان\\nGreater C...   \n",
       "\n",
       "                                           Summary_url  Summary_Floor_No  \\\n",
       "393  https://aqarmap.com.eg/en/listing/3133711-for-...                 1   \n",
       "394  https://aqarmap.com.eg/en/listing/3133714-for-...                 1   \n",
       "395  https://aqarmap.com.eg/en/listing/3133362-for-...                 3   \n",
       "396  https://aqarmap.com.eg/en/listing/3133404-for-...                 2   \n",
       "397  https://aqarmap.com.eg/en/listing/3133739-for-...                 5   \n",
       "\n",
       "     Summary_No_Rooms  Summary_No_Bathrooms Summary_Area_m2 Summary_Add_ID  \\\n",
       "393                 3                     1           90 M²     EG-3133711   \n",
       "394                 3                     1           90 M²     EG-3133714   \n",
       "395                 3                     1           90 M²     EG-3133362   \n",
       "396                 2                     1           95 M²     EG-3133404   \n",
       "397                 2                     1           96 M²     EG-3133739   \n",
       "\n",
       "    Summary_Publishing_Date Summary_Price_EGP  \\\n",
       "393              06/01/2022       235,000 EGP   \n",
       "394              06/01/2022       300,000 EGP   \n",
       "395              05/01/2022       220,000 EGP   \n",
       "396              05/01/2022       240,000 EGP   \n",
       "397              06/01/2022       390,000 EGP   \n",
       "\n",
       "                                   Summary_Seller_Type Summary_Price_P_M  \n",
       "393                                     Property Owner      2,611 EGP/M²  \n",
       "394                                     Property Owner      3,333 EGP/M²  \n",
       "395                                     Property Owner      2,444 EGP/M²  \n",
       "396  شقة بالعجمى خطوات من شارع العجمى الرئيسى بالقر...      2,526 EGP/M²  \n",
       "397                                     Property Owner      4,063 EGP/M²  "
      ]
     },
     "execution_count": 29,
     "metadata": {},
     "output_type": "execute_result"
    }
   ],
   "source": [
    "df5=df4.drop(axis=0, labels=fnsh.index)\n",
    "df5.tail(5)"
   ]
  },
  {
   "cell_type": "code",
   "execution_count": 30,
   "id": "830e3899",
   "metadata": {},
   "outputs": [
    {
     "data": {
      "text/plain": [
       "398"
      ]
     },
     "execution_count": 30,
     "metadata": {},
     "output_type": "execute_result"
    }
   ],
   "source": [
    "len(df5)"
   ]
  },
  {
   "cell_type": "markdown",
   "id": "7a2c004c",
   "metadata": {},
   "source": [
    "For the above step, I dropped the rows but found that the length of dataset after dropping them is 385 while we started with 409 and dropped 11 rows only. So I modified this step and made reset index before dropping the rows"
   ]
  },
  {
   "cell_type": "markdown",
   "id": "4a95a4b9",
   "metadata": {},
   "source": [
    "Now, I want to see the rows in which the value is a year, to understand where the correct area value is."
   ]
  },
  {
   "cell_type": "code",
   "execution_count": 31,
   "id": "fda7c40e",
   "metadata": {},
   "outputs": [
    {
     "data": {
      "text/html": [
       "<div>\n",
       "<style scoped>\n",
       "    .dataframe tbody tr th:only-of-type {\n",
       "        vertical-align: middle;\n",
       "    }\n",
       "\n",
       "    .dataframe tbody tr th {\n",
       "        vertical-align: top;\n",
       "    }\n",
       "\n",
       "    .dataframe thead th {\n",
       "        text-align: right;\n",
       "    }\n",
       "</style>\n",
       "<table border=\"1\" class=\"dataframe\">\n",
       "  <thead>\n",
       "    <tr style=\"text-align: right;\">\n",
       "      <th></th>\n",
       "      <th>index</th>\n",
       "      <th>Summary_name</th>\n",
       "      <th>Summary_url</th>\n",
       "      <th>Summary_Floor_No</th>\n",
       "      <th>Summary_No_Rooms</th>\n",
       "      <th>Summary_No_Bathrooms</th>\n",
       "      <th>Summary_Area_m2</th>\n",
       "      <th>Summary_Add_ID</th>\n",
       "      <th>Summary_Publishing_Date</th>\n",
       "      <th>Summary_Price_EGP</th>\n",
       "      <th>Summary_Seller_Type</th>\n",
       "      <th>Summary_Price_P_M</th>\n",
       "    </tr>\n",
       "  </thead>\n",
       "  <tbody>\n",
       "    <tr>\n",
       "      <th>61</th>\n",
       "      <td>27</td>\n",
       "      <td>Apartments For sale in Dokki - D169\\nالدقي, ال...</td>\n",
       "      <td>https://aqarmap.com.eg/en/listing/3133062-for-...</td>\n",
       "      <td>5</td>\n",
       "      <td>4</td>\n",
       "      <td>2</td>\n",
       "      <td>1970</td>\n",
       "      <td>LUX</td>\n",
       "      <td>Main Street</td>\n",
       "      <td>145 M²</td>\n",
       "      <td>EG-3133062</td>\n",
       "      <td>5/1/2022</td>\n",
       "    </tr>\n",
       "    <tr>\n",
       "      <th>62</th>\n",
       "      <td>3</td>\n",
       "      <td>Apartments For sale in Feini Square - D170\\nمي...</td>\n",
       "      <td>https://aqarmap.com.eg/en/listing/3133143-for-...</td>\n",
       "      <td>3</td>\n",
       "      <td>2</td>\n",
       "      <td>2</td>\n",
       "      <td>1980</td>\n",
       "      <td>SUPER_LUX</td>\n",
       "      <td>Main Street</td>\n",
       "      <td>238 M²</td>\n",
       "      <td>EG-3133143</td>\n",
       "      <td>5/1/2022</td>\n",
       "    </tr>\n",
       "  </tbody>\n",
       "</table>\n",
       "</div>"
      ],
      "text/plain": [
       "    index                                       Summary_name  \\\n",
       "61     27  Apartments For sale in Dokki - D169\\nالدقي, ال...   \n",
       "62      3  Apartments For sale in Feini Square - D170\\nمي...   \n",
       "\n",
       "                                          Summary_url  Summary_Floor_No  \\\n",
       "61  https://aqarmap.com.eg/en/listing/3133062-for-...                 5   \n",
       "62  https://aqarmap.com.eg/en/listing/3133143-for-...                 3   \n",
       "\n",
       "    Summary_No_Rooms  Summary_No_Bathrooms Summary_Area_m2 Summary_Add_ID  \\\n",
       "61                 4                     2            1970            LUX   \n",
       "62                 2                     2            1980      SUPER_LUX   \n",
       "\n",
       "   Summary_Publishing_Date Summary_Price_EGP Summary_Seller_Type  \\\n",
       "61             Main Street            145 M²          EG-3133062   \n",
       "62             Main Street            238 M²          EG-3133143   \n",
       "\n",
       "   Summary_Price_P_M  \n",
       "61          5/1/2022  \n",
       "62          5/1/2022  "
      ]
     },
     "execution_count": 31,
     "metadata": {},
     "output_type": "execute_result"
    }
   ],
   "source": [
    "years = df5[~df5[\"Summary_Area_m2\"].str.contains('M')]\n",
    "years.head(2)"
   ]
  },
  {
   "cell_type": "markdown",
   "id": "505a0159",
   "metadata": {},
   "source": [
    "For the above rows, the values of area is shifted 3 columns, so we need to drop the extra columns.\n",
    "First, I'll drop these rows, then drop the unneeded columns, then merge the rows back to the dataset"
   ]
  },
  {
   "cell_type": "code",
   "execution_count": 32,
   "id": "df59bf43",
   "metadata": {},
   "outputs": [
    {
     "data": {
      "text/html": [
       "<div>\n",
       "<style scoped>\n",
       "    .dataframe tbody tr th:only-of-type {\n",
       "        vertical-align: middle;\n",
       "    }\n",
       "\n",
       "    .dataframe tbody tr th {\n",
       "        vertical-align: top;\n",
       "    }\n",
       "\n",
       "    .dataframe thead th {\n",
       "        text-align: right;\n",
       "    }\n",
       "</style>\n",
       "<table border=\"1\" class=\"dataframe\">\n",
       "  <thead>\n",
       "    <tr style=\"text-align: right;\">\n",
       "      <th></th>\n",
       "      <th>index</th>\n",
       "      <th>Summary_name</th>\n",
       "      <th>Summary_url</th>\n",
       "      <th>Summary_Floor_No</th>\n",
       "      <th>Summary_No_Rooms</th>\n",
       "      <th>Summary_No_Bathrooms</th>\n",
       "      <th>Summary_Area_m2</th>\n",
       "      <th>Summary_Add_ID</th>\n",
       "      <th>Summary_Publishing_Date</th>\n",
       "      <th>Summary_Price_EGP</th>\n",
       "      <th>Summary_Seller_Type</th>\n",
       "      <th>Summary_Price_P_M</th>\n",
       "    </tr>\n",
       "  </thead>\n",
       "  <tbody>\n",
       "    <tr>\n",
       "      <th>0</th>\n",
       "      <td>143</td>\n",
       "      <td>فرصه لا تعوض\\nEl Marg, Greater Cairo\\n100 M² 3...</td>\n",
       "      <td>https://aqarmap.com.eg/en/listing/3133310-for-...</td>\n",
       "      <td>4</td>\n",
       "      <td>3</td>\n",
       "      <td>1</td>\n",
       "      <td>100 M²</td>\n",
       "      <td>EG-3133310</td>\n",
       "      <td>05/01/2022</td>\n",
       "      <td>300,000 EGP</td>\n",
       "      <td>Property Owner</td>\n",
       "      <td>3,000 EGP/M²</td>\n",
       "    </tr>\n",
       "    <tr>\n",
       "      <th>1</th>\n",
       "      <td>5</td>\n",
       "      <td>شقة سوبر لوكس للبييع بمسطرد فرعي من شارع بور س...</td>\n",
       "      <td>https://aqarmap.com.eg/en/listing/3133765-for-...</td>\n",
       "      <td>5</td>\n",
       "      <td>2</td>\n",
       "      <td>1</td>\n",
       "      <td>100 M²</td>\n",
       "      <td>EG-3133765</td>\n",
       "      <td>06/01/2022</td>\n",
       "      <td>300,000 EGP</td>\n",
       "      <td>Property Owner</td>\n",
       "      <td>3,000 EGP/M²</td>\n",
       "    </tr>\n",
       "  </tbody>\n",
       "</table>\n",
       "</div>"
      ],
      "text/plain": [
       "   index                                       Summary_name  \\\n",
       "0    143  فرصه لا تعوض\\nEl Marg, Greater Cairo\\n100 M² 3...   \n",
       "1      5  شقة سوبر لوكس للبييع بمسطرد فرعي من شارع بور س...   \n",
       "\n",
       "                                         Summary_url  Summary_Floor_No  \\\n",
       "0  https://aqarmap.com.eg/en/listing/3133310-for-...                 4   \n",
       "1  https://aqarmap.com.eg/en/listing/3133765-for-...                 5   \n",
       "\n",
       "   Summary_No_Rooms  Summary_No_Bathrooms Summary_Area_m2 Summary_Add_ID  \\\n",
       "0                 3                     1          100 M²     EG-3133310   \n",
       "1                 2                     1          100 M²     EG-3133765   \n",
       "\n",
       "  Summary_Publishing_Date Summary_Price_EGP Summary_Seller_Type  \\\n",
       "0              05/01/2022       300,000 EGP      Property Owner   \n",
       "1              06/01/2022       300,000 EGP      Property Owner   \n",
       "\n",
       "  Summary_Price_P_M  \n",
       "0      3,000 EGP/M²  \n",
       "1      3,000 EGP/M²  "
      ]
     },
     "execution_count": 32,
     "metadata": {},
     "output_type": "execute_result"
    }
   ],
   "source": [
    "df6=df5.drop(axis=0, index=years.index)\n",
    "df6.head(2)"
   ]
  },
  {
   "cell_type": "markdown",
   "id": "a447e586",
   "metadata": {},
   "source": [
    "Now Let's drop the unneeded columns"
   ]
  },
  {
   "cell_type": "code",
   "execution_count": 33,
   "id": "29421932",
   "metadata": {},
   "outputs": [
    {
     "name": "stderr",
     "output_type": "stream",
     "text": [
      "D:\\Anaconda\\lib\\site-packages\\pandas\\core\\frame.py:4308: SettingWithCopyWarning: \n",
      "A value is trying to be set on a copy of a slice from a DataFrame\n",
      "\n",
      "See the caveats in the documentation: https://pandas.pydata.org/pandas-docs/stable/user_guide/indexing.html#returning-a-view-versus-a-copy\n",
      "  return super().drop(\n"
     ]
    },
    {
     "data": {
      "text/html": [
       "<div>\n",
       "<style scoped>\n",
       "    .dataframe tbody tr th:only-of-type {\n",
       "        vertical-align: middle;\n",
       "    }\n",
       "\n",
       "    .dataframe tbody tr th {\n",
       "        vertical-align: top;\n",
       "    }\n",
       "\n",
       "    .dataframe thead th {\n",
       "        text-align: right;\n",
       "    }\n",
       "</style>\n",
       "<table border=\"1\" class=\"dataframe\">\n",
       "  <thead>\n",
       "    <tr style=\"text-align: right;\">\n",
       "      <th></th>\n",
       "      <th>index</th>\n",
       "      <th>Summary_name</th>\n",
       "      <th>Summary_url</th>\n",
       "      <th>Summary_Floor_No</th>\n",
       "      <th>Summary_No_Rooms</th>\n",
       "      <th>Summary_No_Bathrooms</th>\n",
       "      <th>Summary_Price_EGP</th>\n",
       "      <th>Summary_Seller_Type</th>\n",
       "      <th>Summary_Price_P_M</th>\n",
       "    </tr>\n",
       "  </thead>\n",
       "  <tbody>\n",
       "    <tr>\n",
       "      <th>61</th>\n",
       "      <td>27</td>\n",
       "      <td>Apartments For sale in Dokki - D169\\nالدقي, ال...</td>\n",
       "      <td>https://aqarmap.com.eg/en/listing/3133062-for-...</td>\n",
       "      <td>5</td>\n",
       "      <td>4</td>\n",
       "      <td>2</td>\n",
       "      <td>145 M²</td>\n",
       "      <td>EG-3133062</td>\n",
       "      <td>5/1/2022</td>\n",
       "    </tr>\n",
       "    <tr>\n",
       "      <th>62</th>\n",
       "      <td>3</td>\n",
       "      <td>Apartments For sale in Feini Square - D170\\nمي...</td>\n",
       "      <td>https://aqarmap.com.eg/en/listing/3133143-for-...</td>\n",
       "      <td>3</td>\n",
       "      <td>2</td>\n",
       "      <td>2</td>\n",
       "      <td>238 M²</td>\n",
       "      <td>EG-3133143</td>\n",
       "      <td>5/1/2022</td>\n",
       "    </tr>\n",
       "  </tbody>\n",
       "</table>\n",
       "</div>"
      ],
      "text/plain": [
       "    index                                       Summary_name  \\\n",
       "61     27  Apartments For sale in Dokki - D169\\nالدقي, ال...   \n",
       "62      3  Apartments For sale in Feini Square - D170\\nمي...   \n",
       "\n",
       "                                          Summary_url  Summary_Floor_No  \\\n",
       "61  https://aqarmap.com.eg/en/listing/3133062-for-...                 5   \n",
       "62  https://aqarmap.com.eg/en/listing/3133143-for-...                 3   \n",
       "\n",
       "    Summary_No_Rooms  Summary_No_Bathrooms Summary_Price_EGP  \\\n",
       "61                 4                     2            145 M²   \n",
       "62                 2                     2            238 M²   \n",
       "\n",
       "   Summary_Seller_Type Summary_Price_P_M  \n",
       "61          EG-3133062          5/1/2022  \n",
       "62          EG-3133143          5/1/2022  "
      ]
     },
     "execution_count": 33,
     "metadata": {},
     "output_type": "execute_result"
    }
   ],
   "source": [
    "years.drop(axis=1, labels=['Summary_Area_m2','Summary_Add_ID','Summary_Publishing_Date'], inplace=True)\n",
    "years.head(2)"
   ]
  },
  {
   "cell_type": "markdown",
   "id": "1ad1d20c",
   "metadata": {},
   "source": [
    "Now, Let's rename the columns with the correct names"
   ]
  },
  {
   "cell_type": "code",
   "execution_count": 34,
   "id": "52258bde",
   "metadata": {},
   "outputs": [
    {
     "data": {
      "text/html": [
       "<div>\n",
       "<style scoped>\n",
       "    .dataframe tbody tr th:only-of-type {\n",
       "        vertical-align: middle;\n",
       "    }\n",
       "\n",
       "    .dataframe tbody tr th {\n",
       "        vertical-align: top;\n",
       "    }\n",
       "\n",
       "    .dataframe thead th {\n",
       "        text-align: right;\n",
       "    }\n",
       "</style>\n",
       "<table border=\"1\" class=\"dataframe\">\n",
       "  <thead>\n",
       "    <tr style=\"text-align: right;\">\n",
       "      <th></th>\n",
       "      <th>index</th>\n",
       "      <th>Summary_name</th>\n",
       "      <th>Summary_url</th>\n",
       "      <th>Summary_Floor_No</th>\n",
       "      <th>Summary_No_Rooms</th>\n",
       "      <th>Summary_No_Bathrooms</th>\n",
       "      <th>Summary_Area_m2</th>\n",
       "      <th>Summary_Add_ID</th>\n",
       "      <th>Summary_Publishing_Date</th>\n",
       "    </tr>\n",
       "  </thead>\n",
       "  <tbody>\n",
       "    <tr>\n",
       "      <th>61</th>\n",
       "      <td>27</td>\n",
       "      <td>Apartments For sale in Dokki - D169\\nالدقي, ال...</td>\n",
       "      <td>https://aqarmap.com.eg/en/listing/3133062-for-...</td>\n",
       "      <td>5</td>\n",
       "      <td>4</td>\n",
       "      <td>2</td>\n",
       "      <td>145 M²</td>\n",
       "      <td>EG-3133062</td>\n",
       "      <td>5/1/2022</td>\n",
       "    </tr>\n",
       "    <tr>\n",
       "      <th>62</th>\n",
       "      <td>3</td>\n",
       "      <td>Apartments For sale in Feini Square - D170\\nمي...</td>\n",
       "      <td>https://aqarmap.com.eg/en/listing/3133143-for-...</td>\n",
       "      <td>3</td>\n",
       "      <td>2</td>\n",
       "      <td>2</td>\n",
       "      <td>238 M²</td>\n",
       "      <td>EG-3133143</td>\n",
       "      <td>5/1/2022</td>\n",
       "    </tr>\n",
       "  </tbody>\n",
       "</table>\n",
       "</div>"
      ],
      "text/plain": [
       "    index                                       Summary_name  \\\n",
       "61     27  Apartments For sale in Dokki - D169\\nالدقي, ال...   \n",
       "62      3  Apartments For sale in Feini Square - D170\\nمي...   \n",
       "\n",
       "                                          Summary_url  Summary_Floor_No  \\\n",
       "61  https://aqarmap.com.eg/en/listing/3133062-for-...                 5   \n",
       "62  https://aqarmap.com.eg/en/listing/3133143-for-...                 3   \n",
       "\n",
       "    Summary_No_Rooms  Summary_No_Bathrooms Summary_Area_m2 Summary_Add_ID  \\\n",
       "61                 4                     2          145 M²     EG-3133062   \n",
       "62                 2                     2          238 M²     EG-3133143   \n",
       "\n",
       "   Summary_Publishing_Date  \n",
       "61                5/1/2022  \n",
       "62                5/1/2022  "
      ]
     },
     "execution_count": 34,
     "metadata": {},
     "output_type": "execute_result"
    }
   ],
   "source": [
    "years.columns=df5.columns[:-3]\n",
    "years.head(2)"
   ]
  },
  {
   "cell_type": "code",
   "execution_count": 35,
   "id": "cd27e03f",
   "metadata": {},
   "outputs": [
    {
     "data": {
      "text/plain": [
       "398"
      ]
     },
     "execution_count": 35,
     "metadata": {},
     "output_type": "execute_result"
    }
   ],
   "source": [
    "df7=pd.concat([df6,years])\n",
    "len(df7)"
   ]
  },
  {
   "cell_type": "markdown",
   "id": "65be3f63",
   "metadata": {},
   "source": [
    "Let's have a look on the values of the column now"
   ]
  },
  {
   "cell_type": "code",
   "execution_count": 36,
   "id": "cbeb1d83",
   "metadata": {},
   "outputs": [
    {
     "data": {
      "text/plain": [
       "array(['100 M²', '101 M²', '105 M²', '110 M²', '115 M²', '120 M²',\n",
       "       '125 M²', '130 M²', '136 M²', '139 M²', '140 M²', '145 M²',\n",
       "       '150 M²', '156 M²', '160 M²', '164 M²', '165 M²', '170 M²',\n",
       "       '175 M²', '180 M²', '183 M²', '185 M²', '190 M²', '195 M²',\n",
       "       '200 M²', '202 M²', '220 M²', '240 M²', '245 M²', '250 M²',\n",
       "       '265 M²', '300 M²', '330 M²', '500 M²', '530 M²', '56 M²', '57 M²',\n",
       "       '63 M²', '65 M²', '70 M²', '75 M²', '80 M²', '84 M²', '90 M²',\n",
       "       '95 M²', '96 M²', '238 M²', '226 M²', '600 M²', '310 M²', '290 M²',\n",
       "       '108 M²', '168 M²', '198 M²', '135 M²', '155 M²', '138 M²',\n",
       "       '279 M²', '178 M²', 'EG-2943994', '312 M²', '450 M²', '270 M²',\n",
       "       'EG-3106020', '230 M²', '113 M²', '295 M²', '323 M²', '277 M²',\n",
       "       '174 M²', '400 M²', '184 M²', '211 M²', '143 M²', '224 M²',\n",
       "       '280 M²', '225 M²', '205 M²', '163 M²', '288 M²', '410 M²',\n",
       "       '166 M²', 'EG-3120640', '154 M²', '182 M²', '149 M²', 'EG-3000957',\n",
       "       '107 M²', '210 M²', '212 M²', '236 M²', '117 M²', '366 M²',\n",
       "       '213 M²', '83 M²', 'EG-3089009', '127 M²', 'EG-2922190', '158 M²',\n",
       "       'EG-2953270', '141 M²', '176 M²', '116 M²', '369 M²', '259 M²',\n",
       "       'EG-3048173', '167 M²', 'EG-3120346', '248 M²', 'EG-3125808',\n",
       "       'EG-3048170', '144 M²', '350 M²', '206 M²', '222 M²', '203 M²',\n",
       "       '181 M²', '209 M²', '131 M²', '153 M²', '152 M²', '177 M²',\n",
       "       'EG-3099488', 'EG-3119088', 'EG-3099507', '157 M²', '169 M²',\n",
       "       '275 M²', '121 M²', '173 M²', 'EG-3100122', 'EG-3100134', '415 M²',\n",
       "       '91 M²', '161 M²', '268 M²', 'EG-2929577', '62 M²', '207 M²',\n",
       "       '171 M²', '142 M²', '132 M²', '88 M²', '98 M²', '147 M²', '126 M²',\n",
       "       '172 M²', '133 M²', '112 M²'], dtype=object)"
      ]
     },
     "execution_count": 36,
     "metadata": {},
     "output_type": "execute_result"
    }
   ],
   "source": [
    "df7['Summary_Area_m2'].unique()"
   ]
  },
  {
   "cell_type": "markdown",
   "id": "674932dd",
   "metadata": {},
   "source": [
    "It seems that this step returned the value of \"Summary_Add_ID\" for some rows. This means we should shift them back to the right for 1 step"
   ]
  },
  {
   "cell_type": "code",
   "execution_count": 37,
   "id": "aa3385e5",
   "metadata": {},
   "outputs": [
    {
     "data": {
      "text/html": [
       "<div>\n",
       "<style scoped>\n",
       "    .dataframe tbody tr th:only-of-type {\n",
       "        vertical-align: middle;\n",
       "    }\n",
       "\n",
       "    .dataframe tbody tr th {\n",
       "        vertical-align: top;\n",
       "    }\n",
       "\n",
       "    .dataframe thead th {\n",
       "        text-align: right;\n",
       "    }\n",
       "</style>\n",
       "<table border=\"1\" class=\"dataframe\">\n",
       "  <thead>\n",
       "    <tr style=\"text-align: right;\">\n",
       "      <th></th>\n",
       "      <th>level_0</th>\n",
       "      <th>index</th>\n",
       "      <th>Summary_name</th>\n",
       "      <th>Summary_url</th>\n",
       "      <th>Summary_Floor_No</th>\n",
       "      <th>Summary_No_Rooms</th>\n",
       "      <th>Summary_No_Bathrooms</th>\n",
       "      <th>Summary_Area_m2</th>\n",
       "      <th>Summary_Add_ID</th>\n",
       "      <th>Summary_Publishing_Date</th>\n",
       "      <th>Summary_Price_EGP</th>\n",
       "      <th>Summary_Seller_Type</th>\n",
       "      <th>Summary_Price_P_M</th>\n",
       "    </tr>\n",
       "  </thead>\n",
       "  <tbody>\n",
       "    <tr>\n",
       "      <th>396</th>\n",
       "      <td>145</td>\n",
       "      <td>74</td>\n",
       "      <td>Apartments For sale in Al Andalus 1\\nالأندلس 1...</td>\n",
       "      <td>https://aqarmap.com.eg/en/listing/3120640-for-...</td>\n",
       "      <td>3</td>\n",
       "      <td>3</td>\n",
       "      <td>2</td>\n",
       "      <td>EG-3120640</td>\n",
       "      <td>Apartments For sale in Al Andalus 1</td>\n",
       "      <td>1,380,000 EGP</td>\n",
       "      <td>NaN</td>\n",
       "      <td>NaN</td>\n",
       "      <td>NaN</td>\n",
       "    </tr>\n",
       "    <tr>\n",
       "      <th>397</th>\n",
       "      <td>226</td>\n",
       "      <td>61</td>\n",
       "      <td>Apartments in Compounds in 6 October 185 M² Se...</td>\n",
       "      <td>https://aqarmap.com.eg/en/listing/3125808-for-...</td>\n",
       "      <td>1</td>\n",
       "      <td>3</td>\n",
       "      <td>3</td>\n",
       "      <td>EG-3125808</td>\n",
       "      <td>Apartments in Compounds in 6 October 185 M² Se...</td>\n",
       "      <td>1,221,000 EGP</td>\n",
       "      <td>NaN</td>\n",
       "      <td>NaN</td>\n",
       "      <td>NaN</td>\n",
       "    </tr>\n",
       "  </tbody>\n",
       "</table>\n",
       "</div>"
      ],
      "text/plain": [
       "     level_0  index                                       Summary_name  \\\n",
       "396      145     74  Apartments For sale in Al Andalus 1\\nالأندلس 1...   \n",
       "397      226     61  Apartments in Compounds in 6 October 185 M² Se...   \n",
       "\n",
       "                                           Summary_url  Summary_Floor_No  \\\n",
       "396  https://aqarmap.com.eg/en/listing/3120640-for-...                 3   \n",
       "397  https://aqarmap.com.eg/en/listing/3125808-for-...                 1   \n",
       "\n",
       "     Summary_No_Rooms  Summary_No_Bathrooms Summary_Area_m2  \\\n",
       "396                 3                     2      EG-3120640   \n",
       "397                 3                     3      EG-3125808   \n",
       "\n",
       "                                        Summary_Add_ID  \\\n",
       "396                Apartments For sale in Al Andalus 1   \n",
       "397  Apartments in Compounds in 6 October 185 M² Se...   \n",
       "\n",
       "    Summary_Publishing_Date Summary_Price_EGP Summary_Seller_Type  \\\n",
       "396           1,380,000 EGP               NaN                 NaN   \n",
       "397           1,221,000 EGP               NaN                 NaN   \n",
       "\n",
       "    Summary_Price_P_M  \n",
       "396               NaN  \n",
       "397               NaN  "
      ]
     },
     "execution_count": 37,
     "metadata": {},
     "output_type": "execute_result"
    }
   ],
   "source": [
    "df8= df7.sort_values(by=\"Summary_Area_m2\").reset_index()\n",
    "df8.tail(2)"
   ]
  },
  {
   "cell_type": "markdown",
   "id": "31474e90",
   "metadata": {},
   "source": [
    "To get these rows, I will filter the column with the values starting with \"EG\""
   ]
  },
  {
   "cell_type": "code",
   "execution_count": 38,
   "id": "4da0bb1b",
   "metadata": {
    "scrolled": true
   },
   "outputs": [
    {
     "data": {
      "text/html": [
       "<div>\n",
       "<style scoped>\n",
       "    .dataframe tbody tr th:only-of-type {\n",
       "        vertical-align: middle;\n",
       "    }\n",
       "\n",
       "    .dataframe tbody tr th {\n",
       "        vertical-align: top;\n",
       "    }\n",
       "\n",
       "    .dataframe thead th {\n",
       "        text-align: right;\n",
       "    }\n",
       "</style>\n",
       "<table border=\"1\" class=\"dataframe\">\n",
       "  <thead>\n",
       "    <tr style=\"text-align: right;\">\n",
       "      <th></th>\n",
       "      <th>level_0</th>\n",
       "      <th>index</th>\n",
       "      <th>Summary_name</th>\n",
       "      <th>Summary_url</th>\n",
       "      <th>Summary_Floor_No</th>\n",
       "      <th>Summary_No_Rooms</th>\n",
       "      <th>Summary_No_Bathrooms</th>\n",
       "      <th>Summary_Area_m2</th>\n",
       "      <th>Summary_Add_ID</th>\n",
       "      <th>Summary_Publishing_Date</th>\n",
       "      <th>Summary_Price_EGP</th>\n",
       "      <th>Summary_Seller_Type</th>\n",
       "      <th>Summary_Price_P_M</th>\n",
       "    </tr>\n",
       "  </thead>\n",
       "  <tbody>\n",
       "    <tr>\n",
       "      <th>381</th>\n",
       "      <td>193</td>\n",
       "      <td>156</td>\n",
       "      <td>Apartments 259 M² Semi Finished in El Bostan\\n...</td>\n",
       "      <td>https://aqarmap.com.eg/en/listing/2922190-for-...</td>\n",
       "      <td>3</td>\n",
       "      <td>3</td>\n",
       "      <td>3</td>\n",
       "      <td>EG-2922190</td>\n",
       "      <td>Apartments 259 M² Semi Finished in El Bostan</td>\n",
       "      <td>2,500,000 EGP</td>\n",
       "      <td>NaN</td>\n",
       "      <td>NaN</td>\n",
       "      <td>NaN</td>\n",
       "    </tr>\n",
       "    <tr>\n",
       "      <th>382</th>\n",
       "      <td>331</td>\n",
       "      <td>100</td>\n",
       "      <td>Apartments 160 M² Semi Finished in El Narges O...</td>\n",
       "      <td>https://aqarmap.com.eg/en/listing/2929577-for-...</td>\n",
       "      <td>1</td>\n",
       "      <td>3</td>\n",
       "      <td>3</td>\n",
       "      <td>EG-2929577</td>\n",
       "      <td>Apartments 160 M² Semi Finished in El Narges O...</td>\n",
       "      <td>1,515,000 EGP</td>\n",
       "      <td>NaN</td>\n",
       "      <td>NaN</td>\n",
       "      <td>NaN</td>\n",
       "    </tr>\n",
       "  </tbody>\n",
       "</table>\n",
       "</div>"
      ],
      "text/plain": [
       "     level_0  index                                       Summary_name  \\\n",
       "381      193    156  Apartments 259 M² Semi Finished in El Bostan\\n...   \n",
       "382      331    100  Apartments 160 M² Semi Finished in El Narges O...   \n",
       "\n",
       "                                           Summary_url  Summary_Floor_No  \\\n",
       "381  https://aqarmap.com.eg/en/listing/2922190-for-...                 3   \n",
       "382  https://aqarmap.com.eg/en/listing/2929577-for-...                 1   \n",
       "\n",
       "     Summary_No_Rooms  Summary_No_Bathrooms Summary_Area_m2  \\\n",
       "381                 3                     3      EG-2922190   \n",
       "382                 3                     3      EG-2929577   \n",
       "\n",
       "                                        Summary_Add_ID  \\\n",
       "381       Apartments 259 M² Semi Finished in El Bostan   \n",
       "382  Apartments 160 M² Semi Finished in El Narges O...   \n",
       "\n",
       "    Summary_Publishing_Date Summary_Price_EGP Summary_Seller_Type  \\\n",
       "381           2,500,000 EGP               NaN                 NaN   \n",
       "382           1,515,000 EGP               NaN                 NaN   \n",
       "\n",
       "    Summary_Price_P_M  \n",
       "381               NaN  \n",
       "382               NaN  "
      ]
     },
     "execution_count": 38,
     "metadata": {},
     "output_type": "execute_result"
    }
   ],
   "source": [
    "ad=df8[df8['Summary_Area_m2'].map(lambda x: x.startswith('EG'))]\n",
    "ad.head(2)"
   ]
  },
  {
   "cell_type": "code",
   "execution_count": 39,
   "id": "1090b0ca",
   "metadata": {},
   "outputs": [
    {
     "data": {
      "text/plain": [
       "398"
      ]
     },
     "execution_count": 39,
     "metadata": {},
     "output_type": "execute_result"
    }
   ],
   "source": [
    "len(df8)"
   ]
  },
  {
   "cell_type": "code",
   "execution_count": 40,
   "id": "96d9381b",
   "metadata": {},
   "outputs": [
    {
     "data": {
      "text/plain": [
       "17"
      ]
     },
     "execution_count": 40,
     "metadata": {},
     "output_type": "execute_result"
    }
   ],
   "source": [
    "len(ad)"
   ]
  },
  {
   "cell_type": "markdown",
   "id": "e69d4105",
   "metadata": {},
   "source": [
    "Then I will drop these rows, shift the column 1 step to the right, and merge it back with our data"
   ]
  },
  {
   "cell_type": "code",
   "execution_count": 41,
   "id": "4488be1f",
   "metadata": {},
   "outputs": [
    {
     "data": {
      "text/html": [
       "<div>\n",
       "<style scoped>\n",
       "    .dataframe tbody tr th:only-of-type {\n",
       "        vertical-align: middle;\n",
       "    }\n",
       "\n",
       "    .dataframe tbody tr th {\n",
       "        vertical-align: top;\n",
       "    }\n",
       "\n",
       "    .dataframe thead th {\n",
       "        text-align: right;\n",
       "    }\n",
       "</style>\n",
       "<table border=\"1\" class=\"dataframe\">\n",
       "  <thead>\n",
       "    <tr style=\"text-align: right;\">\n",
       "      <th></th>\n",
       "      <th>level_0</th>\n",
       "      <th>index</th>\n",
       "      <th>Summary_name</th>\n",
       "      <th>Summary_url</th>\n",
       "      <th>Summary_Floor_No</th>\n",
       "      <th>Summary_No_Rooms</th>\n",
       "      <th>Summary_No_Bathrooms</th>\n",
       "      <th>Summary_Area_m2</th>\n",
       "      <th>Summary_Add_ID</th>\n",
       "      <th>Summary_Publishing_Date</th>\n",
       "      <th>Summary_Price_EGP</th>\n",
       "      <th>Summary_Seller_Type</th>\n",
       "      <th>Summary_Price_P_M</th>\n",
       "    </tr>\n",
       "  </thead>\n",
       "  <tbody>\n",
       "    <tr>\n",
       "      <th>0</th>\n",
       "      <td>0</td>\n",
       "      <td>143</td>\n",
       "      <td>فرصه لا تعوض\\nEl Marg, Greater Cairo\\n100 M² 3...</td>\n",
       "      <td>https://aqarmap.com.eg/en/listing/3133310-for-...</td>\n",
       "      <td>4</td>\n",
       "      <td>3</td>\n",
       "      <td>1</td>\n",
       "      <td>100 M²</td>\n",
       "      <td>EG-3133310</td>\n",
       "      <td>05/01/2022</td>\n",
       "      <td>300,000 EGP</td>\n",
       "      <td>Property Owner</td>\n",
       "      <td>3,000 EGP/M²</td>\n",
       "    </tr>\n",
       "    <tr>\n",
       "      <th>1</th>\n",
       "      <td>1</td>\n",
       "      <td>5</td>\n",
       "      <td>شقة سوبر لوكس للبييع بمسطرد فرعي من شارع بور س...</td>\n",
       "      <td>https://aqarmap.com.eg/en/listing/3133765-for-...</td>\n",
       "      <td>5</td>\n",
       "      <td>2</td>\n",
       "      <td>1</td>\n",
       "      <td>100 M²</td>\n",
       "      <td>EG-3133765</td>\n",
       "      <td>06/01/2022</td>\n",
       "      <td>300,000 EGP</td>\n",
       "      <td>Property Owner</td>\n",
       "      <td>3,000 EGP/M²</td>\n",
       "    </tr>\n",
       "  </tbody>\n",
       "</table>\n",
       "</div>"
      ],
      "text/plain": [
       "   level_0  index                                       Summary_name  \\\n",
       "0        0    143  فرصه لا تعوض\\nEl Marg, Greater Cairo\\n100 M² 3...   \n",
       "1        1      5  شقة سوبر لوكس للبييع بمسطرد فرعي من شارع بور س...   \n",
       "\n",
       "                                         Summary_url  Summary_Floor_No  \\\n",
       "0  https://aqarmap.com.eg/en/listing/3133310-for-...                 4   \n",
       "1  https://aqarmap.com.eg/en/listing/3133765-for-...                 5   \n",
       "\n",
       "   Summary_No_Rooms  Summary_No_Bathrooms Summary_Area_m2 Summary_Add_ID  \\\n",
       "0                 3                     1          100 M²     EG-3133310   \n",
       "1                 2                     1          100 M²     EG-3133765   \n",
       "\n",
       "  Summary_Publishing_Date Summary_Price_EGP Summary_Seller_Type  \\\n",
       "0              05/01/2022       300,000 EGP      Property Owner   \n",
       "1              06/01/2022       300,000 EGP      Property Owner   \n",
       "\n",
       "  Summary_Price_P_M  \n",
       "0      3,000 EGP/M²  \n",
       "1      3,000 EGP/M²  "
      ]
     },
     "execution_count": 41,
     "metadata": {},
     "output_type": "execute_result"
    }
   ],
   "source": [
    "df9=df8.drop(axis=0, labels=ad.index)\n",
    "df9.head(2)"
   ]
  },
  {
   "cell_type": "code",
   "execution_count": 42,
   "id": "e0f167e2",
   "metadata": {},
   "outputs": [
    {
     "data": {
      "text/plain": [
       "381"
      ]
     },
     "execution_count": 42,
     "metadata": {},
     "output_type": "execute_result"
    }
   ],
   "source": [
    "len(df9)"
   ]
  },
  {
   "cell_type": "code",
   "execution_count": 43,
   "id": "32795cbd",
   "metadata": {},
   "outputs": [],
   "source": [
    "# Now let's insert a new column to shift the data to the right\n",
    "\n",
    "ad.insert(loc=list(df9.columns).index('Summary_Area_m2'), value=np.nan, column='abc')\n"
   ]
  },
  {
   "cell_type": "code",
   "execution_count": 44,
   "id": "8a994346",
   "metadata": {
    "scrolled": true
   },
   "outputs": [
    {
     "data": {
      "text/html": [
       "<div>\n",
       "<style scoped>\n",
       "    .dataframe tbody tr th:only-of-type {\n",
       "        vertical-align: middle;\n",
       "    }\n",
       "\n",
       "    .dataframe tbody tr th {\n",
       "        vertical-align: top;\n",
       "    }\n",
       "\n",
       "    .dataframe thead th {\n",
       "        text-align: right;\n",
       "    }\n",
       "</style>\n",
       "<table border=\"1\" class=\"dataframe\">\n",
       "  <thead>\n",
       "    <tr style=\"text-align: right;\">\n",
       "      <th></th>\n",
       "      <th>level_0</th>\n",
       "      <th>index</th>\n",
       "      <th>Summary_name</th>\n",
       "      <th>Summary_url</th>\n",
       "      <th>Summary_Floor_No</th>\n",
       "      <th>Summary_No_Rooms</th>\n",
       "      <th>Summary_No_Bathrooms</th>\n",
       "      <th>abc</th>\n",
       "      <th>Summary_Area_m2</th>\n",
       "      <th>Summary_Add_ID</th>\n",
       "      <th>Summary_Publishing_Date</th>\n",
       "      <th>Summary_Price_EGP</th>\n",
       "      <th>Summary_Seller_Type</th>\n",
       "      <th>Summary_Price_P_M</th>\n",
       "    </tr>\n",
       "  </thead>\n",
       "  <tbody>\n",
       "    <tr>\n",
       "      <th>381</th>\n",
       "      <td>193</td>\n",
       "      <td>156</td>\n",
       "      <td>Apartments 259 M² Semi Finished in El Bostan\\n...</td>\n",
       "      <td>https://aqarmap.com.eg/en/listing/2922190-for-...</td>\n",
       "      <td>3</td>\n",
       "      <td>3</td>\n",
       "      <td>3</td>\n",
       "      <td>NaN</td>\n",
       "      <td>EG-2922190</td>\n",
       "      <td>Apartments 259 M² Semi Finished in El Bostan</td>\n",
       "      <td>2,500,000 EGP</td>\n",
       "      <td>NaN</td>\n",
       "      <td>NaN</td>\n",
       "      <td>NaN</td>\n",
       "    </tr>\n",
       "    <tr>\n",
       "      <th>382</th>\n",
       "      <td>331</td>\n",
       "      <td>100</td>\n",
       "      <td>Apartments 160 M² Semi Finished in El Narges O...</td>\n",
       "      <td>https://aqarmap.com.eg/en/listing/2929577-for-...</td>\n",
       "      <td>1</td>\n",
       "      <td>3</td>\n",
       "      <td>3</td>\n",
       "      <td>NaN</td>\n",
       "      <td>EG-2929577</td>\n",
       "      <td>Apartments 160 M² Semi Finished in El Narges O...</td>\n",
       "      <td>1,515,000 EGP</td>\n",
       "      <td>NaN</td>\n",
       "      <td>NaN</td>\n",
       "      <td>NaN</td>\n",
       "    </tr>\n",
       "  </tbody>\n",
       "</table>\n",
       "</div>"
      ],
      "text/plain": [
       "     level_0  index                                       Summary_name  \\\n",
       "381      193    156  Apartments 259 M² Semi Finished in El Bostan\\n...   \n",
       "382      331    100  Apartments 160 M² Semi Finished in El Narges O...   \n",
       "\n",
       "                                           Summary_url  Summary_Floor_No  \\\n",
       "381  https://aqarmap.com.eg/en/listing/2922190-for-...                 3   \n",
       "382  https://aqarmap.com.eg/en/listing/2929577-for-...                 1   \n",
       "\n",
       "     Summary_No_Rooms  Summary_No_Bathrooms  abc Summary_Area_m2  \\\n",
       "381                 3                     3  NaN      EG-2922190   \n",
       "382                 3                     3  NaN      EG-2929577   \n",
       "\n",
       "                                        Summary_Add_ID  \\\n",
       "381       Apartments 259 M² Semi Finished in El Bostan   \n",
       "382  Apartments 160 M² Semi Finished in El Narges O...   \n",
       "\n",
       "    Summary_Publishing_Date Summary_Price_EGP Summary_Seller_Type  \\\n",
       "381           2,500,000 EGP               NaN                 NaN   \n",
       "382           1,515,000 EGP               NaN                 NaN   \n",
       "\n",
       "    Summary_Price_P_M  \n",
       "381               NaN  \n",
       "382               NaN  "
      ]
     },
     "execution_count": 44,
     "metadata": {},
     "output_type": "execute_result"
    }
   ],
   "source": [
    "ad.head(2)"
   ]
  },
  {
   "cell_type": "markdown",
   "id": "6e868627",
   "metadata": {},
   "source": [
    "Now Let's rename the columns"
   ]
  },
  {
   "cell_type": "code",
   "execution_count": 45,
   "id": "5b579246",
   "metadata": {},
   "outputs": [
    {
     "data": {
      "text/plain": [
       "['level_0',\n",
       " 'index',\n",
       " 'Summary_name',\n",
       " 'Summary_url',\n",
       " 'Summary_Floor_No',\n",
       " 'Summary_No_Rooms',\n",
       " 'Summary_No_Bathrooms',\n",
       " 'Summary_Area_m2',\n",
       " 'Summary_Add_ID',\n",
       " 'Summary_Publishing_Date',\n",
       " 'Summary_Price_EGP',\n",
       " 'Summary_Seller_Type',\n",
       " 'Summary_Price_P_M',\n",
       " 'dummy']"
      ]
     },
     "execution_count": 45,
     "metadata": {},
     "output_type": "execute_result"
    }
   ],
   "source": [
    "new=list(df9.columns)\n",
    "new.append('dummy')\n",
    "new"
   ]
  },
  {
   "cell_type": "code",
   "execution_count": 46,
   "id": "bffb934e",
   "metadata": {},
   "outputs": [
    {
     "data": {
      "text/plain": [
       "Index(['level_0', 'index', 'Summary_name', 'Summary_url', 'Summary_Floor_No',\n",
       "       'Summary_No_Rooms', 'Summary_No_Bathrooms', 'Summary_Area_m2',\n",
       "       'Summary_Add_ID', 'Summary_Publishing_Date', 'Summary_Price_EGP',\n",
       "       'Summary_Seller_Type', 'Summary_Price_P_M', 'dummy'],\n",
       "      dtype='object')"
      ]
     },
     "execution_count": 46,
     "metadata": {},
     "output_type": "execute_result"
    }
   ],
   "source": [
    "ad.columns= new\n",
    "ad.columns"
   ]
  },
  {
   "cell_type": "markdown",
   "id": "7bcd2302",
   "metadata": {},
   "source": [
    "Now Let's merge both rows"
   ]
  },
  {
   "cell_type": "code",
   "execution_count": 47,
   "id": "6f1642c1",
   "metadata": {},
   "outputs": [
    {
     "data": {
      "text/html": [
       "<div>\n",
       "<style scoped>\n",
       "    .dataframe tbody tr th:only-of-type {\n",
       "        vertical-align: middle;\n",
       "    }\n",
       "\n",
       "    .dataframe tbody tr th {\n",
       "        vertical-align: top;\n",
       "    }\n",
       "\n",
       "    .dataframe thead th {\n",
       "        text-align: right;\n",
       "    }\n",
       "</style>\n",
       "<table border=\"1\" class=\"dataframe\">\n",
       "  <thead>\n",
       "    <tr style=\"text-align: right;\">\n",
       "      <th></th>\n",
       "      <th>level_0</th>\n",
       "      <th>index</th>\n",
       "      <th>Summary_name</th>\n",
       "      <th>Summary_url</th>\n",
       "      <th>Summary_Floor_No</th>\n",
       "      <th>Summary_No_Rooms</th>\n",
       "      <th>Summary_No_Bathrooms</th>\n",
       "      <th>Summary_Area_m2</th>\n",
       "      <th>Summary_Add_ID</th>\n",
       "      <th>Summary_Publishing_Date</th>\n",
       "      <th>Summary_Price_EGP</th>\n",
       "      <th>Summary_Seller_Type</th>\n",
       "      <th>Summary_Price_P_M</th>\n",
       "    </tr>\n",
       "  </thead>\n",
       "  <tbody>\n",
       "    <tr>\n",
       "      <th>0</th>\n",
       "      <td>0</td>\n",
       "      <td>143</td>\n",
       "      <td>فرصه لا تعوض\\nEl Marg, Greater Cairo\\n100 M² 3...</td>\n",
       "      <td>https://aqarmap.com.eg/en/listing/3133310-for-...</td>\n",
       "      <td>4</td>\n",
       "      <td>3</td>\n",
       "      <td>1</td>\n",
       "      <td>100 M²</td>\n",
       "      <td>EG-3133310</td>\n",
       "      <td>05/01/2022</td>\n",
       "      <td>300,000 EGP</td>\n",
       "      <td>Property Owner</td>\n",
       "      <td>3,000 EGP/M²</td>\n",
       "    </tr>\n",
       "    <tr>\n",
       "      <th>1</th>\n",
       "      <td>1</td>\n",
       "      <td>5</td>\n",
       "      <td>شقة سوبر لوكس للبييع بمسطرد فرعي من شارع بور س...</td>\n",
       "      <td>https://aqarmap.com.eg/en/listing/3133765-for-...</td>\n",
       "      <td>5</td>\n",
       "      <td>2</td>\n",
       "      <td>1</td>\n",
       "      <td>100 M²</td>\n",
       "      <td>EG-3133765</td>\n",
       "      <td>06/01/2022</td>\n",
       "      <td>300,000 EGP</td>\n",
       "      <td>Property Owner</td>\n",
       "      <td>3,000 EGP/M²</td>\n",
       "    </tr>\n",
       "  </tbody>\n",
       "</table>\n",
       "</div>"
      ],
      "text/plain": [
       "   level_0  index                                       Summary_name  \\\n",
       "0        0    143  فرصه لا تعوض\\nEl Marg, Greater Cairo\\n100 M² 3...   \n",
       "1        1      5  شقة سوبر لوكس للبييع بمسطرد فرعي من شارع بور س...   \n",
       "\n",
       "                                         Summary_url  Summary_Floor_No  \\\n",
       "0  https://aqarmap.com.eg/en/listing/3133310-for-...                 4   \n",
       "1  https://aqarmap.com.eg/en/listing/3133765-for-...                 5   \n",
       "\n",
       "   Summary_No_Rooms  Summary_No_Bathrooms Summary_Area_m2 Summary_Add_ID  \\\n",
       "0                 3                     1          100 M²     EG-3133310   \n",
       "1                 2                     1          100 M²     EG-3133765   \n",
       "\n",
       "  Summary_Publishing_Date Summary_Price_EGP Summary_Seller_Type  \\\n",
       "0              05/01/2022       300,000 EGP      Property Owner   \n",
       "1              06/01/2022       300,000 EGP      Property Owner   \n",
       "\n",
       "  Summary_Price_P_M  \n",
       "0      3,000 EGP/M²  \n",
       "1      3,000 EGP/M²  "
      ]
     },
     "execution_count": 47,
     "metadata": {},
     "output_type": "execute_result"
    }
   ],
   "source": [
    "df10=pd.concat([df9, ad.iloc[:,:-2]])\n",
    "df10.head(2)"
   ]
  },
  {
   "cell_type": "code",
   "execution_count": 48,
   "id": "135f3e9f",
   "metadata": {},
   "outputs": [
    {
     "data": {
      "text/plain": [
       "398"
      ]
     },
     "execution_count": 48,
     "metadata": {},
     "output_type": "execute_result"
    }
   ],
   "source": [
    "len(df10)"
   ]
  },
  {
   "cell_type": "markdown",
   "id": "6d0feea8",
   "metadata": {},
   "source": [
    "Now let's check the column values"
   ]
  },
  {
   "cell_type": "code",
   "execution_count": 49,
   "id": "6963c966",
   "metadata": {},
   "outputs": [
    {
     "data": {
      "text/plain": [
       "array(['100 M²', '101 M²', '105 M²', '107 M²', '108 M²', '110 M²',\n",
       "       '112 M²', '113 M²', '115 M²', '116 M²', '117 M²', '120 M²',\n",
       "       '121 M²', '125 M²', '126 M²', '127 M²', '130 M²', '131 M²',\n",
       "       '132 M²', '133 M²', '135 M²', '136 M²', '138 M²', '139 M²',\n",
       "       '140 M²', '141 M²', '142 M²', '143 M²', '144 M²', '145 M²',\n",
       "       '147 M²', '149 M²', '150 M²', '152 M²', '153 M²', '154 M²',\n",
       "       '155 M²', '156 M²', '157 M²', '158 M²', '160 M²', '161 M²',\n",
       "       '163 M²', '164 M²', '165 M²', '166 M²', '167 M²', '168 M²',\n",
       "       '169 M²', '170 M²', '171 M²', '172 M²', '173 M²', '174 M²',\n",
       "       '175 M²', '176 M²', '177 M²', '178 M²', '180 M²', '181 M²',\n",
       "       '182 M²', '183 M²', '184 M²', '185 M²', '190 M²', '195 M²',\n",
       "       '198 M²', '200 M²', '202 M²', '203 M²', '205 M²', '206 M²',\n",
       "       '207 M²', '209 M²', '210 M²', '211 M²', '212 M²', '213 M²',\n",
       "       '220 M²', '222 M²', '224 M²', '225 M²', '226 M²', '230 M²',\n",
       "       '236 M²', '238 M²', '240 M²', '245 M²', '248 M²', '250 M²',\n",
       "       '259 M²', '265 M²', '268 M²', '270 M²', '275 M²', '277 M²',\n",
       "       '279 M²', '280 M²', '288 M²', '290 M²', '295 M²', '300 M²',\n",
       "       '310 M²', '312 M²', '323 M²', '330 M²', '350 M²', '366 M²',\n",
       "       '369 M²', '400 M²', '410 M²', '415 M²', '450 M²', '500 M²',\n",
       "       '530 M²', '56 M²', '57 M²', '600 M²', '62 M²', '63 M²', '65 M²',\n",
       "       '70 M²', '75 M²', '80 M²', '83 M²', '84 M²', '88 M²', '90 M²',\n",
       "       '91 M²', '95 M²', '96 M²', '98 M²', nan], dtype=object)"
      ]
     },
     "execution_count": 49,
     "metadata": {},
     "output_type": "execute_result"
    }
   ],
   "source": [
    "df10['Summary_Area_m2'].unique()"
   ]
  },
  {
   "cell_type": "markdown",
   "id": "8068daf9",
   "metadata": {},
   "source": [
    "We can now move on to the next column \"Summary_Add_ID\""
   ]
  },
  {
   "cell_type": "code",
   "execution_count": 50,
   "id": "63ae42f8",
   "metadata": {},
   "outputs": [
    {
     "data": {
      "text/plain": [
       "array(['EG-3133310', 'EG-3133765', 'EG-3133298',\n",
       "       'Apartments For Sale in Second Neighborhood',\n",
       "       'Apartments Semi Finished For Sale in Second Neighborhood',\n",
       "       'Apartments For sale in Second Neighborhood', 'EG-3133770',\n",
       "       'EG-3133720', 'EG-1067142',\n",
       "       'Apartments For sale in Capital Heights', 'EG-3133243',\n",
       "       'EG-3133432', 'EG-3133512', 'EG-3133745',\n",
       "       'Apartment for sale, ground floor, in a garden along Al-Thawra Street, in installments over 10 years without interest',\n",
       "       'EG-3133316', 'EG-3133254', 'شقة لقطة للبيع... المريوطيه فيصل',\n",
       "       'EG-3133772',\n",
       "       'شقة للبيع فى بيل في ـ Belle Vie الشيخ زايد الجديدة كمبوند شركة إعمار',\n",
       "       'Apartment with Garden For sale in Other Neighborhoods In Madenty',\n",
       "       'EG-3133735',\n",
       "       'Apartment with garden 116 m for sale in New capital - 5% DP -installments up to 10 years',\n",
       "       'EG-3125154', 'EG-3133272', 'EG-3133195', 'EG-2891920',\n",
       "       'EG-3133158', 'EG-3133205', 'EG-3133361',\n",
       "       'Apartments For Sale in New Fustat City', 'EG-3133727',\n",
       "       'Apartment with Garden For sale in Sixth Zone Buildings',\n",
       "       'Apartment 2 Bedrooms fully finished delivery 2022 with installments',\n",
       "       'EG-3133555',\n",
       "       'apartment for sale at Park Lane one of the most elite projects at the New Capital for the old prices without over',\n",
       "       'Apartment for sale in Fifth Settlement, immediate receipt, in installments over 7 years, in Galleria Compound',\n",
       "       'Apartment for sale in installments in the sea in front of the embassy district in the new administrative capital',\n",
       "       'EG-3133163', 'EG-3133689',\n",
       "       'Apartments 125 M² Semi Finished in Maadi View Compound - Maadi Group',\n",
       "       'Apartments For sale in First Neighborhood',\n",
       "       'Apartment 2 Bedrooms For sale in Bosco new capital with installments',\n",
       "       'Own your apartment in New Capital -discount of 45% - Akam Developments',\n",
       "       'EG-3133605', 'EG-3133194', 'EG-3133492', 'EG-3133480',\n",
       "       'EG-3133138', 'EG-3133200',\n",
       "       'Apartments For sale in Dar Misr El Koronfel',\n",
       "       'Apartments in New Cairo Extension 131 M² Semi Finished For sale',\n",
       "       'Duplex fully finished with kitchen with installments',\n",
       "       'Apartments For sale in New El Andalous',\n",
       "       'Apartments For sale in Street 33', 'EG-3133399', 'EG-1067133',\n",
       "       'Apartments For sale in Sixth Zone Buildings', 'EG-3133122',\n",
       "       'EG-3108599', 'Apartments 140 M² Super lux in Toman Bai St',\n",
       "       'For Sale - Apartments 140 M² Semi Finished in First Neighborhood',\n",
       "       'Apartment140m first floor down payment68250EPG', 'EG-3133415',\n",
       "       'EG-3133311', 'EG-3133295', 'EG-3133419', 'EG-3133712',\n",
       "       'EG-3133140', 'EG-3133010', 'EG-3133612',\n",
       "       'Apartments For sale in The Second Area - Lotus North',\n",
       "       'Apartments For sale in Zizinia El Mostakbal - ARDIC Development',\n",
       "       'Apartments For sale in The First Area - Lotus North',\n",
       "       'Apartment for sale in New Capital Scene7 Compound -5 Years Installments',\n",
       "       'Apartments For sale in Dejoya Compound - Taj Misr',\n",
       "       'Apartments For sale in The 2000 Pieces', 'EG-3132603',\n",
       "       'EG-3133598', 'EG-3133170', 'EG-3127813', 'EG-3133062',\n",
       "       'EG-3133162', 'EG-3024270',\n",
       "       'Crystal Lagoon View Apartment for sale in Mountain View iCity',\n",
       "       'EG-3095857', 'EG-3133345', 'EG-3133368',\n",
       "       'Apartments For sale in The Icon Residence Compound - Style home',\n",
       "       'Apartment prime location with 193k DP installments over 9 years',\n",
       "       'Apartments For Sale in Tag City Compound - MNHD', 'EG-3133279',\n",
       "       'For sale - Apartments 149 M² Super lux',\n",
       "       'Apartments For sale in Neighbourhood 4',\n",
       "       'Apartments For sale in Abd El-Hameed Badawi St.', 'EG-3133227',\n",
       "       'EG-3133557',\n",
       "       'Apartments in Castle Landmark Compound - Castle Landmark 150 M² Semi Finished For Sale',\n",
       "       'EG-3133547',\n",
       "       'شقة 150 متر في كمبوند اصالة نص تشطيب باسانسير + حصة جراج مدفوع الوديعة',\n",
       "       'شقة 150 متر + جاردن 40 متر في كمبوند ريماس سوبر لوكس دبل فيس بحري حمام سباحة مشترك بحصة جراج وغاز طبيعي',\n",
       "       'كمبوند لاروز2', 'EG-2888841', 'EG-3133436', 'EG-3133228',\n",
       "       'EG-3133120', 'EG-3133674', 'EG-3133743', 'EG-3133268',\n",
       "       'EG-3133475', 'EG-3133219', 'EG-3133206',\n",
       "       'apartment for sale at Green Avenue Capital amazing view for attractive price without over',\n",
       "       'Apartments 152 M² For sale in New Narges', 'EG-3133410',\n",
       "       'EG-3110434',\n",
       "       'Apartments For sale in District 5 Compound - Marakez',\n",
       "       'Apartments For Sale in Dejoya Compound - Taj Misr',\n",
       "       'Own your apartment in Bait Al Watan, an area of 155 m, with a garden of 112.5, with a down payment of 7.5%',\n",
       "       'Apartment 155 m, main facade, ground floor, private garden, 112.5 m, down payment: 81375 EGP',\n",
       "       'EG-3133445', 'Apartments For Sale in Neighborhood 9th',\n",
       "       'Apartments For sale in Mountain View iCity October', 'EG-3133379',\n",
       "       'Apartments For sale in Sun City Gardens', 'EG-3133179',\n",
       "       'EG-3132951',\n",
       "       'Apartment 3 Bedrooms with free green terrace with installments',\n",
       "       'Apartment for sale 157 m (3 rooms + garage) along Al-Thawra Street with a 31% discount and installments up to 15 years',\n",
       "       'EG-3108493', 'EG-3132334', 'EG-3133231', 'EG-3133417',\n",
       "       'Apartments For sale in Capital Heights 2 Compound',\n",
       "       'Apartments For sale in Degla Gardens', 'EG-3133389',\n",
       "       'شقة 160 متر للبيع بالتقسيط فى ميدتاون العاصمة الادارية و استلم الآن',\n",
       "       'EG-3133193', 'EG-3115246',\n",
       "       'Apartment for sale on Crystal Lagoon inside Mountain View Fifth Settlement',\n",
       "       'EG-3133320',\n",
       "       'Apartment 160 M² Fully Finished with AC 12 years installments',\n",
       "       'EG-3132931',\n",
       "       'Duplex 161 M² Super lux in Monte Napoleone Compound - Reportage Properties',\n",
       "       'EG-3111321', 'EG-3133308',\n",
       "       'Apartment with Garden For sale in The Second Area - Lotus North',\n",
       "       'Apartments For sale in OIA Compound - Edge Holding',\n",
       "       'Apartments 165 M² Semi Finished in OIA Compound - Edge Holding',\n",
       "       'Apartments For sale in R8',\n",
       "       'Apartments 165 M² For sale in New El Andalous',\n",
       "       'Apartments Semi Finished For sale in New El Andalous',\n",
       "       'Apartments For Sale in Al Andalus 1', 'EG-3133606', 'EG-3107951',\n",
       "       'EG-3097735', 'EG-3132846', 'EG-3133397', 'EG-3133157',\n",
       "       'Apartment 170 m, with a down payment of 89250 EGP',\n",
       "       'Apartment 170 m, panorama building, with a down payment of 89.250 EGP, installments over 60 months',\n",
       "       'Apartment 170 m, third floor, with a down payment of 89250 EGP, installments over 60 months, receiving 6 months',\n",
       "       'EG-3119668', 'Apartments For sale in Lotus South', 'EG-3133136',\n",
       "       'Apartment 171 sqm with 0% DP installments over 10 years',\n",
       "       'شقق للبيع بسعر مميز في بيت الوطن', 'EG-3024121',\n",
       "       'Apartments For Sale in Fourth Neighborhood',\n",
       "       'Apartments 174 M² Semi Finished in Lotus South', 'EG-3125136',\n",
       "       'Apartment with Garden For sale in Park Lane Compound - Al Attal',\n",
       "       'EG-2888845', 'EG-3122069', 'EG-3133144', 'EG-3133155',\n",
       "       'For Sale - Apartments 176 M² Semi Finished in New Fustat City',\n",
       "       'Apartments For sale in Scenario Compound New Capital- 20% DP',\n",
       "       'EG-3133111', 'EG-3133469',\n",
       "       'Apartments Semi Finished For Sale in Fifth Neighborhood',\n",
       "       'Apartments For sale in Badya Compound - Palm Hills Developments',\n",
       "       'EG-3111850', 'EG-3133067',\n",
       "       'شقة 178 متر في كمبوند اكاسيا سوبر لوكس باسانسير البيع شامل المطبخ مدفوع وديعة الصيانة',\n",
       "       'EG-3133454', 'EG-3131395', 'EG-3133074', 'EG-3133440',\n",
       "       'EG-3133045', 'EG-3049143', 'EG-3133372', 'EG-3133515',\n",
       "       'EG-3133112', 'Apartments For sale in IL MONDO Compound - Rfco',\n",
       "       'Apartments For Sale in El Nasr St',\n",
       "       'Apartments For sale in Beverly Hills',\n",
       "       'شقة تشطيب سوبر لوكس للبيع بشارع ١٩٩دجلة المعادي', 'EG-3133133',\n",
       "       'Apartments For sale in IL MONDO Compound', 'EG-3133420',\n",
       "       'Apartments in Al Andalus 1 184 M² Semi Finished For Sale',\n",
       "       'Apartments For sale in Al Andalus 1',\n",
       "       'Apartments in Al Andalus 1 184 M² Semi Finished For sale',\n",
       "       'EG-3050774', 'EG-3133373',\n",
       "       'an excellent disc 185m for sale in oia compound in r7 new capital delivery 2022',\n",
       "       'Apartments For Sale in Fifth Neighborhood',\n",
       "       'شقة 185 متر في كمبوند حياتي ريزيدنس الترا لوكس فيو لاند سكيب +حصة جراج البيع شامل المطبخ',\n",
       "       'Apartments For sale in Othman Ibn Afan', 'EG-3133304',\n",
       "       'EG-3120296', 'EG-3133094', 'EG-3133446', 'EG-3133099',\n",
       "       'EG-3125130', '198m Super Lux apt. in 3rd District for sale',\n",
       "       'EG-3120427', 'Apartment 200 m withgarden159,down payment97500EGP',\n",
       "       'Apartments For sale in Capital Heights 2 Compound - SUD',\n",
       "       'Apartments For sale in Compounds In El Sheikh Zayed',\n",
       "       'Apartments For Sale in Castle Landmark Compound - Castle Landmark',\n",
       "       'EG-2921961',\n",
       "       'Apartment with Garden For sale in Seventh Neighborhood',\n",
       "       'Apartments For sale in Akhnaton St.', 'EG-3133336',\n",
       "       'شقة 200 متر في فيلات الدفاع الوطني 75 % تشطيب+واجهة ومدخل الفيلا شيك جدا مالك اصيل',\n",
       "       'EG-2917225', 'EG-3133319', 'EG-3133374', 'EG-3133261',\n",
       "       'EG-3133292', 'EG-3133305', 'EG-3129424', 'EG-3119716',\n",
       "       'EG-3132405', 'EG-3133028', 'EG-3133460', 'EG-3133090',\n",
       "       'Apartments For sale in Fourth Neighborhood', 'EG-3133048',\n",
       "       'EG-3133427', 'EG-3133211',\n",
       "       'Apartment 210 m with garden 145 m, down payment of 102375 EGP, installments for 60 months',\n",
       "       'Apartments For sale in Neighborhood 9th',\n",
       "       'Apartments For sale in (South Academy (D',\n",
       "       'Apartments For sale in Azad Compound - Tameer Arabian',\n",
       "       'EG-3133237', 'EG-3132988', 'EG-3133356',\n",
       "       'Apartments For sale in Atika Compound - New Plan', 'EG-3122685',\n",
       "       'EG-3133224', 'EG-3133334', 'EG-3133130', 'EG-3133142',\n",
       "       'Apartments For sale in Kanarya', 'EG-3133203',\n",
       "       'Apartment 222 Meter for immediate delivery in the new capital',\n",
       "       'Apartment for sale in Mini Compound Beit Al Watan 4th District',\n",
       "       'Duplex 224 m - New Cairo - Lotus District, for sale',\n",
       "       'EG-3120563', 'EG-2902444', 'EG-3133328',\n",
       "       'Apartment for sale in New Capital scene 7 - 40% discount',\n",
       "       'Apartment for sale 230 meters in the Fifth Settlement, Bait Al Watan, the sixth district, with the lowest down payment',\n",
       "       'EG-3099964', 'EG-3039047',\n",
       "       'Apartments For sale in Seventh Neighborhood',\n",
       "       'For sale - Duplex 236 M² Semi Finished', 'EG-3133143',\n",
       "       'Apartment 240 m with the lowest down payment in Beit Al Watan 117.000 EGP and installments over 60 months',\n",
       "       'Apartment for sale 240, down payment 117000 EGP, installments over 60 months',\n",
       "       'EG-3133186', 'Apartments For sale in Sixth Touristic Village',\n",
       "       'شقة 240 متر في كمبوند هاي لاند بارك سوبر لوكس باسانسير فيو حمامات سباحة',\n",
       "       'For sale apartment 240m second floor down payment 117000 EGP, receipt after 18 months',\n",
       "       'EG-3133778', 'EG-3052302', 'EG-3068229',\n",
       "       '\\u200fApartment for sale for high-end housing in Maadi Sarayat 250m',\n",
       "       'دوبلكس بنتهاوس للبيع الترا سوبر لوكس فيو جاردن بسعر مغري بالحي الخامس متفرع من الشويفات',\n",
       "       'كمبوند مفيدا التجمع الخامس',\n",
       "       'Apartments For sale in Neighbourhood 3', 'EG-3133251',\n",
       "       'Apartments For sale in Ibn El Haytham St.',\n",
       "       'Duplex For sale in The 2000 Pieces', 'EG-3133371', 'EG-3068235',\n",
       "       'EG-3133198', 'EG-3133347',\n",
       "       'Duplex For Sale in Fourth Neighborhood',\n",
       "       'شقة 270 متر في كمبوند حدائق الفدا نص تشطيب دور كامل باسانسير + حصة جراج',\n",
       "       'Duplex For sale in Noor Oasis',\n",
       "       'Penthouse For sale in Touristic Area A', 'EG-3068224',\n",
       "       'EG-2892401', 'EG-3110461', 'EG-3130520',\n",
       "       'Apartment with Garden For Sale in (South Academy (A',\n",
       "       'For Sale - Duplex 288 M² without finish',\n",
       "       'Penthouse For sale in The 2000 Pieces', 'EG-3133178',\n",
       "       'EG-3118600', 'EG-2959130', 'EG-3119519',\n",
       "       'Apartments For sale in Neighborhood 10th', 'EG-3133732',\n",
       "       'EG-3132950',\n",
       "       'Duplex in El Narges Omarat 312 M² Super lux For sale',\n",
       "       'EG-3133421', 'EG-3133147',\n",
       "       'Duplex For sale in New Capital Scenario Compound - facilities10 years',\n",
       "       'Duplex For sale in The Third Area - Lotus North',\n",
       "       'Apartments Extra super lux For Sale in Galal Al Din AL Desouky St.',\n",
       "       'Roof For sale in El Yasmeen 6',\n",
       "       'Duplex ground and first 415 m with garden 145 m down payment 154068 EGP',\n",
       "       'EG-3111313', 'EG-3133530', 'EG-3133534', 'EG-3133719',\n",
       "       'EG-3133184', 'Penthouse For sale in El-Madina St.', 'EG-3128811',\n",
       "       'EG-3133108', 'EG-3133734', 'EG-3133249', 'EG-3133270',\n",
       "       'EG-3133716', 'EG-3087647', 'EG-3133180',\n",
       "       'for sale in the Fifth Settlement in The Median, with a down payment of only 5% and installments over 10 years',\n",
       "       'EG-3133692', 'EG-3133350', 'EG-3133329', 'EG-2907059',\n",
       "       'EG-2958379', 'EG-3133773',\n",
       "       'Studio for sale at New Cairo near the airport',\n",
       "       'Apartment with Garden For sale in Other Neighborhoods In Rehab',\n",
       "       'EG-3133348', 'EG-3133362', 'EG-3133714', 'EG-3133711',\n",
       "       'Apartment with Garden 91 M² Extra super lux In New Capital',\n",
       "       'EG-3133404',\n",
       "       'Apartments For sale in Castle Landmark Compound - Castle Landmark',\n",
       "       'EG-3133739',\n",
       "       'Fully finished Apartment with installments over 10 years in Century city New Cairo',\n",
       "       'EG-2922190', 'EG-2929577', 'EG-2943994', 'EG-2953270',\n",
       "       'EG-3000957', 'EG-3048170', 'EG-3048173', 'EG-3089009',\n",
       "       'EG-3099488', 'EG-3099507', 'EG-3100122', 'EG-3100134',\n",
       "       'EG-3106020', 'EG-3119088', 'EG-3120346', 'EG-3120640',\n",
       "       'EG-3125808'], dtype=object)"
      ]
     },
     "execution_count": 50,
     "metadata": {},
     "output_type": "execute_result"
    }
   ],
   "source": [
    "df10['Summary_Add_ID'].unique()"
   ]
  },
  {
   "cell_type": "markdown",
   "id": "e39c1b69",
   "metadata": {},
   "source": [
    "It seems that some rows include description of the house. Let's see how these rows are organized"
   ]
  },
  {
   "cell_type": "code",
   "execution_count": 51,
   "id": "75ca8f2b",
   "metadata": {
    "scrolled": true
   },
   "outputs": [
    {
     "data": {
      "text/html": [
       "<div>\n",
       "<style scoped>\n",
       "    .dataframe tbody tr th:only-of-type {\n",
       "        vertical-align: middle;\n",
       "    }\n",
       "\n",
       "    .dataframe tbody tr th {\n",
       "        vertical-align: top;\n",
       "    }\n",
       "\n",
       "    .dataframe thead th {\n",
       "        text-align: right;\n",
       "    }\n",
       "</style>\n",
       "<table border=\"1\" class=\"dataframe\">\n",
       "  <thead>\n",
       "    <tr style=\"text-align: right;\">\n",
       "      <th></th>\n",
       "      <th>level_0</th>\n",
       "      <th>index</th>\n",
       "      <th>Summary_name</th>\n",
       "      <th>Summary_url</th>\n",
       "      <th>Summary_Floor_No</th>\n",
       "      <th>Summary_No_Rooms</th>\n",
       "      <th>Summary_No_Bathrooms</th>\n",
       "      <th>Summary_Area_m2</th>\n",
       "      <th>Summary_Add_ID</th>\n",
       "      <th>Summary_Publishing_Date</th>\n",
       "      <th>Summary_Price_EGP</th>\n",
       "      <th>Summary_Seller_Type</th>\n",
       "      <th>Summary_Price_P_M</th>\n",
       "    </tr>\n",
       "  </thead>\n",
       "  <tbody>\n",
       "    <tr>\n",
       "      <th>3</th>\n",
       "      <td>335</td>\n",
       "      <td>36</td>\n",
       "      <td>Apartments For Sale in Second Neighborhood\\nSe...</td>\n",
       "      <td>https://aqarmap.com.eg/en/listing/2972910-for-...</td>\n",
       "      <td>4</td>\n",
       "      <td>2</td>\n",
       "      <td>1</td>\n",
       "      <td>100 M²</td>\n",
       "      <td>Apartments For Sale in Second Neighborhood</td>\n",
       "      <td>16/09/2021</td>\n",
       "      <td>NaN</td>\n",
       "      <td>NaN</td>\n",
       "      <td>NaN</td>\n",
       "    </tr>\n",
       "    <tr>\n",
       "      <th>4</th>\n",
       "      <td>342</td>\n",
       "      <td>21</td>\n",
       "      <td>Apartments Semi Finished For Sale in Second Ne...</td>\n",
       "      <td>https://aqarmap.com.eg/en/listing/3010409-for-...</td>\n",
       "      <td>6</td>\n",
       "      <td>2</td>\n",
       "      <td>1</td>\n",
       "      <td>100 M²</td>\n",
       "      <td>Apartments Semi Finished For Sale in Second Ne...</td>\n",
       "      <td>17/10/2021</td>\n",
       "      <td>NaN</td>\n",
       "      <td>NaN</td>\n",
       "      <td>NaN</td>\n",
       "    </tr>\n",
       "  </tbody>\n",
       "</table>\n",
       "</div>"
      ],
      "text/plain": [
       "   level_0  index                                       Summary_name  \\\n",
       "3      335     36  Apartments For Sale in Second Neighborhood\\nSe...   \n",
       "4      342     21  Apartments Semi Finished For Sale in Second Ne...   \n",
       "\n",
       "                                         Summary_url  Summary_Floor_No  \\\n",
       "3  https://aqarmap.com.eg/en/listing/2972910-for-...                 4   \n",
       "4  https://aqarmap.com.eg/en/listing/3010409-for-...                 6   \n",
       "\n",
       "   Summary_No_Rooms  Summary_No_Bathrooms Summary_Area_m2  \\\n",
       "3                 2                     1          100 M²   \n",
       "4                 2                     1          100 M²   \n",
       "\n",
       "                                      Summary_Add_ID Summary_Publishing_Date  \\\n",
       "3         Apartments For Sale in Second Neighborhood              16/09/2021   \n",
       "4  Apartments Semi Finished For Sale in Second Ne...              17/10/2021   \n",
       "\n",
       "  Summary_Price_EGP Summary_Seller_Type Summary_Price_P_M  \n",
       "3               NaN                 NaN               NaN  \n",
       "4               NaN                 NaN               NaN  "
      ]
     },
     "execution_count": 51,
     "metadata": {},
     "output_type": "execute_result"
    }
   ],
   "source": [
    "ads = df10[~df10[\"Summary_Add_ID\"].str.contains('EG-')]\n",
    "ads.head(2)"
   ]
  },
  {
   "cell_type": "code",
   "execution_count": 52,
   "id": "f133715f",
   "metadata": {
    "scrolled": true
   },
   "outputs": [
    {
     "data": {
      "text/plain": [
       "181"
      ]
     },
     "execution_count": 52,
     "metadata": {},
     "output_type": "execute_result"
    }
   ],
   "source": [
    "len(ads)"
   ]
  },
  {
   "cell_type": "code",
   "execution_count": 53,
   "id": "15844f34",
   "metadata": {},
   "outputs": [
    {
     "data": {
      "text/plain": [
       "398"
      ]
     },
     "execution_count": 53,
     "metadata": {},
     "output_type": "execute_result"
    }
   ],
   "source": [
    "len(df10)"
   ]
  },
  {
   "cell_type": "markdown",
   "id": "5df7af38",
   "metadata": {},
   "source": [
    "Now I want to know whether these rows have data for the ad ID in a different column or not. So I will check the values in the remaining columns."
   ]
  },
  {
   "cell_type": "code",
   "execution_count": 54,
   "id": "22c8f203",
   "metadata": {},
   "outputs": [
    {
     "data": {
      "text/plain": [
       "array(['16/09/2021', '17/10/2021', '02/01/2022', '05/01/2022',\n",
       "       '19/12/2021', '17/08/2021', '5/1/2022', '22/11/2021', '23/12/2021',\n",
       "       '02/12/2021', '22/12/2021', '31/07/2021', '12/12/2021',\n",
       "       '18/12/2021', '28/11/2021', '29/12/2021', '10/10/2021',\n",
       "       '30/10/2021', '11/12/2021', '13/11/2021', '14/08/2021',\n",
       "       '28/12/2021', '01/01/2022', '12/07/2021', '30/12/2021',\n",
       "       '08/12/2021', '23/07/2021', '03/11/2021', '21/12/2021',\n",
       "       '27/11/2021', '16/11/2021', '17/11/2021', '28/10/2021',\n",
       "       '09/12/2021', '25/10/2021', '24/11/2021', '16/12/2021',\n",
       "       '28/08/2021', '06/01/2022', '03/01/2022', '15/12/2021',\n",
       "       '13/12/2021', '14/12/2021', '04/01/2022', '09/11/2021',\n",
       "       '25/12/2021', '06/11/2021', '15/08/2021', '01/12/2021',\n",
       "       '28/07/2021', '04/12/2021', '27/12/2021', '18/11/2021'],\n",
       "      dtype=object)"
      ]
     },
     "execution_count": 54,
     "metadata": {},
     "output_type": "execute_result"
    }
   ],
   "source": [
    "ads['Summary_Publishing_Date'].unique()"
   ]
  },
  {
   "cell_type": "markdown",
   "id": "0d1b57c2",
   "metadata": {},
   "source": [
    "The date column values are all dates"
   ]
  },
  {
   "cell_type": "code",
   "execution_count": 55,
   "id": "dba6b3de",
   "metadata": {},
   "outputs": [
    {
     "data": {
      "text/plain": [
       "array([nan], dtype=object)"
      ]
     },
     "execution_count": 55,
     "metadata": {},
     "output_type": "execute_result"
    }
   ],
   "source": [
    "ads['Summary_Price_EGP'].unique()"
   ]
  },
  {
   "cell_type": "code",
   "execution_count": 56,
   "id": "5d809a91",
   "metadata": {},
   "outputs": [
    {
     "data": {
      "text/plain": [
       "array([nan], dtype=object)"
      ]
     },
     "execution_count": 56,
     "metadata": {},
     "output_type": "execute_result"
    }
   ],
   "source": [
    "ads['Summary_Price_P_M'].unique()"
   ]
  },
  {
   "cell_type": "code",
   "execution_count": 57,
   "id": "e32e5cf9",
   "metadata": {},
   "outputs": [
    {
     "data": {
      "text/plain": [
       "array([nan], dtype=object)"
      ]
     },
     "execution_count": 57,
     "metadata": {},
     "output_type": "execute_result"
    }
   ],
   "source": [
    "ads['Summary_Seller_Type'].unique()"
   ]
  },
  {
   "cell_type": "markdown",
   "id": "073f24b8",
   "metadata": {},
   "source": [
    "So these rows don't have ad ID. we can replace the values with \"NA\""
   ]
  },
  {
   "cell_type": "code",
   "execution_count": 58,
   "id": "86a323a5",
   "metadata": {
    "scrolled": true
   },
   "outputs": [
    {
     "name": "stderr",
     "output_type": "stream",
     "text": [
      "<ipython-input-58-1f8447dc9180>:1: SettingWithCopyWarning: \n",
      "A value is trying to be set on a copy of a slice from a DataFrame.\n",
      "Try using .loc[row_indexer,col_indexer] = value instead\n",
      "\n",
      "See the caveats in the documentation: https://pandas.pydata.org/pandas-docs/stable/user_guide/indexing.html#returning-a-view-versus-a-copy\n",
      "  ads[\"Summary_Add_ID\"]=\"NA\"\n"
     ]
    }
   ],
   "source": [
    "ads[\"Summary_Add_ID\"]=\"NA\""
   ]
  },
  {
   "cell_type": "markdown",
   "id": "10850291",
   "metadata": {},
   "source": [
    "Now Let's replace these rows in the dataset"
   ]
  },
  {
   "cell_type": "code",
   "execution_count": 59,
   "id": "cefc8976",
   "metadata": {},
   "outputs": [
    {
     "data": {
      "text/plain": [
       "217"
      ]
     },
     "execution_count": 59,
     "metadata": {},
     "output_type": "execute_result"
    }
   ],
   "source": [
    "df11=df10.drop(axis=0, labels=ads.index)\n",
    "\n",
    "len(df11)"
   ]
  },
  {
   "cell_type": "code",
   "execution_count": 60,
   "id": "28971480",
   "metadata": {},
   "outputs": [
    {
     "data": {
      "text/html": [
       "<div>\n",
       "<style scoped>\n",
       "    .dataframe tbody tr th:only-of-type {\n",
       "        vertical-align: middle;\n",
       "    }\n",
       "\n",
       "    .dataframe tbody tr th {\n",
       "        vertical-align: top;\n",
       "    }\n",
       "\n",
       "    .dataframe thead th {\n",
       "        text-align: right;\n",
       "    }\n",
       "</style>\n",
       "<table border=\"1\" class=\"dataframe\">\n",
       "  <thead>\n",
       "    <tr style=\"text-align: right;\">\n",
       "      <th></th>\n",
       "      <th>level_0</th>\n",
       "      <th>index</th>\n",
       "      <th>Summary_name</th>\n",
       "      <th>Summary_url</th>\n",
       "      <th>Summary_Floor_No</th>\n",
       "      <th>Summary_No_Rooms</th>\n",
       "      <th>Summary_No_Bathrooms</th>\n",
       "      <th>Summary_Area_m2</th>\n",
       "      <th>Summary_Add_ID</th>\n",
       "      <th>Summary_Publishing_Date</th>\n",
       "      <th>Summary_Price_EGP</th>\n",
       "      <th>Summary_Seller_Type</th>\n",
       "      <th>Summary_Price_P_M</th>\n",
       "    </tr>\n",
       "  </thead>\n",
       "  <tbody>\n",
       "    <tr>\n",
       "      <th>0</th>\n",
       "      <td>0</td>\n",
       "      <td>143</td>\n",
       "      <td>فرصه لا تعوض\\nEl Marg, Greater Cairo\\n100 M² 3...</td>\n",
       "      <td>https://aqarmap.com.eg/en/listing/3133310-for-...</td>\n",
       "      <td>4</td>\n",
       "      <td>3</td>\n",
       "      <td>1</td>\n",
       "      <td>100 M²</td>\n",
       "      <td>EG-3133310</td>\n",
       "      <td>05/01/2022</td>\n",
       "      <td>300,000 EGP</td>\n",
       "      <td>Property Owner</td>\n",
       "      <td>3,000 EGP/M²</td>\n",
       "    </tr>\n",
       "    <tr>\n",
       "      <th>1</th>\n",
       "      <td>1</td>\n",
       "      <td>5</td>\n",
       "      <td>شقة سوبر لوكس للبييع بمسطرد فرعي من شارع بور س...</td>\n",
       "      <td>https://aqarmap.com.eg/en/listing/3133765-for-...</td>\n",
       "      <td>5</td>\n",
       "      <td>2</td>\n",
       "      <td>1</td>\n",
       "      <td>100 M²</td>\n",
       "      <td>EG-3133765</td>\n",
       "      <td>06/01/2022</td>\n",
       "      <td>300,000 EGP</td>\n",
       "      <td>Property Owner</td>\n",
       "      <td>3,000 EGP/M²</td>\n",
       "    </tr>\n",
       "  </tbody>\n",
       "</table>\n",
       "</div>"
      ],
      "text/plain": [
       "   level_0  index                                       Summary_name  \\\n",
       "0        0    143  فرصه لا تعوض\\nEl Marg, Greater Cairo\\n100 M² 3...   \n",
       "1        1      5  شقة سوبر لوكس للبييع بمسطرد فرعي من شارع بور س...   \n",
       "\n",
       "                                         Summary_url  Summary_Floor_No  \\\n",
       "0  https://aqarmap.com.eg/en/listing/3133310-for-...                 4   \n",
       "1  https://aqarmap.com.eg/en/listing/3133765-for-...                 5   \n",
       "\n",
       "   Summary_No_Rooms  Summary_No_Bathrooms Summary_Area_m2 Summary_Add_ID  \\\n",
       "0                 3                     1          100 M²     EG-3133310   \n",
       "1                 2                     1          100 M²     EG-3133765   \n",
       "\n",
       "  Summary_Publishing_Date Summary_Price_EGP Summary_Seller_Type  \\\n",
       "0              05/01/2022       300,000 EGP      Property Owner   \n",
       "1              06/01/2022       300,000 EGP      Property Owner   \n",
       "\n",
       "  Summary_Price_P_M  \n",
       "0      3,000 EGP/M²  \n",
       "1      3,000 EGP/M²  "
      ]
     },
     "execution_count": 60,
     "metadata": {},
     "output_type": "execute_result"
    }
   ],
   "source": [
    "df12=pd.concat([df11,ads])\n",
    "df12.head(2)"
   ]
  },
  {
   "cell_type": "code",
   "execution_count": 61,
   "id": "e1c9a444",
   "metadata": {},
   "outputs": [
    {
     "data": {
      "text/plain": [
       "398"
      ]
     },
     "execution_count": 61,
     "metadata": {},
     "output_type": "execute_result"
    }
   ],
   "source": [
    "len(df12)"
   ]
  },
  {
   "cell_type": "markdown",
   "id": "93ec22d1",
   "metadata": {},
   "source": [
    "Now let's check the next column"
   ]
  },
  {
   "cell_type": "code",
   "execution_count": 62,
   "id": "a76a3b70",
   "metadata": {},
   "outputs": [
    {
     "data": {
      "text/plain": [
       "array(['05/01/2022', '06/01/2022', '1,433,800 EGP', '31/12/2021',\n",
       "       '10/07/2021', '5/1/2022', '1,945,800 EGP', '20/12/2021',\n",
       "       '02/01/2022', '27/10/2021', '12/12/2021', '06/07/2021',\n",
       "       '21/12/2021', '25/12/2021', '22/12/2021', '13/12/2021',\n",
       "       '27/12/2021', '29/12/2021', '04/01/2022', '09/11/2021',\n",
       "       '10/11/2021', '28/12/2021', '06/08/2021', '01/08/2021',\n",
       "       '03/01/2022', '26/07/2021', '14/12/2021', '04/11/2021',\n",
       "       '11/11/2021', '22/11/2021', '11/07/2021', '12/09/2021',\n",
       "       '29/07/2021', '1,490,110 EGP',\n",
       "       'Apartments 259 M² Semi Finished in El Bostan',\n",
       "       'Apartments 160 M² Semi Finished in El Narges Omarat',\n",
       "       '24/08/2021',\n",
       "       'Duplex 166 M² For Sale in Atika Compound - New Plan',\n",
       "       '09/10/2021', '08/11/2021',\n",
       "       'Apartments 150 M² Semi Finished in New El Andalous',\n",
       "       'Apartments Semi Finished For Sale in New Heliopolis',\n",
       "       'Apartment with Garden in New Heliopolis 162 M² Semi Finished For Sale',\n",
       "       '19/12/2021', 'Apartments For sale in Al Andalus 1',\n",
       "       'Apartments in Compounds in 6 October 185 M² Semi Finished For sale',\n",
       "       '16/09/2021', '17/10/2021', '17/08/2021', '23/12/2021',\n",
       "       '02/12/2021', '31/07/2021', '18/12/2021', '28/11/2021',\n",
       "       '10/10/2021', '30/10/2021', '11/12/2021', '13/11/2021',\n",
       "       '14/08/2021', '01/01/2022', '12/07/2021', '30/12/2021',\n",
       "       '08/12/2021', '23/07/2021', '03/11/2021', '27/11/2021',\n",
       "       '16/11/2021', '17/11/2021', '28/10/2021', '09/12/2021',\n",
       "       '25/10/2021', '24/11/2021', '16/12/2021', '28/08/2021',\n",
       "       '15/12/2021', '06/11/2021', '15/08/2021', '01/12/2021',\n",
       "       '28/07/2021', '04/12/2021', '18/11/2021'], dtype=object)"
      ]
     },
     "execution_count": 62,
     "metadata": {},
     "output_type": "execute_result"
    }
   ],
   "source": [
    "df12['Summary_Publishing_Date'].unique()"
   ]
  },
  {
   "cell_type": "markdown",
   "id": "4685d010",
   "metadata": {},
   "source": [
    "Let's see the rows that include values other than the date"
   ]
  },
  {
   "cell_type": "code",
   "execution_count": 63,
   "id": "9852b316",
   "metadata": {},
   "outputs": [
    {
     "data": {
      "text/plain": [
       "12"
      ]
     },
     "execution_count": 63,
     "metadata": {},
     "output_type": "execute_result"
    }
   ],
   "source": [
    "dates=df12[~df12[\"Summary_Publishing_Date\"].str.contains('/20')]\n",
    "len(dates)"
   ]
  },
  {
   "cell_type": "code",
   "execution_count": 64,
   "id": "b76974c5",
   "metadata": {},
   "outputs": [
    {
     "data": {
      "text/html": [
       "<div>\n",
       "<style scoped>\n",
       "    .dataframe tbody tr th:only-of-type {\n",
       "        vertical-align: middle;\n",
       "    }\n",
       "\n",
       "    .dataframe tbody tr th {\n",
       "        vertical-align: top;\n",
       "    }\n",
       "\n",
       "    .dataframe thead th {\n",
       "        text-align: right;\n",
       "    }\n",
       "</style>\n",
       "<table border=\"1\" class=\"dataframe\">\n",
       "  <thead>\n",
       "    <tr style=\"text-align: right;\">\n",
       "      <th></th>\n",
       "      <th>level_0</th>\n",
       "      <th>index</th>\n",
       "      <th>Summary_name</th>\n",
       "      <th>Summary_url</th>\n",
       "      <th>Summary_Floor_No</th>\n",
       "      <th>Summary_No_Rooms</th>\n",
       "      <th>Summary_No_Bathrooms</th>\n",
       "      <th>Summary_Area_m2</th>\n",
       "      <th>Summary_Add_ID</th>\n",
       "      <th>Summary_Publishing_Date</th>\n",
       "      <th>Summary_Price_EGP</th>\n",
       "      <th>Summary_Seller_Type</th>\n",
       "      <th>Summary_Price_P_M</th>\n",
       "    </tr>\n",
       "  </thead>\n",
       "  <tbody>\n",
       "    <tr>\n",
       "      <th>8</th>\n",
       "      <td>160</td>\n",
       "      <td>9</td>\n",
       "      <td>Apartment 107 m for sale in Kattameya Gate apa...</td>\n",
       "      <td>https://aqarmap.com.eg/en/listing/1067142-proj...</td>\n",
       "      <td>2</td>\n",
       "      <td>2</td>\n",
       "      <td>2</td>\n",
       "      <td>107 M²</td>\n",
       "      <td>EG-1067142</td>\n",
       "      <td>1,433,800 EGP</td>\n",
       "      <td>NaN</td>\n",
       "      <td>NaN</td>\n",
       "      <td>NaN</td>\n",
       "    </tr>\n",
       "    <tr>\n",
       "      <th>58</th>\n",
       "      <td>167</td>\n",
       "      <td>8</td>\n",
       "      <td>Apartment 138 m for sale in Kattameya Gate, th...</td>\n",
       "      <td>https://aqarmap.com.eg/en/listing/1067133-proj...</td>\n",
       "      <td>2</td>\n",
       "      <td>4</td>\n",
       "      <td>2</td>\n",
       "      <td>138 M²</td>\n",
       "      <td>EG-1067133</td>\n",
       "      <td>1,945,800 EGP</td>\n",
       "      <td>NaN</td>\n",
       "      <td>NaN</td>\n",
       "      <td>NaN</td>\n",
       "    </tr>\n",
       "    <tr>\n",
       "      <th>368</th>\n",
       "      <td>341</td>\n",
       "      <td>3</td>\n",
       "      <td>Duplex for sale 83m with garden in Monte Napol...</td>\n",
       "      <td>https://aqarmap.com.eg/en/listing/2958379-proj...</td>\n",
       "      <td>0</td>\n",
       "      <td>1</td>\n",
       "      <td>1</td>\n",
       "      <td>83 M²</td>\n",
       "      <td>EG-2958379</td>\n",
       "      <td>1,490,110 EGP</td>\n",
       "      <td>NaN</td>\n",
       "      <td>NaN</td>\n",
       "      <td>NaN</td>\n",
       "    </tr>\n",
       "    <tr>\n",
       "      <th>381</th>\n",
       "      <td>193</td>\n",
       "      <td>156</td>\n",
       "      <td>Apartments 259 M² Semi Finished in El Bostan\\n...</td>\n",
       "      <td>https://aqarmap.com.eg/en/listing/2922190-for-...</td>\n",
       "      <td>3</td>\n",
       "      <td>3</td>\n",
       "      <td>3</td>\n",
       "      <td>NaN</td>\n",
       "      <td>EG-2922190</td>\n",
       "      <td>Apartments 259 M² Semi Finished in El Bostan</td>\n",
       "      <td>2,500,000 EGP</td>\n",
       "      <td>NaN</td>\n",
       "      <td>NaN</td>\n",
       "    </tr>\n",
       "    <tr>\n",
       "      <th>382</th>\n",
       "      <td>331</td>\n",
       "      <td>100</td>\n",
       "      <td>Apartments 160 M² Semi Finished in El Narges O...</td>\n",
       "      <td>https://aqarmap.com.eg/en/listing/2929577-for-...</td>\n",
       "      <td>1</td>\n",
       "      <td>3</td>\n",
       "      <td>3</td>\n",
       "      <td>NaN</td>\n",
       "      <td>EG-2929577</td>\n",
       "      <td>Apartments 160 M² Semi Finished in El Narges O...</td>\n",
       "      <td>1,515,000 EGP</td>\n",
       "      <td>NaN</td>\n",
       "      <td>NaN</td>\n",
       "    </tr>\n",
       "    <tr>\n",
       "      <th>384</th>\n",
       "      <td>195</td>\n",
       "      <td>24</td>\n",
       "      <td>Duplex 166 M² For Sale in Atika Compound - New...</td>\n",
       "      <td>https://aqarmap.com.eg/en/listing/2953270-for-...</td>\n",
       "      <td>2</td>\n",
       "      <td>3</td>\n",
       "      <td>2</td>\n",
       "      <td>NaN</td>\n",
       "      <td>EG-2953270</td>\n",
       "      <td>Duplex 166 M² For Sale in Atika Compound - New...</td>\n",
       "      <td>2,324,000 EGP</td>\n",
       "      <td>NaN</td>\n",
       "      <td>NaN</td>\n",
       "    </tr>\n",
       "    <tr>\n",
       "      <th>388</th>\n",
       "      <td>190</td>\n",
       "      <td>98</td>\n",
       "      <td>Apartments 150 M² Semi Finished in New El Anda...</td>\n",
       "      <td>https://aqarmap.com.eg/en/listing/3089009-for-...</td>\n",
       "      <td>3</td>\n",
       "      <td>3</td>\n",
       "      <td>2</td>\n",
       "      <td>NaN</td>\n",
       "      <td>EG-3089009</td>\n",
       "      <td>Apartments 150 M² Semi Finished in New El Anda...</td>\n",
       "      <td>1,300,000 EGP</td>\n",
       "      <td>NaN</td>\n",
       "      <td>NaN</td>\n",
       "    </tr>\n",
       "    <tr>\n",
       "      <th>389</th>\n",
       "      <td>264</td>\n",
       "      <td>127</td>\n",
       "      <td>Apartments Semi Finished For Sale in New Helio...</td>\n",
       "      <td>https://aqarmap.com.eg/en/listing/3099488-for-...</td>\n",
       "      <td>5</td>\n",
       "      <td>3</td>\n",
       "      <td>2</td>\n",
       "      <td>NaN</td>\n",
       "      <td>EG-3099488</td>\n",
       "      <td>Apartments Semi Finished For Sale in New Helio...</td>\n",
       "      <td>968,000 EGP</td>\n",
       "      <td>NaN</td>\n",
       "      <td>NaN</td>\n",
       "    </tr>\n",
       "    <tr>\n",
       "      <th>390</th>\n",
       "      <td>272</td>\n",
       "      <td>144</td>\n",
       "      <td>Apartment with Garden in New Heliopolis 162 M²...</td>\n",
       "      <td>https://aqarmap.com.eg/en/listing/3099507-for-...</td>\n",
       "      <td>0</td>\n",
       "      <td>3</td>\n",
       "      <td>3</td>\n",
       "      <td>NaN</td>\n",
       "      <td>EG-3099507</td>\n",
       "      <td>Apartment with Garden in New Heliopolis 162 M²...</td>\n",
       "      <td>862,000 EGP</td>\n",
       "      <td>NaN</td>\n",
       "      <td>NaN</td>\n",
       "    </tr>\n",
       "    <tr>\n",
       "      <th>395</th>\n",
       "      <td>219</td>\n",
       "      <td>70</td>\n",
       "      <td>Apartments For sale in Al Andalus 1\\nالأندلس 1...</td>\n",
       "      <td>https://aqarmap.com.eg/en/listing/3120346-for-...</td>\n",
       "      <td>2</td>\n",
       "      <td>3</td>\n",
       "      <td>2</td>\n",
       "      <td>NaN</td>\n",
       "      <td>EG-3120346</td>\n",
       "      <td>Apartments For sale in Al Andalus 1</td>\n",
       "      <td>1,317,500 EGP</td>\n",
       "      <td>NaN</td>\n",
       "      <td>NaN</td>\n",
       "    </tr>\n",
       "    <tr>\n",
       "      <th>396</th>\n",
       "      <td>145</td>\n",
       "      <td>74</td>\n",
       "      <td>Apartments For sale in Al Andalus 1\\nالأندلس 1...</td>\n",
       "      <td>https://aqarmap.com.eg/en/listing/3120640-for-...</td>\n",
       "      <td>3</td>\n",
       "      <td>3</td>\n",
       "      <td>2</td>\n",
       "      <td>NaN</td>\n",
       "      <td>EG-3120640</td>\n",
       "      <td>Apartments For sale in Al Andalus 1</td>\n",
       "      <td>1,380,000 EGP</td>\n",
       "      <td>NaN</td>\n",
       "      <td>NaN</td>\n",
       "    </tr>\n",
       "    <tr>\n",
       "      <th>397</th>\n",
       "      <td>226</td>\n",
       "      <td>61</td>\n",
       "      <td>Apartments in Compounds in 6 October 185 M² Se...</td>\n",
       "      <td>https://aqarmap.com.eg/en/listing/3125808-for-...</td>\n",
       "      <td>1</td>\n",
       "      <td>3</td>\n",
       "      <td>3</td>\n",
       "      <td>NaN</td>\n",
       "      <td>EG-3125808</td>\n",
       "      <td>Apartments in Compounds in 6 October 185 M² Se...</td>\n",
       "      <td>1,221,000 EGP</td>\n",
       "      <td>NaN</td>\n",
       "      <td>NaN</td>\n",
       "    </tr>\n",
       "  </tbody>\n",
       "</table>\n",
       "</div>"
      ],
      "text/plain": [
       "     level_0  index                                       Summary_name  \\\n",
       "8        160      9  Apartment 107 m for sale in Kattameya Gate apa...   \n",
       "58       167      8  Apartment 138 m for sale in Kattameya Gate, th...   \n",
       "368      341      3  Duplex for sale 83m with garden in Monte Napol...   \n",
       "381      193    156  Apartments 259 M² Semi Finished in El Bostan\\n...   \n",
       "382      331    100  Apartments 160 M² Semi Finished in El Narges O...   \n",
       "384      195     24  Duplex 166 M² For Sale in Atika Compound - New...   \n",
       "388      190     98  Apartments 150 M² Semi Finished in New El Anda...   \n",
       "389      264    127  Apartments Semi Finished For Sale in New Helio...   \n",
       "390      272    144  Apartment with Garden in New Heliopolis 162 M²...   \n",
       "395      219     70  Apartments For sale in Al Andalus 1\\nالأندلس 1...   \n",
       "396      145     74  Apartments For sale in Al Andalus 1\\nالأندلس 1...   \n",
       "397      226     61  Apartments in Compounds in 6 October 185 M² Se...   \n",
       "\n",
       "                                           Summary_url  Summary_Floor_No  \\\n",
       "8    https://aqarmap.com.eg/en/listing/1067142-proj...                 2   \n",
       "58   https://aqarmap.com.eg/en/listing/1067133-proj...                 2   \n",
       "368  https://aqarmap.com.eg/en/listing/2958379-proj...                 0   \n",
       "381  https://aqarmap.com.eg/en/listing/2922190-for-...                 3   \n",
       "382  https://aqarmap.com.eg/en/listing/2929577-for-...                 1   \n",
       "384  https://aqarmap.com.eg/en/listing/2953270-for-...                 2   \n",
       "388  https://aqarmap.com.eg/en/listing/3089009-for-...                 3   \n",
       "389  https://aqarmap.com.eg/en/listing/3099488-for-...                 5   \n",
       "390  https://aqarmap.com.eg/en/listing/3099507-for-...                 0   \n",
       "395  https://aqarmap.com.eg/en/listing/3120346-for-...                 2   \n",
       "396  https://aqarmap.com.eg/en/listing/3120640-for-...                 3   \n",
       "397  https://aqarmap.com.eg/en/listing/3125808-for-...                 1   \n",
       "\n",
       "     Summary_No_Rooms  Summary_No_Bathrooms Summary_Area_m2 Summary_Add_ID  \\\n",
       "8                   2                     2          107 M²     EG-1067142   \n",
       "58                  4                     2          138 M²     EG-1067133   \n",
       "368                 1                     1           83 M²     EG-2958379   \n",
       "381                 3                     3             NaN     EG-2922190   \n",
       "382                 3                     3             NaN     EG-2929577   \n",
       "384                 3                     2             NaN     EG-2953270   \n",
       "388                 3                     2             NaN     EG-3089009   \n",
       "389                 3                     2             NaN     EG-3099488   \n",
       "390                 3                     3             NaN     EG-3099507   \n",
       "395                 3                     2             NaN     EG-3120346   \n",
       "396                 3                     2             NaN     EG-3120640   \n",
       "397                 3                     3             NaN     EG-3125808   \n",
       "\n",
       "                               Summary_Publishing_Date Summary_Price_EGP  \\\n",
       "8                                        1,433,800 EGP               NaN   \n",
       "58                                       1,945,800 EGP               NaN   \n",
       "368                                      1,490,110 EGP               NaN   \n",
       "381       Apartments 259 M² Semi Finished in El Bostan     2,500,000 EGP   \n",
       "382  Apartments 160 M² Semi Finished in El Narges O...     1,515,000 EGP   \n",
       "384  Duplex 166 M² For Sale in Atika Compound - New...     2,324,000 EGP   \n",
       "388  Apartments 150 M² Semi Finished in New El Anda...     1,300,000 EGP   \n",
       "389  Apartments Semi Finished For Sale in New Helio...       968,000 EGP   \n",
       "390  Apartment with Garden in New Heliopolis 162 M²...       862,000 EGP   \n",
       "395                Apartments For sale in Al Andalus 1     1,317,500 EGP   \n",
       "396                Apartments For sale in Al Andalus 1     1,380,000 EGP   \n",
       "397  Apartments in Compounds in 6 October 185 M² Se...     1,221,000 EGP   \n",
       "\n",
       "    Summary_Seller_Type Summary_Price_P_M  \n",
       "8                   NaN               NaN  \n",
       "58                  NaN               NaN  \n",
       "368                 NaN               NaN  \n",
       "381                 NaN               NaN  \n",
       "382                 NaN               NaN  \n",
       "384                 NaN               NaN  \n",
       "388                 NaN               NaN  \n",
       "389                 NaN               NaN  \n",
       "390                 NaN               NaN  \n",
       "395                 NaN               NaN  \n",
       "396                 NaN               NaN  \n",
       "397                 NaN               NaN  "
      ]
     },
     "execution_count": 64,
     "metadata": {},
     "output_type": "execute_result"
    }
   ],
   "source": [
    "dates"
   ]
  },
  {
   "cell_type": "markdown",
   "id": "77aad557",
   "metadata": {},
   "source": [
    "The first 3 rows should be shifted 1 step to the right to display the price value correctly. And it doesn't include the dates in any other column so we can replace the values with NA. For the remaining ones, we can only replace the values with NA without shifting because the next column  (Price) is correctly located."
   ]
  },
  {
   "cell_type": "code",
   "execution_count": 65,
   "id": "60ff7717",
   "metadata": {},
   "outputs": [
    {
     "name": "stderr",
     "output_type": "stream",
     "text": [
      "<ipython-input-65-ca4c1b66385a>:1: SettingWithCopyWarning: \n",
      "A value is trying to be set on a copy of a slice from a DataFrame.\n",
      "Try using .loc[row_indexer,col_indexer] = value instead\n",
      "\n",
      "See the caveats in the documentation: https://pandas.pydata.org/pandas-docs/stable/user_guide/indexing.html#returning-a-view-versus-a-copy\n",
      "  dates.iloc[0:3]['Summary_Price_EGP']=dates.iloc[0:3]['Summary_Publishing_Date']\n",
      "<ipython-input-65-ca4c1b66385a>:2: SettingWithCopyWarning: \n",
      "A value is trying to be set on a copy of a slice from a DataFrame.\n",
      "Try using .loc[row_indexer,col_indexer] = value instead\n",
      "\n",
      "See the caveats in the documentation: https://pandas.pydata.org/pandas-docs/stable/user_guide/indexing.html#returning-a-view-versus-a-copy\n",
      "  dates['Summary_Publishing_Date']=\"NA\"\n"
     ]
    },
    {
     "data": {
      "text/html": [
       "<div>\n",
       "<style scoped>\n",
       "    .dataframe tbody tr th:only-of-type {\n",
       "        vertical-align: middle;\n",
       "    }\n",
       "\n",
       "    .dataframe tbody tr th {\n",
       "        vertical-align: top;\n",
       "    }\n",
       "\n",
       "    .dataframe thead th {\n",
       "        text-align: right;\n",
       "    }\n",
       "</style>\n",
       "<table border=\"1\" class=\"dataframe\">\n",
       "  <thead>\n",
       "    <tr style=\"text-align: right;\">\n",
       "      <th></th>\n",
       "      <th>level_0</th>\n",
       "      <th>index</th>\n",
       "      <th>Summary_name</th>\n",
       "      <th>Summary_url</th>\n",
       "      <th>Summary_Floor_No</th>\n",
       "      <th>Summary_No_Rooms</th>\n",
       "      <th>Summary_No_Bathrooms</th>\n",
       "      <th>Summary_Area_m2</th>\n",
       "      <th>Summary_Add_ID</th>\n",
       "      <th>Summary_Publishing_Date</th>\n",
       "      <th>Summary_Price_EGP</th>\n",
       "      <th>Summary_Seller_Type</th>\n",
       "      <th>Summary_Price_P_M</th>\n",
       "    </tr>\n",
       "  </thead>\n",
       "  <tbody>\n",
       "    <tr>\n",
       "      <th>8</th>\n",
       "      <td>160</td>\n",
       "      <td>9</td>\n",
       "      <td>Apartment 107 m for sale in Kattameya Gate apa...</td>\n",
       "      <td>https://aqarmap.com.eg/en/listing/1067142-proj...</td>\n",
       "      <td>2</td>\n",
       "      <td>2</td>\n",
       "      <td>2</td>\n",
       "      <td>107 M²</td>\n",
       "      <td>EG-1067142</td>\n",
       "      <td>NA</td>\n",
       "      <td>1,433,800 EGP</td>\n",
       "      <td>NaN</td>\n",
       "      <td>NaN</td>\n",
       "    </tr>\n",
       "    <tr>\n",
       "      <th>58</th>\n",
       "      <td>167</td>\n",
       "      <td>8</td>\n",
       "      <td>Apartment 138 m for sale in Kattameya Gate, th...</td>\n",
       "      <td>https://aqarmap.com.eg/en/listing/1067133-proj...</td>\n",
       "      <td>2</td>\n",
       "      <td>4</td>\n",
       "      <td>2</td>\n",
       "      <td>138 M²</td>\n",
       "      <td>EG-1067133</td>\n",
       "      <td>NA</td>\n",
       "      <td>1,945,800 EGP</td>\n",
       "      <td>NaN</td>\n",
       "      <td>NaN</td>\n",
       "    </tr>\n",
       "    <tr>\n",
       "      <th>368</th>\n",
       "      <td>341</td>\n",
       "      <td>3</td>\n",
       "      <td>Duplex for sale 83m with garden in Monte Napol...</td>\n",
       "      <td>https://aqarmap.com.eg/en/listing/2958379-proj...</td>\n",
       "      <td>0</td>\n",
       "      <td>1</td>\n",
       "      <td>1</td>\n",
       "      <td>83 M²</td>\n",
       "      <td>EG-2958379</td>\n",
       "      <td>NA</td>\n",
       "      <td>1,490,110 EGP</td>\n",
       "      <td>NaN</td>\n",
       "      <td>NaN</td>\n",
       "    </tr>\n",
       "    <tr>\n",
       "      <th>381</th>\n",
       "      <td>193</td>\n",
       "      <td>156</td>\n",
       "      <td>Apartments 259 M² Semi Finished in El Bostan\\n...</td>\n",
       "      <td>https://aqarmap.com.eg/en/listing/2922190-for-...</td>\n",
       "      <td>3</td>\n",
       "      <td>3</td>\n",
       "      <td>3</td>\n",
       "      <td>NaN</td>\n",
       "      <td>EG-2922190</td>\n",
       "      <td>NA</td>\n",
       "      <td>2,500,000 EGP</td>\n",
       "      <td>NaN</td>\n",
       "      <td>NaN</td>\n",
       "    </tr>\n",
       "  </tbody>\n",
       "</table>\n",
       "</div>"
      ],
      "text/plain": [
       "     level_0  index                                       Summary_name  \\\n",
       "8        160      9  Apartment 107 m for sale in Kattameya Gate apa...   \n",
       "58       167      8  Apartment 138 m for sale in Kattameya Gate, th...   \n",
       "368      341      3  Duplex for sale 83m with garden in Monte Napol...   \n",
       "381      193    156  Apartments 259 M² Semi Finished in El Bostan\\n...   \n",
       "\n",
       "                                           Summary_url  Summary_Floor_No  \\\n",
       "8    https://aqarmap.com.eg/en/listing/1067142-proj...                 2   \n",
       "58   https://aqarmap.com.eg/en/listing/1067133-proj...                 2   \n",
       "368  https://aqarmap.com.eg/en/listing/2958379-proj...                 0   \n",
       "381  https://aqarmap.com.eg/en/listing/2922190-for-...                 3   \n",
       "\n",
       "     Summary_No_Rooms  Summary_No_Bathrooms Summary_Area_m2 Summary_Add_ID  \\\n",
       "8                   2                     2          107 M²     EG-1067142   \n",
       "58                  4                     2          138 M²     EG-1067133   \n",
       "368                 1                     1           83 M²     EG-2958379   \n",
       "381                 3                     3             NaN     EG-2922190   \n",
       "\n",
       "    Summary_Publishing_Date Summary_Price_EGP Summary_Seller_Type  \\\n",
       "8                        NA     1,433,800 EGP                 NaN   \n",
       "58                       NA     1,945,800 EGP                 NaN   \n",
       "368                      NA     1,490,110 EGP                 NaN   \n",
       "381                      NA     2,500,000 EGP                 NaN   \n",
       "\n",
       "    Summary_Price_P_M  \n",
       "8                 NaN  \n",
       "58                NaN  \n",
       "368               NaN  \n",
       "381               NaN  "
      ]
     },
     "execution_count": 65,
     "metadata": {},
     "output_type": "execute_result"
    }
   ],
   "source": [
    "dates.iloc[0:3]['Summary_Price_EGP']=dates.iloc[0:3]['Summary_Publishing_Date']\n",
    "dates['Summary_Publishing_Date']=\"NA\"\n",
    "dates.head(4)"
   ]
  },
  {
   "cell_type": "markdown",
   "id": "e8b54f13",
   "metadata": {},
   "source": [
    "Now Let's drop the old dates rows and then merge the updated ones"
   ]
  },
  {
   "cell_type": "code",
   "execution_count": 66,
   "id": "10790a9d",
   "metadata": {},
   "outputs": [
    {
     "data": {
      "text/html": [
       "<div>\n",
       "<style scoped>\n",
       "    .dataframe tbody tr th:only-of-type {\n",
       "        vertical-align: middle;\n",
       "    }\n",
       "\n",
       "    .dataframe tbody tr th {\n",
       "        vertical-align: top;\n",
       "    }\n",
       "\n",
       "    .dataframe thead th {\n",
       "        text-align: right;\n",
       "    }\n",
       "</style>\n",
       "<table border=\"1\" class=\"dataframe\">\n",
       "  <thead>\n",
       "    <tr style=\"text-align: right;\">\n",
       "      <th></th>\n",
       "      <th>level_0</th>\n",
       "      <th>index</th>\n",
       "      <th>Summary_name</th>\n",
       "      <th>Summary_url</th>\n",
       "      <th>Summary_Floor_No</th>\n",
       "      <th>Summary_No_Rooms</th>\n",
       "      <th>Summary_No_Bathrooms</th>\n",
       "      <th>Summary_Area_m2</th>\n",
       "      <th>Summary_Add_ID</th>\n",
       "      <th>Summary_Publishing_Date</th>\n",
       "      <th>Summary_Price_EGP</th>\n",
       "      <th>Summary_Seller_Type</th>\n",
       "      <th>Summary_Price_P_M</th>\n",
       "    </tr>\n",
       "  </thead>\n",
       "  <tbody>\n",
       "    <tr>\n",
       "      <th>0</th>\n",
       "      <td>0</td>\n",
       "      <td>143</td>\n",
       "      <td>فرصه لا تعوض\\nEl Marg, Greater Cairo\\n100 M² 3...</td>\n",
       "      <td>https://aqarmap.com.eg/en/listing/3133310-for-...</td>\n",
       "      <td>4</td>\n",
       "      <td>3</td>\n",
       "      <td>1</td>\n",
       "      <td>100 M²</td>\n",
       "      <td>EG-3133310</td>\n",
       "      <td>05/01/2022</td>\n",
       "      <td>300,000 EGP</td>\n",
       "      <td>Property Owner</td>\n",
       "      <td>3,000 EGP/M²</td>\n",
       "    </tr>\n",
       "    <tr>\n",
       "      <th>1</th>\n",
       "      <td>1</td>\n",
       "      <td>5</td>\n",
       "      <td>شقة سوبر لوكس للبييع بمسطرد فرعي من شارع بور س...</td>\n",
       "      <td>https://aqarmap.com.eg/en/listing/3133765-for-...</td>\n",
       "      <td>5</td>\n",
       "      <td>2</td>\n",
       "      <td>1</td>\n",
       "      <td>100 M²</td>\n",
       "      <td>EG-3133765</td>\n",
       "      <td>06/01/2022</td>\n",
       "      <td>300,000 EGP</td>\n",
       "      <td>Property Owner</td>\n",
       "      <td>3,000 EGP/M²</td>\n",
       "    </tr>\n",
       "  </tbody>\n",
       "</table>\n",
       "</div>"
      ],
      "text/plain": [
       "   level_0  index                                       Summary_name  \\\n",
       "0        0    143  فرصه لا تعوض\\nEl Marg, Greater Cairo\\n100 M² 3...   \n",
       "1        1      5  شقة سوبر لوكس للبييع بمسطرد فرعي من شارع بور س...   \n",
       "\n",
       "                                         Summary_url  Summary_Floor_No  \\\n",
       "0  https://aqarmap.com.eg/en/listing/3133310-for-...                 4   \n",
       "1  https://aqarmap.com.eg/en/listing/3133765-for-...                 5   \n",
       "\n",
       "   Summary_No_Rooms  Summary_No_Bathrooms Summary_Area_m2 Summary_Add_ID  \\\n",
       "0                 3                     1          100 M²     EG-3133310   \n",
       "1                 2                     1          100 M²     EG-3133765   \n",
       "\n",
       "  Summary_Publishing_Date Summary_Price_EGP Summary_Seller_Type  \\\n",
       "0              05/01/2022       300,000 EGP      Property Owner   \n",
       "1              06/01/2022       300,000 EGP      Property Owner   \n",
       "\n",
       "  Summary_Price_P_M  \n",
       "0      3,000 EGP/M²  \n",
       "1      3,000 EGP/M²  "
      ]
     },
     "execution_count": 66,
     "metadata": {},
     "output_type": "execute_result"
    }
   ],
   "source": [
    "df13=df12.drop(axis=0, labels=dates.index)\n",
    "df14=pd.concat([df13,dates])\n",
    "df13.head(2)"
   ]
  },
  {
   "cell_type": "code",
   "execution_count": 67,
   "id": "bbd248ec",
   "metadata": {},
   "outputs": [
    {
     "data": {
      "text/plain": [
       "398"
      ]
     },
     "execution_count": 67,
     "metadata": {},
     "output_type": "execute_result"
    }
   ],
   "source": [
    "len(df14)"
   ]
  },
  {
   "cell_type": "markdown",
   "id": "9a0cddaa",
   "metadata": {},
   "source": [
    "Now Let's take another look on the dataset"
   ]
  },
  {
   "cell_type": "code",
   "execution_count": 68,
   "id": "c39bdbbd",
   "metadata": {},
   "outputs": [
    {
     "name": "stdout",
     "output_type": "stream",
     "text": [
      "<class 'pandas.core.frame.DataFrame'>\n",
      "Int64Index: 398 entries, 0 to 397\n",
      "Data columns (total 13 columns):\n",
      " #   Column                   Non-Null Count  Dtype \n",
      "---  ------                   --------------  ----- \n",
      " 0   level_0                  398 non-null    int64 \n",
      " 1   index                    398 non-null    int64 \n",
      " 2   Summary_name             398 non-null    object\n",
      " 3   Summary_url              398 non-null    object\n",
      " 4   Summary_Floor_No         398 non-null    int32 \n",
      " 5   Summary_No_Rooms         398 non-null    int32 \n",
      " 6   Summary_No_Bathrooms     398 non-null    int32 \n",
      " 7   Summary_Area_m2          381 non-null    object\n",
      " 8   Summary_Add_ID           398 non-null    object\n",
      " 9   Summary_Publishing_Date  398 non-null    object\n",
      " 10  Summary_Price_EGP        112 non-null    object\n",
      " 11  Summary_Seller_Type      92 non-null     object\n",
      " 12  Summary_Price_P_M        92 non-null     object\n",
      "dtypes: int32(3), int64(2), object(8)\n",
      "memory usage: 38.9+ KB\n"
     ]
    }
   ],
   "source": [
    "df14.info()"
   ]
  },
  {
   "cell_type": "markdown",
   "id": "487f126b",
   "metadata": {},
   "source": [
    "At this stage, it's disappointing to see that the price is missing from around 75% of the data, which means that if we were planning to predict the price then the accuracy will be low because we can't impute such a large amount of data and rely on it to train our model. But I'll leave the column for now to use it in analysis. I'll also take a look at some of these rows in the first version of our data for health check to make sure the prices were missing from the beginning and ensure I didn't delete them by mistake during preprocessing."
   ]
  },
  {
   "cell_type": "code",
   "execution_count": 69,
   "id": "87e6102d",
   "metadata": {},
   "outputs": [
    {
     "data": {
      "text/plain": [
       "2     https://aqarmap.com.eg/en/listing/3133298-for-...\n",
       "10    https://aqarmap.com.eg/en/listing/3133243-for-...\n",
       "23    https://aqarmap.com.eg/en/listing/3125154-for-...\n",
       "26    https://aqarmap.com.eg/en/listing/2891920-for-...\n",
       "61    https://aqarmap.com.eg/en/listing/3108599-for-...\n",
       "Name: Summary_url, dtype: object"
      ]
     },
     "execution_count": 69,
     "metadata": {},
     "output_type": "execute_result"
    }
   ],
   "source": [
    "# First, let's retrieve the rows with null values. But we can't use their index because we used reset index in previous steps\n",
    "miss=df14[(df14['Summary_Price_EGP']).isnull()]['Summary_url']\n",
    "miss.head()"
   ]
  },
  {
   "cell_type": "code",
   "execution_count": 70,
   "id": "2275833e",
   "metadata": {},
   "outputs": [
    {
     "data": {
      "text/html": [
       "<div>\n",
       "<style scoped>\n",
       "    .dataframe tbody tr th:only-of-type {\n",
       "        vertical-align: middle;\n",
       "    }\n",
       "\n",
       "    .dataframe tbody tr th {\n",
       "        vertical-align: top;\n",
       "    }\n",
       "\n",
       "    .dataframe thead th {\n",
       "        text-align: right;\n",
       "    }\n",
       "</style>\n",
       "<table border=\"1\" class=\"dataframe\">\n",
       "  <thead>\n",
       "    <tr style=\"text-align: right;\">\n",
       "      <th></th>\n",
       "      <th>Summary_name</th>\n",
       "      <th>Summary_url</th>\n",
       "      <th>Summary_Floor_No</th>\n",
       "      <th>Summary_No_Rooms</th>\n",
       "      <th>Summary_No_Bathrooms</th>\n",
       "      <th>Summary_Area_m2</th>\n",
       "      <th>Summary_Add_ID</th>\n",
       "      <th>Summary_Publishing_Date</th>\n",
       "      <th>Summary_Price_EGP</th>\n",
       "      <th>Summary_Seller_Type</th>\n",
       "      <th>Summary_Price_P_M</th>\n",
       "    </tr>\n",
       "  </thead>\n",
       "  <tbody>\n",
       "    <tr>\n",
       "      <th>0</th>\n",
       "      <td>شقة 270 متر في كمبوند حدائق الفدا نص تشطيب دور...</td>\n",
       "      <td>https://aqarmap.com.eg/en/listing/3133688-for-...</td>\n",
       "      <td>1</td>\n",
       "      <td>3</td>\n",
       "      <td>3</td>\n",
       "      <td>2015</td>\n",
       "      <td>SEMI_FINISHED</td>\n",
       "      <td>Side Street</td>\n",
       "      <td>270 M²</td>\n",
       "      <td>شقة 270 متر في كمبوند حدائق الفدا نص تشطيب دور...</td>\n",
       "      <td>05/01/2022</td>\n",
       "    </tr>\n",
       "    <tr>\n",
       "      <th>1</th>\n",
       "      <td>شقة 200 متر في فيلات الدفاع الوطني 75 % تشطيب+...</td>\n",
       "      <td>https://aqarmap.com.eg/en/listing/3133659-for-...</td>\n",
       "      <td>2</td>\n",
       "      <td>3</td>\n",
       "      <td>3</td>\n",
       "      <td>2015</td>\n",
       "      <td>LUX</td>\n",
       "      <td>Side Street</td>\n",
       "      <td>200 M²</td>\n",
       "      <td>شقة 200 متر في فيلات الدفاع الوطني 75 % تشطيب+...</td>\n",
       "      <td>05/01/2022</td>\n",
       "    </tr>\n",
       "  </tbody>\n",
       "</table>\n",
       "</div>"
      ],
      "text/plain": [
       "                                        Summary_name  \\\n",
       "0  شقة 270 متر في كمبوند حدائق الفدا نص تشطيب دور...   \n",
       "1  شقة 200 متر في فيلات الدفاع الوطني 75 % تشطيب+...   \n",
       "\n",
       "                                         Summary_url Summary_Floor_No  \\\n",
       "0  https://aqarmap.com.eg/en/listing/3133688-for-...                1   \n",
       "1  https://aqarmap.com.eg/en/listing/3133659-for-...                2   \n",
       "\n",
       "  Summary_No_Rooms Summary_No_Bathrooms Summary_Area_m2 Summary_Add_ID  \\\n",
       "0                3                    3            2015  SEMI_FINISHED   \n",
       "1                3                    3            2015            LUX   \n",
       "\n",
       "  Summary_Publishing_Date Summary_Price_EGP  \\\n",
       "0             Side Street            270 M²   \n",
       "1             Side Street            200 M²   \n",
       "\n",
       "                                 Summary_Seller_Type Summary_Price_P_M  \n",
       "0  شقة 270 متر في كمبوند حدائق الفدا نص تشطيب دور...        05/01/2022  \n",
       "1  شقة 200 متر في فيلات الدفاع الوطني 75 % تشطيب+...        05/01/2022  "
      ]
     },
     "execution_count": 70,
     "metadata": {},
     "output_type": "execute_result"
    }
   ],
   "source": [
    "# Now let's merge the above data with df1 the original dataset\n",
    "miss2=pd.merge(df1, miss, how='inner')\n",
    "miss2.head(2)"
   ]
  },
  {
   "cell_type": "code",
   "execution_count": 71,
   "id": "9ec60df6",
   "metadata": {
    "scrolled": false
   },
   "outputs": [
    {
     "data": {
      "text/plain": [
       "[297, 0, 0, 0.0, 0, 0, 0, 0, 0, 11, 0]"
      ]
     },
     "execution_count": 71,
     "metadata": {},
     "output_type": "execute_result"
    }
   ],
   "source": [
    "[miss2[col].str.count('EGP').sum() for col in df1.columns]"
   ]
  },
  {
   "cell_type": "code",
   "execution_count": 72,
   "id": "e23dde83",
   "metadata": {},
   "outputs": [
    {
     "data": {
      "text/plain": [
       "Index(['Summary_name', 'Summary_url', 'Summary_Floor_No', 'Summary_No_Rooms',\n",
       "       'Summary_No_Bathrooms', 'Summary_Area_m2', 'Summary_Add_ID',\n",
       "       'Summary_Publishing_Date', 'Summary_Price_EGP', 'Summary_Seller_Type',\n",
       "       'Summary_Price_P_M'],\n",
       "      dtype='object')"
      ]
     },
     "execution_count": 72,
     "metadata": {},
     "output_type": "execute_result"
    }
   ],
   "source": [
    "df1.columns"
   ]
  },
  {
   "cell_type": "code",
   "execution_count": 73,
   "id": "1baa639e",
   "metadata": {},
   "outputs": [
    {
     "data": {
      "text/plain": [
       "286"
      ]
     },
     "execution_count": 73,
     "metadata": {},
     "output_type": "execute_result"
    }
   ],
   "source": [
    "len(miss2)"
   ]
  },
  {
   "cell_type": "markdown",
   "id": "041e61cc",
   "metadata": {},
   "source": [
    "Good news here! The first column \"Summary_name\" has the required price data. But it might be strange that the values are 297 although the # rows are 286 in miss2. Let's dive deeper."
   ]
  },
  {
   "cell_type": "code",
   "execution_count": 74,
   "id": "747881cd",
   "metadata": {},
   "outputs": [
    {
     "data": {
      "text/plain": [
       "array(['شقة للبيع مكان مميز جدااا\\n6th of October, Greater Cairo\\n245 M² 4 2\\n2,000,000 EGP',\n",
       "       'Corner Penthouse Apartment in Cairo University Compound Sheikh Zayed 4, 6th of October\\nطريق وصلة دهشور, 6 أكتوبر\\n350 M² 4 4\\n1,250,000 EGP',\n",
       "       'Apartments For sale in Second Neighborhood\\nالشطر الثاني, زهراء المعادي\\n100 M² 2 1\\n1,050,000 EGP'],\n",
       "      dtype=object)"
      ]
     },
     "execution_count": 74,
     "metadata": {},
     "output_type": "execute_result"
    }
   ],
   "source": [
    "df1['Summary_name'][0].values"
   ]
  },
  {
   "cell_type": "code",
   "execution_count": 75,
   "id": "2c285973",
   "metadata": {},
   "outputs": [
    {
     "data": {
      "text/html": [
       "<div>\n",
       "<style scoped>\n",
       "    .dataframe tbody tr th:only-of-type {\n",
       "        vertical-align: middle;\n",
       "    }\n",
       "\n",
       "    .dataframe tbody tr th {\n",
       "        vertical-align: top;\n",
       "    }\n",
       "\n",
       "    .dataframe thead th {\n",
       "        text-align: right;\n",
       "    }\n",
       "</style>\n",
       "<table border=\"1\" class=\"dataframe\">\n",
       "  <thead>\n",
       "    <tr style=\"text-align: right;\">\n",
       "      <th></th>\n",
       "      <th>Summary_name</th>\n",
       "      <th>Summary_url</th>\n",
       "      <th>Summary_Floor_No</th>\n",
       "      <th>Summary_No_Rooms</th>\n",
       "      <th>Summary_No_Bathrooms</th>\n",
       "      <th>Summary_Area_m2</th>\n",
       "      <th>Summary_Add_ID</th>\n",
       "      <th>Summary_Publishing_Date</th>\n",
       "      <th>Summary_Price_EGP</th>\n",
       "      <th>Summary_Seller_Type</th>\n",
       "      <th>Summary_Price_P_M</th>\n",
       "    </tr>\n",
       "  </thead>\n",
       "  <tbody>\n",
       "    <tr>\n",
       "      <th>0</th>\n",
       "      <td>شقة للبيع مكان مميز جدااا\\n6th of October, Gre...</td>\n",
       "      <td>https://aqarmap.com.eg/en/listing/3133778-for-...</td>\n",
       "      <td>4</td>\n",
       "      <td>4</td>\n",
       "      <td>2</td>\n",
       "      <td>245 M²</td>\n",
       "      <td>EG-3133778</td>\n",
       "      <td>06/01/2022</td>\n",
       "      <td>2,000,000 EGP</td>\n",
       "      <td>Property Owner</td>\n",
       "      <td>8,163 EGP/M²</td>\n",
       "    </tr>\n",
       "  </tbody>\n",
       "</table>\n",
       "</div>"
      ],
      "text/plain": [
       "                                        Summary_name  \\\n",
       "0  شقة للبيع مكان مميز جدااا\\n6th of October, Gre...   \n",
       "\n",
       "                                         Summary_url Summary_Floor_No  \\\n",
       "0  https://aqarmap.com.eg/en/listing/3133778-for-...                4   \n",
       "\n",
       "  Summary_No_Rooms Summary_No_Bathrooms Summary_Area_m2 Summary_Add_ID  \\\n",
       "0                4                    2          245 M²     EG-3133778   \n",
       "\n",
       "  Summary_Publishing_Date Summary_Price_EGP Summary_Seller_Type  \\\n",
       "0              06/01/2022     2,000,000 EGP      Property Owner   \n",
       "\n",
       "  Summary_Price_P_M  \n",
       "0      8,163 EGP/M²  "
      ]
     },
     "execution_count": 75,
     "metadata": {},
     "output_type": "execute_result"
    }
   ],
   "source": [
    "df1.head(1)"
   ]
  },
  {
   "cell_type": "markdown",
   "id": "ba3c3add",
   "metadata": {},
   "source": [
    "It seems that the summary includes multiple prices, so we can't rely on it for extracting the price. Also for the \"price/m\"  column, it is also missing the needed price/m values in the rows with missing values. So we will keep the price column as is."
   ]
  },
  {
   "cell_type": "markdown",
   "id": "4641eb4e",
   "metadata": {},
   "source": [
    "Now all columns should include consistent data shapes!"
   ]
  },
  {
   "cell_type": "markdown",
   "id": "51f00c80",
   "metadata": {},
   "source": [
    "For the column \"Summary_Seller_Type\", I think the information it holds is not important, and it has alot of missing and incorrect values, so we can drop it. Also \"Summary_Price_P_M\" is redundent, so I will drop it as well."
   ]
  },
  {
   "cell_type": "code",
   "execution_count": 76,
   "id": "49c1bcae",
   "metadata": {},
   "outputs": [
    {
     "data": {
      "text/html": [
       "<div>\n",
       "<style scoped>\n",
       "    .dataframe tbody tr th:only-of-type {\n",
       "        vertical-align: middle;\n",
       "    }\n",
       "\n",
       "    .dataframe tbody tr th {\n",
       "        vertical-align: top;\n",
       "    }\n",
       "\n",
       "    .dataframe thead th {\n",
       "        text-align: right;\n",
       "    }\n",
       "</style>\n",
       "<table border=\"1\" class=\"dataframe\">\n",
       "  <thead>\n",
       "    <tr style=\"text-align: right;\">\n",
       "      <th></th>\n",
       "      <th>level_0</th>\n",
       "      <th>index</th>\n",
       "      <th>Summary_name</th>\n",
       "      <th>Summary_url</th>\n",
       "      <th>Summary_Floor_No</th>\n",
       "      <th>Summary_No_Rooms</th>\n",
       "      <th>Summary_No_Bathrooms</th>\n",
       "      <th>Summary_Area_m2</th>\n",
       "      <th>Summary_Add_ID</th>\n",
       "      <th>Summary_Publishing_Date</th>\n",
       "      <th>Summary_Price_EGP</th>\n",
       "    </tr>\n",
       "  </thead>\n",
       "  <tbody>\n",
       "    <tr>\n",
       "      <th>0</th>\n",
       "      <td>0</td>\n",
       "      <td>143</td>\n",
       "      <td>فرصه لا تعوض\\nEl Marg, Greater Cairo\\n100 M² 3...</td>\n",
       "      <td>https://aqarmap.com.eg/en/listing/3133310-for-...</td>\n",
       "      <td>4</td>\n",
       "      <td>3</td>\n",
       "      <td>1</td>\n",
       "      <td>100 M²</td>\n",
       "      <td>EG-3133310</td>\n",
       "      <td>05/01/2022</td>\n",
       "      <td>300,000 EGP</td>\n",
       "    </tr>\n",
       "    <tr>\n",
       "      <th>1</th>\n",
       "      <td>1</td>\n",
       "      <td>5</td>\n",
       "      <td>شقة سوبر لوكس للبييع بمسطرد فرعي من شارع بور س...</td>\n",
       "      <td>https://aqarmap.com.eg/en/listing/3133765-for-...</td>\n",
       "      <td>5</td>\n",
       "      <td>2</td>\n",
       "      <td>1</td>\n",
       "      <td>100 M²</td>\n",
       "      <td>EG-3133765</td>\n",
       "      <td>06/01/2022</td>\n",
       "      <td>300,000 EGP</td>\n",
       "    </tr>\n",
       "  </tbody>\n",
       "</table>\n",
       "</div>"
      ],
      "text/plain": [
       "   level_0  index                                       Summary_name  \\\n",
       "0        0    143  فرصه لا تعوض\\nEl Marg, Greater Cairo\\n100 M² 3...   \n",
       "1        1      5  شقة سوبر لوكس للبييع بمسطرد فرعي من شارع بور س...   \n",
       "\n",
       "                                         Summary_url  Summary_Floor_No  \\\n",
       "0  https://aqarmap.com.eg/en/listing/3133310-for-...                 4   \n",
       "1  https://aqarmap.com.eg/en/listing/3133765-for-...                 5   \n",
       "\n",
       "   Summary_No_Rooms  Summary_No_Bathrooms Summary_Area_m2 Summary_Add_ID  \\\n",
       "0                 3                     1          100 M²     EG-3133310   \n",
       "1                 2                     1          100 M²     EG-3133765   \n",
       "\n",
       "  Summary_Publishing_Date Summary_Price_EGP  \n",
       "0              05/01/2022       300,000 EGP  \n",
       "1              06/01/2022       300,000 EGP  "
      ]
     },
     "execution_count": 76,
     "metadata": {},
     "output_type": "execute_result"
    }
   ],
   "source": [
    "df15=df14.drop(axis=1,labels=['Summary_Seller_Type','Summary_Price_P_M'] )\n",
    "df15.head(2)"
   ]
  },
  {
   "cell_type": "markdown",
   "id": "99f4d955",
   "metadata": {},
   "source": [
    "For the \"Summary_Area_m2\" column, we can change the values to the area numeric value without the M2 and change the type to float to facilitate using it in our analysis"
   ]
  },
  {
   "cell_type": "code",
   "execution_count": 77,
   "id": "d9f84aa9",
   "metadata": {},
   "outputs": [
    {
     "data": {
      "text/plain": [
       "'M²'"
      ]
     },
     "execution_count": 77,
     "metadata": {},
     "output_type": "execute_result"
    }
   ],
   "source": [
    "unit=df15['Summary_Area_m2'][1].split()[1]\n",
    "unit"
   ]
  },
  {
   "cell_type": "code",
   "execution_count": 78,
   "id": "5adae1f4",
   "metadata": {
    "scrolled": true
   },
   "outputs": [
    {
     "data": {
      "text/html": [
       "<div>\n",
       "<style scoped>\n",
       "    .dataframe tbody tr th:only-of-type {\n",
       "        vertical-align: middle;\n",
       "    }\n",
       "\n",
       "    .dataframe tbody tr th {\n",
       "        vertical-align: top;\n",
       "    }\n",
       "\n",
       "    .dataframe thead th {\n",
       "        text-align: right;\n",
       "    }\n",
       "</style>\n",
       "<table border=\"1\" class=\"dataframe\">\n",
       "  <thead>\n",
       "    <tr style=\"text-align: right;\">\n",
       "      <th></th>\n",
       "      <th>level_0</th>\n",
       "      <th>index</th>\n",
       "      <th>Summary_name</th>\n",
       "      <th>Summary_url</th>\n",
       "      <th>Summary_Floor_No</th>\n",
       "      <th>Summary_No_Rooms</th>\n",
       "      <th>Summary_No_Bathrooms</th>\n",
       "      <th>Summary_Area_m2</th>\n",
       "      <th>Summary_Add_ID</th>\n",
       "      <th>Summary_Publishing_Date</th>\n",
       "      <th>Summary_Price_EGP</th>\n",
       "    </tr>\n",
       "  </thead>\n",
       "  <tbody>\n",
       "    <tr>\n",
       "      <th>0</th>\n",
       "      <td>0</td>\n",
       "      <td>143</td>\n",
       "      <td>فرصه لا تعوض\\nEl Marg, Greater Cairo\\n100 M² 3...</td>\n",
       "      <td>https://aqarmap.com.eg/en/listing/3133310-for-...</td>\n",
       "      <td>4</td>\n",
       "      <td>3</td>\n",
       "      <td>1</td>\n",
       "      <td>100.0</td>\n",
       "      <td>EG-3133310</td>\n",
       "      <td>05/01/2022</td>\n",
       "      <td>300,000 EGP</td>\n",
       "    </tr>\n",
       "    <tr>\n",
       "      <th>1</th>\n",
       "      <td>1</td>\n",
       "      <td>5</td>\n",
       "      <td>شقة سوبر لوكس للبييع بمسطرد فرعي من شارع بور س...</td>\n",
       "      <td>https://aqarmap.com.eg/en/listing/3133765-for-...</td>\n",
       "      <td>5</td>\n",
       "      <td>2</td>\n",
       "      <td>1</td>\n",
       "      <td>100.0</td>\n",
       "      <td>EG-3133765</td>\n",
       "      <td>06/01/2022</td>\n",
       "      <td>300,000 EGP</td>\n",
       "    </tr>\n",
       "  </tbody>\n",
       "</table>\n",
       "</div>"
      ],
      "text/plain": [
       "   level_0  index                                       Summary_name  \\\n",
       "0        0    143  فرصه لا تعوض\\nEl Marg, Greater Cairo\\n100 M² 3...   \n",
       "1        1      5  شقة سوبر لوكس للبييع بمسطرد فرعي من شارع بور س...   \n",
       "\n",
       "                                         Summary_url  Summary_Floor_No  \\\n",
       "0  https://aqarmap.com.eg/en/listing/3133310-for-...                 4   \n",
       "1  https://aqarmap.com.eg/en/listing/3133765-for-...                 5   \n",
       "\n",
       "   Summary_No_Rooms  Summary_No_Bathrooms  Summary_Area_m2 Summary_Add_ID  \\\n",
       "0                 3                     1            100.0     EG-3133310   \n",
       "1                 2                     1            100.0     EG-3133765   \n",
       "\n",
       "  Summary_Publishing_Date Summary_Price_EGP  \n",
       "0              05/01/2022       300,000 EGP  \n",
       "1              06/01/2022       300,000 EGP  "
      ]
     },
     "execution_count": 78,
     "metadata": {},
     "output_type": "execute_result"
    }
   ],
   "source": [
    "df15['Summary_Area_m2']=df15['Summary_Area_m2'].str.replace(unit,\"\").astype('float')\n",
    "\n",
    "df15.head(2)"
   ]
  },
  {
   "cell_type": "markdown",
   "id": "af7150eb",
   "metadata": {},
   "source": [
    "We can also cleanup the price column by removing the \"EGP\" to facilitate using the numbers in statistics"
   ]
  },
  {
   "cell_type": "code",
   "execution_count": 79,
   "id": "115212c5",
   "metadata": {},
   "outputs": [
    {
     "data": {
      "text/html": [
       "<div>\n",
       "<style scoped>\n",
       "    .dataframe tbody tr th:only-of-type {\n",
       "        vertical-align: middle;\n",
       "    }\n",
       "\n",
       "    .dataframe tbody tr th {\n",
       "        vertical-align: top;\n",
       "    }\n",
       "\n",
       "    .dataframe thead th {\n",
       "        text-align: right;\n",
       "    }\n",
       "</style>\n",
       "<table border=\"1\" class=\"dataframe\">\n",
       "  <thead>\n",
       "    <tr style=\"text-align: right;\">\n",
       "      <th></th>\n",
       "      <th>level_0</th>\n",
       "      <th>index</th>\n",
       "      <th>Summary_name</th>\n",
       "      <th>Summary_url</th>\n",
       "      <th>Summary_Floor_No</th>\n",
       "      <th>Summary_No_Rooms</th>\n",
       "      <th>Summary_No_Bathrooms</th>\n",
       "      <th>Summary_Area_m2</th>\n",
       "      <th>Summary_Add_ID</th>\n",
       "      <th>Summary_Publishing_Date</th>\n",
       "      <th>Summary_Price_EGP</th>\n",
       "    </tr>\n",
       "  </thead>\n",
       "  <tbody>\n",
       "    <tr>\n",
       "      <th>0</th>\n",
       "      <td>0</td>\n",
       "      <td>143</td>\n",
       "      <td>فرصه لا تعوض\\nEl Marg, Greater Cairo\\n100 M² 3...</td>\n",
       "      <td>https://aqarmap.com.eg/en/listing/3133310-for-...</td>\n",
       "      <td>4</td>\n",
       "      <td>3</td>\n",
       "      <td>1</td>\n",
       "      <td>100.0</td>\n",
       "      <td>EG-3133310</td>\n",
       "      <td>05/01/2022</td>\n",
       "      <td>300,000</td>\n",
       "    </tr>\n",
       "    <tr>\n",
       "      <th>1</th>\n",
       "      <td>1</td>\n",
       "      <td>5</td>\n",
       "      <td>شقة سوبر لوكس للبييع بمسطرد فرعي من شارع بور س...</td>\n",
       "      <td>https://aqarmap.com.eg/en/listing/3133765-for-...</td>\n",
       "      <td>5</td>\n",
       "      <td>2</td>\n",
       "      <td>1</td>\n",
       "      <td>100.0</td>\n",
       "      <td>EG-3133765</td>\n",
       "      <td>06/01/2022</td>\n",
       "      <td>300,000</td>\n",
       "    </tr>\n",
       "  </tbody>\n",
       "</table>\n",
       "</div>"
      ],
      "text/plain": [
       "   level_0  index                                       Summary_name  \\\n",
       "0        0    143  فرصه لا تعوض\\nEl Marg, Greater Cairo\\n100 M² 3...   \n",
       "1        1      5  شقة سوبر لوكس للبييع بمسطرد فرعي من شارع بور س...   \n",
       "\n",
       "                                         Summary_url  Summary_Floor_No  \\\n",
       "0  https://aqarmap.com.eg/en/listing/3133310-for-...                 4   \n",
       "1  https://aqarmap.com.eg/en/listing/3133765-for-...                 5   \n",
       "\n",
       "   Summary_No_Rooms  Summary_No_Bathrooms  Summary_Area_m2 Summary_Add_ID  \\\n",
       "0                 3                     1            100.0     EG-3133310   \n",
       "1                 2                     1            100.0     EG-3133765   \n",
       "\n",
       "  Summary_Publishing_Date Summary_Price_EGP  \n",
       "0              05/01/2022           300,000  \n",
       "1              06/01/2022           300,000  "
      ]
     },
     "execution_count": 79,
     "metadata": {},
     "output_type": "execute_result"
    }
   ],
   "source": [
    "df15['Summary_Price_EGP']=df15['Summary_Price_EGP'].str.replace(\" EGP\",\"\")\n",
    "df15.head(2)"
   ]
  },
  {
   "cell_type": "markdown",
   "id": "eeb647fa",
   "metadata": {},
   "source": [
    "Now, we can double check the \"Summary URL\" column for any useful data."
   ]
  },
  {
   "cell_type": "code",
   "execution_count": 80,
   "id": "659eb7d3",
   "metadata": {},
   "outputs": [
    {
     "name": "stdout",
     "output_type": "stream",
     "text": [
      "Apartments For Sale in Second Neighborhood\n",
      "Second Neighborhood, Zahraa El Maadi\n",
      "100 M² 2 1\n",
      "1,050,000 EGP\n",
      "*******\n",
      "شقة في حسن محمد - فيصل\n",
      "Faisal, Greater Cairo\n",
      "105 M² 2 1\n",
      "350,000 EGP\n",
      "*******\n",
      "Apartments For sale in Capital Heights\n",
      "كابيتال هايتس, كمبوند بالعاصمة الادارية الجديدة\n",
      "107 M² 2 2\n",
      "2,663,460 EGP\n",
      "*******\n",
      "Apartment for sale in New Capital Scene7 Compound -5 Years Installments\n",
      "كمبوند سين 7 - اكام, كمبوند بالعاصمة الادارية الجديدة\n",
      "144 M² 3 2\n",
      "2,129,717 EGP\n"
     ]
    }
   ],
   "source": [
    "print(df15['Summary_name'][3])\n",
    "print(\"*******\")\n",
    "print(df15['Summary_name'][7])\n",
    "print(\"*******\")\n",
    "print(df15['Summary_name'][9])\n",
    "print(\"*******\")\n",
    "print(df15['Summary_name'][77])"
   ]
  },
  {
   "cell_type": "markdown",
   "id": "f5e6c9c5",
   "metadata": {},
   "source": [
    "Although the area name is mentioned in the URL column, but it doesn't follow a unified sequence. For example, in two ads, it was written \"كمبوند بالعاصمة الادارية الجديدة\" not the area name directly. For the first & second entries above, Zahraa el Maadi is the second item in the second row, while Faisal is the first entry in the second row. which makes it hard to extract this area name.\n",
    "\n",
    "But it seems that the price & area are mentioned in the URL, so we can extract them and fill in the missing values."
   ]
  },
  {
   "cell_type": "markdown",
   "id": "b86ae29b",
   "metadata": {},
   "source": [
    "Let's start with the area. We will add a new column including the area extracted from URL"
   ]
  },
  {
   "cell_type": "code",
   "execution_count": 81,
   "id": "bd1e93e9",
   "metadata": {},
   "outputs": [],
   "source": [
    "df16=df15.copy()"
   ]
  },
  {
   "cell_type": "code",
   "execution_count": 82,
   "id": "ad5fd66b",
   "metadata": {
    "scrolled": true
   },
   "outputs": [
    {
     "data": {
      "text/html": [
       "<div>\n",
       "<style scoped>\n",
       "    .dataframe tbody tr th:only-of-type {\n",
       "        vertical-align: middle;\n",
       "    }\n",
       "\n",
       "    .dataframe tbody tr th {\n",
       "        vertical-align: top;\n",
       "    }\n",
       "\n",
       "    .dataframe thead th {\n",
       "        text-align: right;\n",
       "    }\n",
       "</style>\n",
       "<table border=\"1\" class=\"dataframe\">\n",
       "  <thead>\n",
       "    <tr style=\"text-align: right;\">\n",
       "      <th></th>\n",
       "      <th>level_0</th>\n",
       "      <th>index</th>\n",
       "      <th>Summary_name</th>\n",
       "      <th>Summary_url</th>\n",
       "      <th>Summary_Floor_No</th>\n",
       "      <th>Summary_No_Rooms</th>\n",
       "      <th>Summary_No_Bathrooms</th>\n",
       "      <th>Summary_Area_m2</th>\n",
       "      <th>Summary_Add_ID</th>\n",
       "      <th>Summary_Publishing_Date</th>\n",
       "      <th>Summary_Price_EGP</th>\n",
       "      <th>Area</th>\n",
       "    </tr>\n",
       "  </thead>\n",
       "  <tbody>\n",
       "    <tr>\n",
       "      <th>0</th>\n",
       "      <td>0</td>\n",
       "      <td>143</td>\n",
       "      <td>فرصه لا تعوض\\nEl Marg, Greater Cairo\\n100 M² 3...</td>\n",
       "      <td>https://aqarmap.com.eg/en/listing/3133310-for-...</td>\n",
       "      <td>4</td>\n",
       "      <td>3</td>\n",
       "      <td>1</td>\n",
       "      <td>100.0</td>\n",
       "      <td>EG-3133310</td>\n",
       "      <td>05/01/2022</td>\n",
       "      <td>300,000</td>\n",
       "      <td>100 M² 3 1</td>\n",
       "    </tr>\n",
       "    <tr>\n",
       "      <th>1</th>\n",
       "      <td>1</td>\n",
       "      <td>5</td>\n",
       "      <td>شقة سوبر لوكس للبييع بمسطرد فرعي من شارع بور س...</td>\n",
       "      <td>https://aqarmap.com.eg/en/listing/3133765-for-...</td>\n",
       "      <td>5</td>\n",
       "      <td>2</td>\n",
       "      <td>1</td>\n",
       "      <td>100.0</td>\n",
       "      <td>EG-3133765</td>\n",
       "      <td>06/01/2022</td>\n",
       "      <td>300,000</td>\n",
       "      <td>100 M² 2 1</td>\n",
       "    </tr>\n",
       "  </tbody>\n",
       "</table>\n",
       "</div>"
      ],
      "text/plain": [
       "   level_0  index                                       Summary_name  \\\n",
       "0        0    143  فرصه لا تعوض\\nEl Marg, Greater Cairo\\n100 M² 3...   \n",
       "1        1      5  شقة سوبر لوكس للبييع بمسطرد فرعي من شارع بور س...   \n",
       "\n",
       "                                         Summary_url  Summary_Floor_No  \\\n",
       "0  https://aqarmap.com.eg/en/listing/3133310-for-...                 4   \n",
       "1  https://aqarmap.com.eg/en/listing/3133765-for-...                 5   \n",
       "\n",
       "   Summary_No_Rooms  Summary_No_Bathrooms  Summary_Area_m2 Summary_Add_ID  \\\n",
       "0                 3                     1            100.0     EG-3133310   \n",
       "1                 2                     1            100.0     EG-3133765   \n",
       "\n",
       "  Summary_Publishing_Date Summary_Price_EGP        Area  \n",
       "0              05/01/2022           300,000  100 M² 3 1  \n",
       "1              06/01/2022           300,000  100 M² 2 1  "
      ]
     },
     "execution_count": 82,
     "metadata": {},
     "output_type": "execute_result"
    }
   ],
   "source": [
    "df16['Area']=df16['Summary_name'].apply(lambda x: x.split('\\n')[2])\n",
    "df16.head(2)"
   ]
  },
  {
   "cell_type": "markdown",
   "id": "00905812",
   "metadata": {},
   "source": [
    "Let's specify the rows with missing \"Area\" values"
   ]
  },
  {
   "cell_type": "code",
   "execution_count": 83,
   "id": "af682566",
   "metadata": {},
   "outputs": [
    {
     "data": {
      "text/html": [
       "<div>\n",
       "<style scoped>\n",
       "    .dataframe tbody tr th:only-of-type {\n",
       "        vertical-align: middle;\n",
       "    }\n",
       "\n",
       "    .dataframe tbody tr th {\n",
       "        vertical-align: top;\n",
       "    }\n",
       "\n",
       "    .dataframe thead th {\n",
       "        text-align: right;\n",
       "    }\n",
       "</style>\n",
       "<table border=\"1\" class=\"dataframe\">\n",
       "  <thead>\n",
       "    <tr style=\"text-align: right;\">\n",
       "      <th></th>\n",
       "      <th>level_0</th>\n",
       "      <th>index</th>\n",
       "      <th>Summary_name</th>\n",
       "      <th>Summary_url</th>\n",
       "      <th>Summary_Floor_No</th>\n",
       "      <th>Summary_No_Rooms</th>\n",
       "      <th>Summary_No_Bathrooms</th>\n",
       "      <th>Summary_Area_m2</th>\n",
       "      <th>Summary_Add_ID</th>\n",
       "      <th>Summary_Publishing_Date</th>\n",
       "      <th>Summary_Price_EGP</th>\n",
       "      <th>Area</th>\n",
       "    </tr>\n",
       "  </thead>\n",
       "  <tbody>\n",
       "    <tr>\n",
       "      <th>383</th>\n",
       "      <td>101</td>\n",
       "      <td>33</td>\n",
       "      <td>Apartments Semi Finished For Sale in Southern ...</td>\n",
       "      <td>https://aqarmap.com.eg/en/listing/2943994-for-...</td>\n",
       "      <td>2</td>\n",
       "      <td>3</td>\n",
       "      <td>2</td>\n",
       "      <td>NaN</td>\n",
       "      <td>EG-2943994</td>\n",
       "      <td>24/08/2021</td>\n",
       "      <td>2,170,000</td>\n",
       "      <td>155 M² 3 2</td>\n",
       "    </tr>\n",
       "    <tr>\n",
       "      <th>385</th>\n",
       "      <td>158</td>\n",
       "      <td>29</td>\n",
       "      <td>Direct from Owner\\nGREAT Opportunity | Apartme...</td>\n",
       "      <td>https://aqarmap.com.eg/en/listing/3000957-for-...</td>\n",
       "      <td>2</td>\n",
       "      <td>2</td>\n",
       "      <td>2</td>\n",
       "      <td>NaN</td>\n",
       "      <td>EG-3000957</td>\n",
       "      <td>09/10/2021</td>\n",
       "      <td>1,700,000</td>\n",
       "      <td>Palm Springs Residential Community - Alex Dese...</td>\n",
       "    </tr>\n",
       "  </tbody>\n",
       "</table>\n",
       "</div>"
      ],
      "text/plain": [
       "     level_0  index                                       Summary_name  \\\n",
       "383      101     33  Apartments Semi Finished For Sale in Southern ...   \n",
       "385      158     29  Direct from Owner\\nGREAT Opportunity | Apartme...   \n",
       "\n",
       "                                           Summary_url  Summary_Floor_No  \\\n",
       "383  https://aqarmap.com.eg/en/listing/2943994-for-...                 2   \n",
       "385  https://aqarmap.com.eg/en/listing/3000957-for-...                 2   \n",
       "\n",
       "     Summary_No_Rooms  Summary_No_Bathrooms  Summary_Area_m2 Summary_Add_ID  \\\n",
       "383                 3                     2              NaN     EG-2943994   \n",
       "385                 2                     2              NaN     EG-3000957   \n",
       "\n",
       "    Summary_Publishing_Date Summary_Price_EGP  \\\n",
       "383              24/08/2021         2,170,000   \n",
       "385              09/10/2021         1,700,000   \n",
       "\n",
       "                                                  Area  \n",
       "383                                         155 M² 3 2  \n",
       "385  Palm Springs Residential Community - Alex Dese...  "
      ]
     },
     "execution_count": 83,
     "metadata": {},
     "output_type": "execute_result"
    }
   ],
   "source": [
    "no_area1=df16[df16['Summary_Area_m2'].isna()]\n",
    "no_area1.head(2)"
   ]
  },
  {
   "cell_type": "code",
   "execution_count": 84,
   "id": "bb64d57e",
   "metadata": {
    "scrolled": true
   },
   "outputs": [
    {
     "data": {
      "text/html": [
       "<div>\n",
       "<style scoped>\n",
       "    .dataframe tbody tr th:only-of-type {\n",
       "        vertical-align: middle;\n",
       "    }\n",
       "\n",
       "    .dataframe tbody tr th {\n",
       "        vertical-align: top;\n",
       "    }\n",
       "\n",
       "    .dataframe thead th {\n",
       "        text-align: right;\n",
       "    }\n",
       "</style>\n",
       "<table border=\"1\" class=\"dataframe\">\n",
       "  <thead>\n",
       "    <tr style=\"text-align: right;\">\n",
       "      <th></th>\n",
       "      <th>level_0</th>\n",
       "      <th>index</th>\n",
       "      <th>Summary_name</th>\n",
       "      <th>Summary_url</th>\n",
       "      <th>Summary_Floor_No</th>\n",
       "      <th>Summary_No_Rooms</th>\n",
       "      <th>Summary_No_Bathrooms</th>\n",
       "      <th>Summary_Area_m2</th>\n",
       "      <th>Summary_Add_ID</th>\n",
       "      <th>Summary_Publishing_Date</th>\n",
       "      <th>Summary_Price_EGP</th>\n",
       "      <th>Area</th>\n",
       "    </tr>\n",
       "  </thead>\n",
       "  <tbody>\n",
       "  </tbody>\n",
       "</table>\n",
       "</div>"
      ],
      "text/plain": [
       "Empty DataFrame\n",
       "Columns: [level_0, index, Summary_name, Summary_url, Summary_Floor_No, Summary_No_Rooms, Summary_No_Bathrooms, Summary_Area_m2, Summary_Add_ID, Summary_Publishing_Date, Summary_Price_EGP, Area]\n",
       "Index: []"
      ]
     },
     "execution_count": 84,
     "metadata": {},
     "output_type": "execute_result"
    }
   ],
   "source": [
    "no_area2=df16[df16['Summary_Area_m2']==\"NA\"]\n",
    "no_area2"
   ]
  },
  {
   "cell_type": "markdown",
   "id": "74697f70",
   "metadata": {},
   "source": [
    "Then we will work on the rows with nan values"
   ]
  },
  {
   "cell_type": "code",
   "execution_count": 85,
   "id": "4691751a",
   "metadata": {},
   "outputs": [
    {
     "name": "stderr",
     "output_type": "stream",
     "text": [
      "<ipython-input-85-b7b49dcb9dce>:1: SettingWithCopyWarning: \n",
      "A value is trying to be set on a copy of a slice from a DataFrame\n",
      "\n",
      "See the caveats in the documentation: https://pandas.pydata.org/pandas-docs/stable/user_guide/indexing.html#returning-a-view-versus-a-copy\n",
      "  no_area1.sort_values(by='Area',inplace=True)\n",
      "<ipython-input-85-b7b49dcb9dce>:2: SettingWithCopyWarning: \n",
      "A value is trying to be set on a copy of a slice from a DataFrame.\n",
      "Try using .loc[row_indexer,col_indexer] = value instead\n",
      "\n",
      "See the caveats in the documentation: https://pandas.pydata.org/pandas-docs/stable/user_guide/indexing.html#returning-a-view-versus-a-copy\n",
      "  no_area1['Area']=no_area1['Area'].apply(lambda x: x.split(' ')[0])\n"
     ]
    },
    {
     "data": {
      "text/html": [
       "<div>\n",
       "<style scoped>\n",
       "    .dataframe tbody tr th:only-of-type {\n",
       "        vertical-align: middle;\n",
       "    }\n",
       "\n",
       "    .dataframe tbody tr th {\n",
       "        vertical-align: top;\n",
       "    }\n",
       "\n",
       "    .dataframe thead th {\n",
       "        text-align: right;\n",
       "    }\n",
       "</style>\n",
       "<table border=\"1\" class=\"dataframe\">\n",
       "  <thead>\n",
       "    <tr style=\"text-align: right;\">\n",
       "      <th></th>\n",
       "      <th>level_0</th>\n",
       "      <th>index</th>\n",
       "      <th>Summary_name</th>\n",
       "      <th>Summary_url</th>\n",
       "      <th>Summary_Floor_No</th>\n",
       "      <th>Summary_No_Rooms</th>\n",
       "      <th>Summary_No_Bathrooms</th>\n",
       "      <th>Summary_Area_m2</th>\n",
       "      <th>Summary_Add_ID</th>\n",
       "      <th>Summary_Publishing_Date</th>\n",
       "      <th>Summary_Price_EGP</th>\n",
       "      <th>Area</th>\n",
       "    </tr>\n",
       "  </thead>\n",
       "  <tbody>\n",
       "    <tr>\n",
       "      <th>389</th>\n",
       "      <td>264</td>\n",
       "      <td>127</td>\n",
       "      <td>Apartments Semi Finished For Sale in New Helio...</td>\n",
       "      <td>https://aqarmap.com.eg/en/listing/3099488-for-...</td>\n",
       "      <td>5</td>\n",
       "      <td>3</td>\n",
       "      <td>2</td>\n",
       "      <td>NaN</td>\n",
       "      <td>EG-3099488</td>\n",
       "      <td>NA</td>\n",
       "      <td>968,000</td>\n",
       "      <td>144</td>\n",
       "    </tr>\n",
       "    <tr>\n",
       "      <th>394</th>\n",
       "      <td>269</td>\n",
       "      <td>133</td>\n",
       "      <td>امتلك شقتك في قلب المعادي بجوار نادي وادي دجله...</td>\n",
       "      <td>https://aqarmap.com.eg/en/listing/3119088-for-...</td>\n",
       "      <td>3</td>\n",
       "      <td>3</td>\n",
       "      <td>2</td>\n",
       "      <td>NaN</td>\n",
       "      <td>EG-3119088</td>\n",
       "      <td>27/12/2021</td>\n",
       "      <td>1,187,000</td>\n",
       "      <td>145</td>\n",
       "    </tr>\n",
       "  </tbody>\n",
       "</table>\n",
       "</div>"
      ],
      "text/plain": [
       "     level_0  index                                       Summary_name  \\\n",
       "389      264    127  Apartments Semi Finished For Sale in New Helio...   \n",
       "394      269    133  امتلك شقتك في قلب المعادي بجوار نادي وادي دجله...   \n",
       "\n",
       "                                           Summary_url  Summary_Floor_No  \\\n",
       "389  https://aqarmap.com.eg/en/listing/3099488-for-...                 5   \n",
       "394  https://aqarmap.com.eg/en/listing/3119088-for-...                 3   \n",
       "\n",
       "     Summary_No_Rooms  Summary_No_Bathrooms  Summary_Area_m2 Summary_Add_ID  \\\n",
       "389                 3                     2              NaN     EG-3099488   \n",
       "394                 3                     2              NaN     EG-3119088   \n",
       "\n",
       "    Summary_Publishing_Date Summary_Price_EGP Area  \n",
       "389                      NA           968,000  144  \n",
       "394              27/12/2021         1,187,000  145  "
      ]
     },
     "execution_count": 85,
     "metadata": {},
     "output_type": "execute_result"
    }
   ],
   "source": [
    "no_area1.sort_values(by='Area',inplace=True)\n",
    "no_area1['Area']=no_area1['Area'].apply(lambda x: x.split(' ')[0])\n",
    "no_area1.head(2)"
   ]
  },
  {
   "cell_type": "code",
   "execution_count": 86,
   "id": "cfb7705e",
   "metadata": {},
   "outputs": [
    {
     "data": {
      "text/plain": [
       "array(['144', '145', '150', '155', '160', '162', '166', '174', '175',\n",
       "       '184', '185', '258', '259', 'Palm'], dtype=object)"
      ]
     },
     "execution_count": 86,
     "metadata": {},
     "output_type": "execute_result"
    }
   ],
   "source": [
    "no_area1['Area'].unique()"
   ]
  },
  {
   "cell_type": "markdown",
   "id": "0567d63d",
   "metadata": {},
   "source": [
    "We only have an incorrect value \"Palm\". Let's drop this row and update the area value in the original column"
   ]
  },
  {
   "cell_type": "code",
   "execution_count": 87,
   "id": "505652cf",
   "metadata": {},
   "outputs": [
    {
     "data": {
      "text/plain": [
       "385"
      ]
     },
     "execution_count": 87,
     "metadata": {},
     "output_type": "execute_result"
    }
   ],
   "source": [
    "# Writing the value of palm by hand might not be the best practice, because we should use automated process and avoid hard \n",
    "# coding so that we could maintain the code re-producability with other datasets. But I'm using it due to time limitation.\n",
    "\n",
    "ind=no_area1[no_area1['Area']== \"Palm\"].index[0]\n",
    "ind"
   ]
  },
  {
   "cell_type": "code",
   "execution_count": 88,
   "id": "500d55b9",
   "metadata": {
    "scrolled": true
   },
   "outputs": [
    {
     "data": {
      "text/plain": [
       "array(['144', '145', '150', '155', '160', '162', '166', '174', '175',\n",
       "       '184', '185', '258', '259'], dtype=object)"
      ]
     },
     "execution_count": 88,
     "metadata": {},
     "output_type": "execute_result"
    }
   ],
   "source": [
    "no_area3=no_area1.drop(axis=0, index=ind)\n",
    "no_area3['Summary_Area_m2']=no_area3['Area']\n",
    "no_area3['Summary_Area_m2'].unique()"
   ]
  },
  {
   "cell_type": "markdown",
   "id": "20c3ab7a",
   "metadata": {},
   "source": [
    "We can now drop the old rows and add the updated ones, also let's change the type to float"
   ]
  },
  {
   "cell_type": "code",
   "execution_count": 89,
   "id": "a8ccc9dd",
   "metadata": {},
   "outputs": [
    {
     "data": {
      "text/plain": [
       "397"
      ]
     },
     "execution_count": 89,
     "metadata": {},
     "output_type": "execute_result"
    }
   ],
   "source": [
    "df17=df16.drop(axis=0, index=no_area3.index)\n",
    "df18=pd.concat([df17, no_area3])\n",
    "df18.drop(axis=0, index=ind, inplace=True)\n",
    "df18['Summary_Area_m2']=df18['Summary_Area_m2'].astype('float')\n",
    "len(df18)"
   ]
  },
  {
   "cell_type": "markdown",
   "id": "778c0ba1",
   "metadata": {},
   "source": [
    "Now let's work on the same steps to update the price value"
   ]
  },
  {
   "cell_type": "code",
   "execution_count": 90,
   "id": "3c2c325d",
   "metadata": {},
   "outputs": [
    {
     "data": {
      "text/html": [
       "<div>\n",
       "<style scoped>\n",
       "    .dataframe tbody tr th:only-of-type {\n",
       "        vertical-align: middle;\n",
       "    }\n",
       "\n",
       "    .dataframe tbody tr th {\n",
       "        vertical-align: top;\n",
       "    }\n",
       "\n",
       "    .dataframe thead th {\n",
       "        text-align: right;\n",
       "    }\n",
       "</style>\n",
       "<table border=\"1\" class=\"dataframe\">\n",
       "  <thead>\n",
       "    <tr style=\"text-align: right;\">\n",
       "      <th></th>\n",
       "      <th>level_0</th>\n",
       "      <th>index</th>\n",
       "      <th>Summary_name</th>\n",
       "      <th>Summary_url</th>\n",
       "      <th>Summary_Floor_No</th>\n",
       "      <th>Summary_No_Rooms</th>\n",
       "      <th>Summary_No_Bathrooms</th>\n",
       "      <th>Summary_Area_m2</th>\n",
       "      <th>Summary_Add_ID</th>\n",
       "      <th>Summary_Publishing_Date</th>\n",
       "      <th>Summary_Price_EGP</th>\n",
       "      <th>Area</th>\n",
       "      <th>Price</th>\n",
       "    </tr>\n",
       "  </thead>\n",
       "  <tbody>\n",
       "    <tr>\n",
       "      <th>0</th>\n",
       "      <td>0</td>\n",
       "      <td>143</td>\n",
       "      <td>فرصه لا تعوض\\nEl Marg, Greater Cairo\\n100 M² 3...</td>\n",
       "      <td>https://aqarmap.com.eg/en/listing/3133310-for-...</td>\n",
       "      <td>4</td>\n",
       "      <td>3</td>\n",
       "      <td>1</td>\n",
       "      <td>100.0</td>\n",
       "      <td>EG-3133310</td>\n",
       "      <td>05/01/2022</td>\n",
       "      <td>300,000</td>\n",
       "      <td>100 M² 3 1</td>\n",
       "      <td>300,000 EGP</td>\n",
       "    </tr>\n",
       "    <tr>\n",
       "      <th>1</th>\n",
       "      <td>1</td>\n",
       "      <td>5</td>\n",
       "      <td>شقة سوبر لوكس للبييع بمسطرد فرعي من شارع بور س...</td>\n",
       "      <td>https://aqarmap.com.eg/en/listing/3133765-for-...</td>\n",
       "      <td>5</td>\n",
       "      <td>2</td>\n",
       "      <td>1</td>\n",
       "      <td>100.0</td>\n",
       "      <td>EG-3133765</td>\n",
       "      <td>06/01/2022</td>\n",
       "      <td>300,000</td>\n",
       "      <td>100 M² 2 1</td>\n",
       "      <td>300,000 EGP</td>\n",
       "    </tr>\n",
       "  </tbody>\n",
       "</table>\n",
       "</div>"
      ],
      "text/plain": [
       "   level_0  index                                       Summary_name  \\\n",
       "0        0    143  فرصه لا تعوض\\nEl Marg, Greater Cairo\\n100 M² 3...   \n",
       "1        1      5  شقة سوبر لوكس للبييع بمسطرد فرعي من شارع بور س...   \n",
       "\n",
       "                                         Summary_url  Summary_Floor_No  \\\n",
       "0  https://aqarmap.com.eg/en/listing/3133310-for-...                 4   \n",
       "1  https://aqarmap.com.eg/en/listing/3133765-for-...                 5   \n",
       "\n",
       "   Summary_No_Rooms  Summary_No_Bathrooms  Summary_Area_m2 Summary_Add_ID  \\\n",
       "0                 3                     1            100.0     EG-3133310   \n",
       "1                 2                     1            100.0     EG-3133765   \n",
       "\n",
       "  Summary_Publishing_Date Summary_Price_EGP        Area        Price  \n",
       "0              05/01/2022           300,000  100 M² 3 1  300,000 EGP  \n",
       "1              06/01/2022           300,000  100 M² 2 1  300,000 EGP  "
      ]
     },
     "execution_count": 90,
     "metadata": {},
     "output_type": "execute_result"
    }
   ],
   "source": [
    "df18['Price']=df18['Summary_name'].apply(lambda x: x.split('\\n')[-1])\n",
    "df18.head(2)"
   ]
  },
  {
   "cell_type": "code",
   "execution_count": 91,
   "id": "1f9387d4",
   "metadata": {},
   "outputs": [
    {
     "name": "stdout",
     "output_type": "stream",
     "text": [
      "397\n"
     ]
    },
    {
     "data": {
      "text/plain": [
       "397"
      ]
     },
     "execution_count": 91,
     "metadata": {},
     "output_type": "execute_result"
    }
   ],
   "source": [
    "print(len(df18['Price']))\n",
    "df18['Price'].str.count('EGP').sum()"
   ]
  },
  {
   "cell_type": "markdown",
   "id": "204d9dcb",
   "metadata": {},
   "source": [
    "Let's check the null and NaN values in the original \"'Summary_Price_EGP'\" column "
   ]
  },
  {
   "cell_type": "code",
   "execution_count": 92,
   "id": "1294b220",
   "metadata": {},
   "outputs": [
    {
     "data": {
      "text/plain": [
       "286"
      ]
     },
     "execution_count": 92,
     "metadata": {},
     "output_type": "execute_result"
    }
   ],
   "source": [
    "no_prc1=df18[df18['Summary_Price_EGP'].isna()]\n",
    "len(no_prc1)"
   ]
  },
  {
   "cell_type": "code",
   "execution_count": 93,
   "id": "00362931",
   "metadata": {},
   "outputs": [
    {
     "data": {
      "text/plain": [
       "0"
      ]
     },
     "execution_count": 93,
     "metadata": {},
     "output_type": "execute_result"
    }
   ],
   "source": [
    "no_prc2=df18[df18['Summary_Price_EGP']==\"NA\"]\n",
    "len(no_prc2)"
   ]
  },
  {
   "cell_type": "code",
   "execution_count": 94,
   "id": "958ba8fe",
   "metadata": {},
   "outputs": [
    {
     "name": "stderr",
     "output_type": "stream",
     "text": [
      "<ipython-input-94-9e25ec334d60>:1: SettingWithCopyWarning: \n",
      "A value is trying to be set on a copy of a slice from a DataFrame.\n",
      "Try using .loc[row_indexer,col_indexer] = value instead\n",
      "\n",
      "See the caveats in the documentation: https://pandas.pydata.org/pandas-docs/stable/user_guide/indexing.html#returning-a-view-versus-a-copy\n",
      "  no_prc1['Summary_Price_EGP']=no_prc1['Price']\n"
     ]
    },
    {
     "data": {
      "text/html": [
       "<div>\n",
       "<style scoped>\n",
       "    .dataframe tbody tr th:only-of-type {\n",
       "        vertical-align: middle;\n",
       "    }\n",
       "\n",
       "    .dataframe tbody tr th {\n",
       "        vertical-align: top;\n",
       "    }\n",
       "\n",
       "    .dataframe thead th {\n",
       "        text-align: right;\n",
       "    }\n",
       "</style>\n",
       "<table border=\"1\" class=\"dataframe\">\n",
       "  <thead>\n",
       "    <tr style=\"text-align: right;\">\n",
       "      <th></th>\n",
       "      <th>level_0</th>\n",
       "      <th>index</th>\n",
       "      <th>Summary_name</th>\n",
       "      <th>Summary_url</th>\n",
       "      <th>Summary_Floor_No</th>\n",
       "      <th>Summary_No_Rooms</th>\n",
       "      <th>Summary_No_Bathrooms</th>\n",
       "      <th>Summary_Area_m2</th>\n",
       "      <th>Summary_Add_ID</th>\n",
       "      <th>Summary_Publishing_Date</th>\n",
       "      <th>Summary_Price_EGP</th>\n",
       "      <th>Area</th>\n",
       "      <th>Price</th>\n",
       "    </tr>\n",
       "  </thead>\n",
       "  <tbody>\n",
       "    <tr>\n",
       "      <th>2</th>\n",
       "      <td>177</td>\n",
       "      <td>122</td>\n",
       "      <td>Apartments For sale in Kafr Nassar\\nكفر نصار, ...</td>\n",
       "      <td>https://aqarmap.com.eg/en/listing/3133298-for-...</td>\n",
       "      <td>11</td>\n",
       "      <td>3</td>\n",
       "      <td>1</td>\n",
       "      <td>100.0</td>\n",
       "      <td>EG-3133298</td>\n",
       "      <td>05/01/2022</td>\n",
       "      <td>255,000 EGP</td>\n",
       "      <td>100 M² 3 1</td>\n",
       "      <td>255,000 EGP</td>\n",
       "    </tr>\n",
       "    <tr>\n",
       "      <th>10</th>\n",
       "      <td>77</td>\n",
       "      <td>127</td>\n",
       "      <td>Apartments For sale in Dokki - D174\\nالدقي, ال...</td>\n",
       "      <td>https://aqarmap.com.eg/en/listing/3133243-for-...</td>\n",
       "      <td>8</td>\n",
       "      <td>2</td>\n",
       "      <td>2</td>\n",
       "      <td>108.0</td>\n",
       "      <td>EG-3133243</td>\n",
       "      <td>05/01/2022</td>\n",
       "      <td>1,500,000 EGP</td>\n",
       "      <td>108 M² 2 2</td>\n",
       "      <td>1,500,000 EGP</td>\n",
       "    </tr>\n",
       "  </tbody>\n",
       "</table>\n",
       "</div>"
      ],
      "text/plain": [
       "    level_0  index                                       Summary_name  \\\n",
       "2       177    122  Apartments For sale in Kafr Nassar\\nكفر نصار, ...   \n",
       "10       77    127  Apartments For sale in Dokki - D174\\nالدقي, ال...   \n",
       "\n",
       "                                          Summary_url  Summary_Floor_No  \\\n",
       "2   https://aqarmap.com.eg/en/listing/3133298-for-...                11   \n",
       "10  https://aqarmap.com.eg/en/listing/3133243-for-...                 8   \n",
       "\n",
       "    Summary_No_Rooms  Summary_No_Bathrooms  Summary_Area_m2 Summary_Add_ID  \\\n",
       "2                  3                     1            100.0     EG-3133298   \n",
       "10                 2                     2            108.0     EG-3133243   \n",
       "\n",
       "   Summary_Publishing_Date Summary_Price_EGP        Area          Price  \n",
       "2               05/01/2022       255,000 EGP  100 M² 3 1    255,000 EGP  \n",
       "10              05/01/2022     1,500,000 EGP  108 M² 2 2  1,500,000 EGP  "
      ]
     },
     "execution_count": 94,
     "metadata": {},
     "output_type": "execute_result"
    }
   ],
   "source": [
    "no_prc1['Summary_Price_EGP']=no_prc1['Price']\n",
    "no_prc1.head(2)"
   ]
  },
  {
   "cell_type": "code",
   "execution_count": 95,
   "id": "15a8bed0",
   "metadata": {},
   "outputs": [
    {
     "data": {
      "text/html": [
       "<div>\n",
       "<style scoped>\n",
       "    .dataframe tbody tr th:only-of-type {\n",
       "        vertical-align: middle;\n",
       "    }\n",
       "\n",
       "    .dataframe tbody tr th {\n",
       "        vertical-align: top;\n",
       "    }\n",
       "\n",
       "    .dataframe thead th {\n",
       "        text-align: right;\n",
       "    }\n",
       "</style>\n",
       "<table border=\"1\" class=\"dataframe\">\n",
       "  <thead>\n",
       "    <tr style=\"text-align: right;\">\n",
       "      <th></th>\n",
       "      <th>level_0</th>\n",
       "      <th>index</th>\n",
       "      <th>Summary_name</th>\n",
       "      <th>Summary_url</th>\n",
       "      <th>Summary_Floor_No</th>\n",
       "      <th>Summary_No_Rooms</th>\n",
       "      <th>Summary_No_Bathrooms</th>\n",
       "      <th>Summary_Area_m2</th>\n",
       "      <th>Summary_Add_ID</th>\n",
       "      <th>Summary_Publishing_Date</th>\n",
       "      <th>Summary_Price_EGP</th>\n",
       "      <th>Area</th>\n",
       "      <th>Price</th>\n",
       "    </tr>\n",
       "  </thead>\n",
       "  <tbody>\n",
       "    <tr>\n",
       "      <th>0</th>\n",
       "      <td>0</td>\n",
       "      <td>143</td>\n",
       "      <td>فرصه لا تعوض\\nEl Marg, Greater Cairo\\n100 M² 3...</td>\n",
       "      <td>https://aqarmap.com.eg/en/listing/3133310-for-...</td>\n",
       "      <td>4</td>\n",
       "      <td>3</td>\n",
       "      <td>1</td>\n",
       "      <td>100.0</td>\n",
       "      <td>EG-3133310</td>\n",
       "      <td>05/01/2022</td>\n",
       "      <td>300,000</td>\n",
       "      <td>100 M² 3 1</td>\n",
       "      <td>300,000 EGP</td>\n",
       "    </tr>\n",
       "    <tr>\n",
       "      <th>1</th>\n",
       "      <td>1</td>\n",
       "      <td>5</td>\n",
       "      <td>شقة سوبر لوكس للبييع بمسطرد فرعي من شارع بور س...</td>\n",
       "      <td>https://aqarmap.com.eg/en/listing/3133765-for-...</td>\n",
       "      <td>5</td>\n",
       "      <td>2</td>\n",
       "      <td>1</td>\n",
       "      <td>100.0</td>\n",
       "      <td>EG-3133765</td>\n",
       "      <td>06/01/2022</td>\n",
       "      <td>300,000</td>\n",
       "      <td>100 M² 2 1</td>\n",
       "      <td>300,000 EGP</td>\n",
       "    </tr>\n",
       "  </tbody>\n",
       "</table>\n",
       "</div>"
      ],
      "text/plain": [
       "   level_0  index                                       Summary_name  \\\n",
       "0        0    143  فرصه لا تعوض\\nEl Marg, Greater Cairo\\n100 M² 3...   \n",
       "1        1      5  شقة سوبر لوكس للبييع بمسطرد فرعي من شارع بور س...   \n",
       "\n",
       "                                         Summary_url  Summary_Floor_No  \\\n",
       "0  https://aqarmap.com.eg/en/listing/3133310-for-...                 4   \n",
       "1  https://aqarmap.com.eg/en/listing/3133765-for-...                 5   \n",
       "\n",
       "   Summary_No_Rooms  Summary_No_Bathrooms  Summary_Area_m2 Summary_Add_ID  \\\n",
       "0                 3                     1            100.0     EG-3133310   \n",
       "1                 2                     1            100.0     EG-3133765   \n",
       "\n",
       "  Summary_Publishing_Date Summary_Price_EGP        Area        Price  \n",
       "0              05/01/2022           300,000  100 M² 3 1  300,000 EGP  \n",
       "1              06/01/2022           300,000  100 M² 2 1  300,000 EGP  "
      ]
     },
     "execution_count": 95,
     "metadata": {},
     "output_type": "execute_result"
    }
   ],
   "source": [
    "df18.drop(axis=0, index=no_prc1.index, inplace=True)\n",
    "df18.head(2)"
   ]
  },
  {
   "cell_type": "code",
   "execution_count": 96,
   "id": "a21dba32",
   "metadata": {},
   "outputs": [
    {
     "data": {
      "text/plain": [
       "397"
      ]
     },
     "execution_count": 96,
     "metadata": {},
     "output_type": "execute_result"
    }
   ],
   "source": [
    "df19=pd.concat([df18,no_prc1])\n",
    "len(df19)"
   ]
  },
  {
   "cell_type": "markdown",
   "id": "6e1a5a08",
   "metadata": {},
   "source": [
    "Let's clean the price column by removing the \"EGP\" and changing the type to integer"
   ]
  },
  {
   "cell_type": "code",
   "execution_count": 97,
   "id": "033ffcb6",
   "metadata": {},
   "outputs": [
    {
     "data": {
      "text/html": [
       "<div>\n",
       "<style scoped>\n",
       "    .dataframe tbody tr th:only-of-type {\n",
       "        vertical-align: middle;\n",
       "    }\n",
       "\n",
       "    .dataframe tbody tr th {\n",
       "        vertical-align: top;\n",
       "    }\n",
       "\n",
       "    .dataframe thead th {\n",
       "        text-align: right;\n",
       "    }\n",
       "</style>\n",
       "<table border=\"1\" class=\"dataframe\">\n",
       "  <thead>\n",
       "    <tr style=\"text-align: right;\">\n",
       "      <th></th>\n",
       "      <th>level_0</th>\n",
       "      <th>index</th>\n",
       "      <th>Summary_name</th>\n",
       "      <th>Summary_url</th>\n",
       "      <th>Summary_Floor_No</th>\n",
       "      <th>Summary_No_Rooms</th>\n",
       "      <th>Summary_No_Bathrooms</th>\n",
       "      <th>Summary_Area_m2</th>\n",
       "      <th>Summary_Add_ID</th>\n",
       "      <th>Summary_Publishing_Date</th>\n",
       "      <th>Summary_Price_EGP</th>\n",
       "      <th>Area</th>\n",
       "      <th>Price</th>\n",
       "    </tr>\n",
       "  </thead>\n",
       "  <tbody>\n",
       "    <tr>\n",
       "      <th>0</th>\n",
       "      <td>0</td>\n",
       "      <td>143</td>\n",
       "      <td>فرصه لا تعوض\\nEl Marg, Greater Cairo\\n100 M² 3...</td>\n",
       "      <td>https://aqarmap.com.eg/en/listing/3133310-for-...</td>\n",
       "      <td>4</td>\n",
       "      <td>3</td>\n",
       "      <td>1</td>\n",
       "      <td>100.0</td>\n",
       "      <td>EG-3133310</td>\n",
       "      <td>05/01/2022</td>\n",
       "      <td>300000</td>\n",
       "      <td>100 M² 3 1</td>\n",
       "      <td>300,000 EGP</td>\n",
       "    </tr>\n",
       "    <tr>\n",
       "      <th>1</th>\n",
       "      <td>1</td>\n",
       "      <td>5</td>\n",
       "      <td>شقة سوبر لوكس للبييع بمسطرد فرعي من شارع بور س...</td>\n",
       "      <td>https://aqarmap.com.eg/en/listing/3133765-for-...</td>\n",
       "      <td>5</td>\n",
       "      <td>2</td>\n",
       "      <td>1</td>\n",
       "      <td>100.0</td>\n",
       "      <td>EG-3133765</td>\n",
       "      <td>06/01/2022</td>\n",
       "      <td>300000</td>\n",
       "      <td>100 M² 2 1</td>\n",
       "      <td>300,000 EGP</td>\n",
       "    </tr>\n",
       "  </tbody>\n",
       "</table>\n",
       "</div>"
      ],
      "text/plain": [
       "   level_0  index                                       Summary_name  \\\n",
       "0        0    143  فرصه لا تعوض\\nEl Marg, Greater Cairo\\n100 M² 3...   \n",
       "1        1      5  شقة سوبر لوكس للبييع بمسطرد فرعي من شارع بور س...   \n",
       "\n",
       "                                         Summary_url  Summary_Floor_No  \\\n",
       "0  https://aqarmap.com.eg/en/listing/3133310-for-...                 4   \n",
       "1  https://aqarmap.com.eg/en/listing/3133765-for-...                 5   \n",
       "\n",
       "   Summary_No_Rooms  Summary_No_Bathrooms  Summary_Area_m2 Summary_Add_ID  \\\n",
       "0                 3                     1            100.0     EG-3133310   \n",
       "1                 2                     1            100.0     EG-3133765   \n",
       "\n",
       "  Summary_Publishing_Date  Summary_Price_EGP        Area        Price  \n",
       "0              05/01/2022             300000  100 M² 3 1  300,000 EGP  \n",
       "1              06/01/2022             300000  100 M² 2 1  300,000 EGP  "
      ]
     },
     "execution_count": 97,
     "metadata": {},
     "output_type": "execute_result"
    }
   ],
   "source": [
    "df19['Summary_Price_EGP']=df19['Summary_Price_EGP'].str.replace(\" EGP\",\"\")\n",
    "df19['Summary_Price_EGP']=df19['Summary_Price_EGP'].apply(lambda x: x.replace(',',\"\"))\n",
    "df19['Summary_Price_EGP']=df19['Summary_Price_EGP'].apply(lambda x: int(x))\n",
    "\n",
    "df19.head(2)"
   ]
  },
  {
   "cell_type": "code",
   "execution_count": 98,
   "id": "24b1a0ac",
   "metadata": {
    "scrolled": true
   },
   "outputs": [
    {
     "data": {
      "text/plain": [
       "level_0                    0\n",
       "index                      0\n",
       "Summary_name               0\n",
       "Summary_url                0\n",
       "Summary_Floor_No           0\n",
       "Summary_No_Rooms           0\n",
       "Summary_No_Bathrooms       0\n",
       "Summary_Area_m2            0\n",
       "Summary_Add_ID             0\n",
       "Summary_Publishing_Date    0\n",
       "Summary_Price_EGP          0\n",
       "Area                       0\n",
       "Price                      0\n",
       "dtype: int64"
      ]
     },
     "execution_count": 98,
     "metadata": {},
     "output_type": "execute_result"
    }
   ],
   "source": [
    "df19.isnull().sum()"
   ]
  },
  {
   "cell_type": "code",
   "execution_count": 99,
   "id": "1408101b",
   "metadata": {},
   "outputs": [
    {
     "data": {
      "text/plain": [
       "[0, 0, 0, 0, 0, 0, 0, 0, 181, 12, 0, 0, 0]"
      ]
     },
     "execution_count": 99,
     "metadata": {},
     "output_type": "execute_result"
    }
   ],
   "source": [
    "[len(df19[df19[col]=='NA']) for col in df19.columns]"
   ]
  },
  {
   "cell_type": "code",
   "execution_count": 100,
   "id": "be298039",
   "metadata": {},
   "outputs": [
    {
     "data": {
      "text/plain": [
       "Index(['level_0', 'index', 'Summary_name', 'Summary_url', 'Summary_Floor_No',\n",
       "       'Summary_No_Rooms', 'Summary_No_Bathrooms', 'Summary_Area_m2',\n",
       "       'Summary_Add_ID', 'Summary_Publishing_Date', 'Summary_Price_EGP',\n",
       "       'Area', 'Price'],\n",
       "      dtype='object')"
      ]
     },
     "execution_count": 100,
     "metadata": {},
     "output_type": "execute_result"
    }
   ],
   "source": [
    "df19.columns"
   ]
  },
  {
   "cell_type": "markdown",
   "id": "1f2bde8b",
   "metadata": {},
   "source": [
    "It's worth mentioning that the \"Summary_Add_ID\" column doesn't include useful data that is related to the house, so we can drop it. But before we do so, we can use it to impute the missing values in the date column, because the more recent the ad was, the larger its number would be"
   ]
  },
  {
   "cell_type": "code",
   "execution_count": 101,
   "id": "6370f5e3",
   "metadata": {},
   "outputs": [
    {
     "data": {
      "text/html": [
       "<div>\n",
       "<style scoped>\n",
       "    .dataframe tbody tr th:only-of-type {\n",
       "        vertical-align: middle;\n",
       "    }\n",
       "\n",
       "    .dataframe tbody tr th {\n",
       "        vertical-align: top;\n",
       "    }\n",
       "\n",
       "    .dataframe thead th {\n",
       "        text-align: right;\n",
       "    }\n",
       "</style>\n",
       "<table border=\"1\" class=\"dataframe\">\n",
       "  <thead>\n",
       "    <tr style=\"text-align: right;\">\n",
       "      <th></th>\n",
       "      <th>level_0</th>\n",
       "      <th>index</th>\n",
       "      <th>Summary_name</th>\n",
       "      <th>Summary_url</th>\n",
       "      <th>Summary_Floor_No</th>\n",
       "      <th>Summary_No_Rooms</th>\n",
       "      <th>Summary_No_Bathrooms</th>\n",
       "      <th>Summary_Area_m2</th>\n",
       "      <th>Summary_Add_ID</th>\n",
       "      <th>Summary_Publishing_Date</th>\n",
       "      <th>Summary_Price_EGP</th>\n",
       "      <th>Area</th>\n",
       "      <th>Price</th>\n",
       "    </tr>\n",
       "  </thead>\n",
       "  <tbody>\n",
       "    <tr>\n",
       "      <th>58</th>\n",
       "      <td>167</td>\n",
       "      <td>8</td>\n",
       "      <td>Apartment 138 m for sale in Kattameya Gate, th...</td>\n",
       "      <td>https://aqarmap.com.eg/en/listing/1067133-proj...</td>\n",
       "      <td>2</td>\n",
       "      <td>4</td>\n",
       "      <td>2</td>\n",
       "      <td>138.0</td>\n",
       "      <td>EG-1067133</td>\n",
       "      <td>NA</td>\n",
       "      <td>1945800</td>\n",
       "      <td>138 M² 4 2</td>\n",
       "      <td>1,945,800 EGP</td>\n",
       "    </tr>\n",
       "    <tr>\n",
       "      <th>8</th>\n",
       "      <td>160</td>\n",
       "      <td>9</td>\n",
       "      <td>Apartment 107 m for sale in Kattameya Gate apa...</td>\n",
       "      <td>https://aqarmap.com.eg/en/listing/1067142-proj...</td>\n",
       "      <td>2</td>\n",
       "      <td>2</td>\n",
       "      <td>2</td>\n",
       "      <td>107.0</td>\n",
       "      <td>EG-1067142</td>\n",
       "      <td>NA</td>\n",
       "      <td>1433800</td>\n",
       "      <td>107 M² 2 2</td>\n",
       "      <td>1,433,800 EGP</td>\n",
       "    </tr>\n",
       "  </tbody>\n",
       "</table>\n",
       "</div>"
      ],
      "text/plain": [
       "    level_0  index                                       Summary_name  \\\n",
       "58      167      8  Apartment 138 m for sale in Kattameya Gate, th...   \n",
       "8       160      9  Apartment 107 m for sale in Kattameya Gate apa...   \n",
       "\n",
       "                                          Summary_url  Summary_Floor_No  \\\n",
       "58  https://aqarmap.com.eg/en/listing/1067133-proj...                 2   \n",
       "8   https://aqarmap.com.eg/en/listing/1067142-proj...                 2   \n",
       "\n",
       "    Summary_No_Rooms  Summary_No_Bathrooms  Summary_Area_m2 Summary_Add_ID  \\\n",
       "58                 4                     2            138.0     EG-1067133   \n",
       "8                  2                     2            107.0     EG-1067142   \n",
       "\n",
       "   Summary_Publishing_Date  Summary_Price_EGP        Area          Price  \n",
       "58                      NA            1945800  138 M² 4 2  1,945,800 EGP  \n",
       "8                       NA            1433800  107 M² 2 2  1,433,800 EGP  "
      ]
     },
     "execution_count": 101,
     "metadata": {},
     "output_type": "execute_result"
    }
   ],
   "source": [
    "df20=df19.sort_values(by='Summary_Add_ID')\n",
    "df20.head(2)"
   ]
  },
  {
   "cell_type": "code",
   "execution_count": 102,
   "id": "14981fa6",
   "metadata": {},
   "outputs": [],
   "source": [
    "df20['Summary_Publishing_Date'].replace(\"NA\", np.nan, inplace=True)"
   ]
  },
  {
   "cell_type": "code",
   "execution_count": 103,
   "id": "9a7262f1",
   "metadata": {},
   "outputs": [
    {
     "data": {
      "text/html": [
       "<div>\n",
       "<style scoped>\n",
       "    .dataframe tbody tr th:only-of-type {\n",
       "        vertical-align: middle;\n",
       "    }\n",
       "\n",
       "    .dataframe tbody tr th {\n",
       "        vertical-align: top;\n",
       "    }\n",
       "\n",
       "    .dataframe thead th {\n",
       "        text-align: right;\n",
       "    }\n",
       "</style>\n",
       "<table border=\"1\" class=\"dataframe\">\n",
       "  <thead>\n",
       "    <tr style=\"text-align: right;\">\n",
       "      <th></th>\n",
       "      <th>level_0</th>\n",
       "      <th>index</th>\n",
       "      <th>Summary_name</th>\n",
       "      <th>Summary_url</th>\n",
       "      <th>Summary_Floor_No</th>\n",
       "      <th>Summary_No_Rooms</th>\n",
       "      <th>Summary_No_Bathrooms</th>\n",
       "      <th>Summary_Area_m2</th>\n",
       "      <th>Summary_Add_ID</th>\n",
       "      <th>Summary_Publishing_Date</th>\n",
       "      <th>Summary_Price_EGP</th>\n",
       "      <th>Area</th>\n",
       "      <th>Price</th>\n",
       "    </tr>\n",
       "  </thead>\n",
       "  <tbody>\n",
       "    <tr>\n",
       "      <th>58</th>\n",
       "      <td>167</td>\n",
       "      <td>8</td>\n",
       "      <td>Apartment 138 m for sale in Kattameya Gate, th...</td>\n",
       "      <td>https://aqarmap.com.eg/en/listing/1067133-proj...</td>\n",
       "      <td>2</td>\n",
       "      <td>4</td>\n",
       "      <td>2</td>\n",
       "      <td>138.0</td>\n",
       "      <td>EG-1067133</td>\n",
       "      <td>NaN</td>\n",
       "      <td>1945800</td>\n",
       "      <td>138 M² 4 2</td>\n",
       "      <td>1,945,800 EGP</td>\n",
       "    </tr>\n",
       "    <tr>\n",
       "      <th>8</th>\n",
       "      <td>160</td>\n",
       "      <td>9</td>\n",
       "      <td>Apartment 107 m for sale in Kattameya Gate apa...</td>\n",
       "      <td>https://aqarmap.com.eg/en/listing/1067142-proj...</td>\n",
       "      <td>2</td>\n",
       "      <td>2</td>\n",
       "      <td>2</td>\n",
       "      <td>107.0</td>\n",
       "      <td>EG-1067142</td>\n",
       "      <td>NaN</td>\n",
       "      <td>1433800</td>\n",
       "      <td>107 M² 2 2</td>\n",
       "      <td>1,433,800 EGP</td>\n",
       "    </tr>\n",
       "    <tr>\n",
       "      <th>109</th>\n",
       "      <td>255</td>\n",
       "      <td>132</td>\n",
       "      <td>Apartments Semi Finished For Sale in New Helio...</td>\n",
       "      <td>https://aqarmap.com.eg/en/listing/2888841-for-...</td>\n",
       "      <td>0</td>\n",
       "      <td>3</td>\n",
       "      <td>3</td>\n",
       "      <td>150.0</td>\n",
       "      <td>EG-2888841</td>\n",
       "      <td>06/07/2021</td>\n",
       "      <td>774000</td>\n",
       "      <td>150 M² 3 3</td>\n",
       "      <td>774,000 EGP</td>\n",
       "    </tr>\n",
       "  </tbody>\n",
       "</table>\n",
       "</div>"
      ],
      "text/plain": [
       "     level_0  index                                       Summary_name  \\\n",
       "58       167      8  Apartment 138 m for sale in Kattameya Gate, th...   \n",
       "8        160      9  Apartment 107 m for sale in Kattameya Gate apa...   \n",
       "109      255    132  Apartments Semi Finished For Sale in New Helio...   \n",
       "\n",
       "                                           Summary_url  Summary_Floor_No  \\\n",
       "58   https://aqarmap.com.eg/en/listing/1067133-proj...                 2   \n",
       "8    https://aqarmap.com.eg/en/listing/1067142-proj...                 2   \n",
       "109  https://aqarmap.com.eg/en/listing/2888841-for-...                 0   \n",
       "\n",
       "     Summary_No_Rooms  Summary_No_Bathrooms  Summary_Area_m2 Summary_Add_ID  \\\n",
       "58                  4                     2            138.0     EG-1067133   \n",
       "8                   2                     2            107.0     EG-1067142   \n",
       "109                 3                     3            150.0     EG-2888841   \n",
       "\n",
       "    Summary_Publishing_Date  Summary_Price_EGP        Area          Price  \n",
       "58                      NaN            1945800  138 M² 4 2  1,945,800 EGP  \n",
       "8                       NaN            1433800  107 M² 2 2  1,433,800 EGP  \n",
       "109              06/07/2021             774000  150 M² 3 3    774,000 EGP  "
      ]
     },
     "execution_count": 103,
     "metadata": {},
     "output_type": "execute_result"
    }
   ],
   "source": [
    "df20['Summary_Publishing_Date'].fillna( method=\"ffill\", inplace=True)\n",
    "df20.head(3)"
   ]
  },
  {
   "cell_type": "markdown",
   "id": "606944d0",
   "metadata": {},
   "source": [
    "It seems that imputation didn't work on the first 2 rows because it didn't find their previous values to use. So we can impute again using bfill argument."
   ]
  },
  {
   "cell_type": "code",
   "execution_count": 104,
   "id": "5fec0cb3",
   "metadata": {},
   "outputs": [
    {
     "data": {
      "text/html": [
       "<div>\n",
       "<style scoped>\n",
       "    .dataframe tbody tr th:only-of-type {\n",
       "        vertical-align: middle;\n",
       "    }\n",
       "\n",
       "    .dataframe tbody tr th {\n",
       "        vertical-align: top;\n",
       "    }\n",
       "\n",
       "    .dataframe thead th {\n",
       "        text-align: right;\n",
       "    }\n",
       "</style>\n",
       "<table border=\"1\" class=\"dataframe\">\n",
       "  <thead>\n",
       "    <tr style=\"text-align: right;\">\n",
       "      <th></th>\n",
       "      <th>level_0</th>\n",
       "      <th>index</th>\n",
       "      <th>Summary_name</th>\n",
       "      <th>Summary_url</th>\n",
       "      <th>Summary_Floor_No</th>\n",
       "      <th>Summary_No_Rooms</th>\n",
       "      <th>Summary_No_Bathrooms</th>\n",
       "      <th>Summary_Area_m2</th>\n",
       "      <th>Summary_Add_ID</th>\n",
       "      <th>Summary_Publishing_Date</th>\n",
       "      <th>Summary_Price_EGP</th>\n",
       "      <th>Area</th>\n",
       "      <th>Price</th>\n",
       "    </tr>\n",
       "  </thead>\n",
       "  <tbody>\n",
       "    <tr>\n",
       "      <th>58</th>\n",
       "      <td>167</td>\n",
       "      <td>8</td>\n",
       "      <td>Apartment 138 m for sale in Kattameya Gate, th...</td>\n",
       "      <td>https://aqarmap.com.eg/en/listing/1067133-proj...</td>\n",
       "      <td>2</td>\n",
       "      <td>4</td>\n",
       "      <td>2</td>\n",
       "      <td>138.0</td>\n",
       "      <td>EG-1067133</td>\n",
       "      <td>2021-06-07</td>\n",
       "      <td>1945800</td>\n",
       "      <td>138 M² 4 2</td>\n",
       "      <td>1,945,800 EGP</td>\n",
       "    </tr>\n",
       "    <tr>\n",
       "      <th>8</th>\n",
       "      <td>160</td>\n",
       "      <td>9</td>\n",
       "      <td>Apartment 107 m for sale in Kattameya Gate apa...</td>\n",
       "      <td>https://aqarmap.com.eg/en/listing/1067142-proj...</td>\n",
       "      <td>2</td>\n",
       "      <td>2</td>\n",
       "      <td>2</td>\n",
       "      <td>107.0</td>\n",
       "      <td>EG-1067142</td>\n",
       "      <td>2021-06-07</td>\n",
       "      <td>1433800</td>\n",
       "      <td>107 M² 2 2</td>\n",
       "      <td>1,433,800 EGP</td>\n",
       "    </tr>\n",
       "    <tr>\n",
       "      <th>109</th>\n",
       "      <td>255</td>\n",
       "      <td>132</td>\n",
       "      <td>Apartments Semi Finished For Sale in New Helio...</td>\n",
       "      <td>https://aqarmap.com.eg/en/listing/2888841-for-...</td>\n",
       "      <td>0</td>\n",
       "      <td>3</td>\n",
       "      <td>3</td>\n",
       "      <td>150.0</td>\n",
       "      <td>EG-2888841</td>\n",
       "      <td>2021-06-07</td>\n",
       "      <td>774000</td>\n",
       "      <td>150 M² 3 3</td>\n",
       "      <td>774,000 EGP</td>\n",
       "    </tr>\n",
       "  </tbody>\n",
       "</table>\n",
       "</div>"
      ],
      "text/plain": [
       "     level_0  index                                       Summary_name  \\\n",
       "58       167      8  Apartment 138 m for sale in Kattameya Gate, th...   \n",
       "8        160      9  Apartment 107 m for sale in Kattameya Gate apa...   \n",
       "109      255    132  Apartments Semi Finished For Sale in New Helio...   \n",
       "\n",
       "                                           Summary_url  Summary_Floor_No  \\\n",
       "58   https://aqarmap.com.eg/en/listing/1067133-proj...                 2   \n",
       "8    https://aqarmap.com.eg/en/listing/1067142-proj...                 2   \n",
       "109  https://aqarmap.com.eg/en/listing/2888841-for-...                 0   \n",
       "\n",
       "     Summary_No_Rooms  Summary_No_Bathrooms  Summary_Area_m2 Summary_Add_ID  \\\n",
       "58                  4                     2            138.0     EG-1067133   \n",
       "8                   2                     2            107.0     EG-1067142   \n",
       "109                 3                     3            150.0     EG-2888841   \n",
       "\n",
       "    Summary_Publishing_Date  Summary_Price_EGP        Area          Price  \n",
       "58               2021-06-07            1945800  138 M² 4 2  1,945,800 EGP  \n",
       "8                2021-06-07            1433800  107 M² 2 2  1,433,800 EGP  \n",
       "109              2021-06-07             774000  150 M² 3 3    774,000 EGP  "
      ]
     },
     "execution_count": 104,
     "metadata": {},
     "output_type": "execute_result"
    }
   ],
   "source": [
    "df20['Summary_Publishing_Date'].fillna( method=\"bfill\", inplace=True)\n",
    "# Let's also change the value to date time format to facilitate the analysis\n",
    "df20['Summary_Publishing_Date']=df20['Summary_Publishing_Date'].apply(func=pd.to_datetime)\n",
    "df20.head(3)"
   ]
  },
  {
   "cell_type": "markdown",
   "id": "06ab9f52",
   "metadata": {},
   "source": [
    "The final sanity check.."
   ]
  },
  {
   "cell_type": "code",
   "execution_count": 105,
   "id": "b96fdb3a",
   "metadata": {},
   "outputs": [
    {
     "data": {
      "text/plain": [
       "level_0                    0\n",
       "index                      0\n",
       "Summary_name               0\n",
       "Summary_url                0\n",
       "Summary_Floor_No           0\n",
       "Summary_No_Rooms           0\n",
       "Summary_No_Bathrooms       0\n",
       "Summary_Area_m2            0\n",
       "Summary_Add_ID             0\n",
       "Summary_Publishing_Date    0\n",
       "Summary_Price_EGP          0\n",
       "Area                       0\n",
       "Price                      0\n",
       "dtype: int64"
      ]
     },
     "execution_count": 105,
     "metadata": {},
     "output_type": "execute_result"
    }
   ],
   "source": [
    "df20.isnull().sum()"
   ]
  },
  {
   "cell_type": "code",
   "execution_count": 106,
   "id": "c6601f79",
   "metadata": {},
   "outputs": [
    {
     "data": {
      "text/plain": [
       "[0, 0, 0, 0, 0, 0, 0, 0, 181, 0, 0, 0, 0]"
      ]
     },
     "execution_count": 106,
     "metadata": {},
     "output_type": "execute_result"
    }
   ],
   "source": [
    "[len(df20[df20[col]=='NA']) for col in df20.columns]"
   ]
  },
  {
   "cell_type": "markdown",
   "id": "d3f97e75",
   "metadata": {},
   "source": [
    "Good. Now all columns contain values. Let's drop the unneeded columns. "
   ]
  },
  {
   "cell_type": "code",
   "execution_count": 107,
   "id": "7599eeb3",
   "metadata": {},
   "outputs": [
    {
     "data": {
      "text/html": [
       "<div>\n",
       "<style scoped>\n",
       "    .dataframe tbody tr th:only-of-type {\n",
       "        vertical-align: middle;\n",
       "    }\n",
       "\n",
       "    .dataframe tbody tr th {\n",
       "        vertical-align: top;\n",
       "    }\n",
       "\n",
       "    .dataframe thead th {\n",
       "        text-align: right;\n",
       "    }\n",
       "</style>\n",
       "<table border=\"1\" class=\"dataframe\">\n",
       "  <thead>\n",
       "    <tr style=\"text-align: right;\">\n",
       "      <th></th>\n",
       "      <th>Summary_Floor_No</th>\n",
       "      <th>Summary_No_Rooms</th>\n",
       "      <th>Summary_No_Bathrooms</th>\n",
       "      <th>Summary_Area_m2</th>\n",
       "      <th>Summary_Publishing_Date</th>\n",
       "      <th>Summary_Price_EGP</th>\n",
       "    </tr>\n",
       "  </thead>\n",
       "  <tbody>\n",
       "    <tr>\n",
       "      <th>58</th>\n",
       "      <td>2</td>\n",
       "      <td>4</td>\n",
       "      <td>2</td>\n",
       "      <td>138.0</td>\n",
       "      <td>2021-06-07</td>\n",
       "      <td>1945800</td>\n",
       "    </tr>\n",
       "    <tr>\n",
       "      <th>8</th>\n",
       "      <td>2</td>\n",
       "      <td>2</td>\n",
       "      <td>2</td>\n",
       "      <td>107.0</td>\n",
       "      <td>2021-06-07</td>\n",
       "      <td>1433800</td>\n",
       "    </tr>\n",
       "  </tbody>\n",
       "</table>\n",
       "</div>"
      ],
      "text/plain": [
       "    Summary_Floor_No  Summary_No_Rooms  Summary_No_Bathrooms  Summary_Area_m2  \\\n",
       "58                 2                 4                     2            138.0   \n",
       "8                  2                 2                     2            107.0   \n",
       "\n",
       "   Summary_Publishing_Date  Summary_Price_EGP  \n",
       "58              2021-06-07            1945800  \n",
       "8               2021-06-07            1433800  "
      ]
     },
     "execution_count": 107,
     "metadata": {},
     "output_type": "execute_result"
    }
   ],
   "source": [
    "df21=df20.iloc[:, 4:-2]\n",
    "df21.drop(axis=1, labels='Summary_Add_ID', inplace=True)\n",
    "df21.head(2)"
   ]
  },
  {
   "cell_type": "code",
   "execution_count": 108,
   "id": "22dd88dc",
   "metadata": {},
   "outputs": [],
   "source": [
    "df21.reset_index(inplace=True)"
   ]
  },
  {
   "cell_type": "code",
   "execution_count": 109,
   "id": "e9777e04",
   "metadata": {},
   "outputs": [],
   "source": [
    "df21.drop(inplace=True, axis=1, labels='index')"
   ]
  },
  {
   "cell_type": "code",
   "execution_count": 110,
   "id": "182d0a7e",
   "metadata": {},
   "outputs": [
    {
     "data": {
      "text/html": [
       "<div>\n",
       "<style scoped>\n",
       "    .dataframe tbody tr th:only-of-type {\n",
       "        vertical-align: middle;\n",
       "    }\n",
       "\n",
       "    .dataframe tbody tr th {\n",
       "        vertical-align: top;\n",
       "    }\n",
       "\n",
       "    .dataframe thead th {\n",
       "        text-align: right;\n",
       "    }\n",
       "</style>\n",
       "<table border=\"1\" class=\"dataframe\">\n",
       "  <thead>\n",
       "    <tr style=\"text-align: right;\">\n",
       "      <th></th>\n",
       "      <th>Summary_Floor_No</th>\n",
       "      <th>Summary_No_Rooms</th>\n",
       "      <th>Summary_No_Bathrooms</th>\n",
       "      <th>Summary_Area_m2</th>\n",
       "      <th>Summary_Publishing_Date</th>\n",
       "      <th>Summary_Price_EGP</th>\n",
       "    </tr>\n",
       "  </thead>\n",
       "  <tbody>\n",
       "    <tr>\n",
       "      <th>0</th>\n",
       "      <td>2</td>\n",
       "      <td>4</td>\n",
       "      <td>2</td>\n",
       "      <td>138.0</td>\n",
       "      <td>2021-06-07</td>\n",
       "      <td>1945800</td>\n",
       "    </tr>\n",
       "    <tr>\n",
       "      <th>1</th>\n",
       "      <td>2</td>\n",
       "      <td>2</td>\n",
       "      <td>2</td>\n",
       "      <td>107.0</td>\n",
       "      <td>2021-06-07</td>\n",
       "      <td>1433800</td>\n",
       "    </tr>\n",
       "    <tr>\n",
       "      <th>2</th>\n",
       "      <td>0</td>\n",
       "      <td>3</td>\n",
       "      <td>3</td>\n",
       "      <td>150.0</td>\n",
       "      <td>2021-06-07</td>\n",
       "      <td>774000</td>\n",
       "    </tr>\n",
       "    <tr>\n",
       "      <th>3</th>\n",
       "      <td>0</td>\n",
       "      <td>3</td>\n",
       "      <td>3</td>\n",
       "      <td>175.0</td>\n",
       "      <td>2021-06-07</td>\n",
       "      <td>896000</td>\n",
       "    </tr>\n",
       "    <tr>\n",
       "      <th>4</th>\n",
       "      <td>6</td>\n",
       "      <td>3</td>\n",
       "      <td>2</td>\n",
       "      <td>120.0</td>\n",
       "      <td>2021-10-07</td>\n",
       "      <td>396000</td>\n",
       "    </tr>\n",
       "  </tbody>\n",
       "</table>\n",
       "</div>"
      ],
      "text/plain": [
       "   Summary_Floor_No  Summary_No_Rooms  Summary_No_Bathrooms  Summary_Area_m2  \\\n",
       "0                 2                 4                     2            138.0   \n",
       "1                 2                 2                     2            107.0   \n",
       "2                 0                 3                     3            150.0   \n",
       "3                 0                 3                     3            175.0   \n",
       "4                 6                 3                     2            120.0   \n",
       "\n",
       "  Summary_Publishing_Date  Summary_Price_EGP  \n",
       "0              2021-06-07            1945800  \n",
       "1              2021-06-07            1433800  \n",
       "2              2021-06-07             774000  \n",
       "3              2021-06-07             896000  \n",
       "4              2021-10-07             396000  "
      ]
     },
     "execution_count": 110,
     "metadata": {},
     "output_type": "execute_result"
    }
   ],
   "source": [
    "df21.head()"
   ]
  },
  {
   "cell_type": "code",
   "execution_count": 111,
   "id": "116c4771",
   "metadata": {},
   "outputs": [
    {
     "name": "stdout",
     "output_type": "stream",
     "text": [
      "<class 'pandas.core.frame.DataFrame'>\n",
      "RangeIndex: 397 entries, 0 to 396\n",
      "Data columns (total 6 columns):\n",
      " #   Column                   Non-Null Count  Dtype         \n",
      "---  ------                   --------------  -----         \n",
      " 0   Summary_Floor_No         397 non-null    int32         \n",
      " 1   Summary_No_Rooms         397 non-null    int32         \n",
      " 2   Summary_No_Bathrooms     397 non-null    int32         \n",
      " 3   Summary_Area_m2          397 non-null    float64       \n",
      " 4   Summary_Publishing_Date  397 non-null    datetime64[ns]\n",
      " 5   Summary_Price_EGP        397 non-null    int64         \n",
      "dtypes: datetime64[ns](1), float64(1), int32(3), int64(1)\n",
      "memory usage: 14.1 KB\n"
     ]
    }
   ],
   "source": [
    "df21.info()"
   ]
  },
  {
   "cell_type": "markdown",
   "id": "b1ffa03c",
   "metadata": {},
   "source": [
    "Lesson learned: I could have saved more time by investigating the \"Summary\" column from the beginning and extracting the missing values from it."
   ]
  },
  {
   "cell_type": "markdown",
   "id": "9b5fdc0f",
   "metadata": {},
   "source": [
    "Now, our data is ready for the analysis!"
   ]
  },
  {
   "cell_type": "markdown",
   "id": "adc90f68",
   "metadata": {},
   "source": [
    "#### Analyzing the data\n",
    "(Ahmed)"
   ]
  },
  {
   "cell_type": "code",
   "execution_count": null,
   "id": "d096183a",
   "metadata": {},
   "outputs": [],
   "source": []
  }
 ],
 "metadata": {
  "kernelspec": {
   "display_name": "Python 3",
   "language": "python",
   "name": "python3"
  },
  "language_info": {
   "codemirror_mode": {
    "name": "ipython",
    "version": 3
   },
   "file_extension": ".py",
   "mimetype": "text/x-python",
   "name": "python",
   "nbconvert_exporter": "python",
   "pygments_lexer": "ipython3",
   "version": "3.8.8"
  }
 },
 "nbformat": 4,
 "nbformat_minor": 5
}
